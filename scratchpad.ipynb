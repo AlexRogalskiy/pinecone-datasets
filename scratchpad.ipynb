{
 "cells": [
  {
   "cell_type": "code",
   "execution_count": 12,
   "metadata": {},
   "outputs": [],
   "source": [
    "import pinecone"
   ]
  },
  {
   "cell_type": "code",
   "execution_count": 14,
   "metadata": {},
   "outputs": [],
   "source": [
    "pinecone.init(api_key=\"API_KEY\", environment=\"us-west1-gcp\")"
   ]
  },
  {
   "cell_type": "code",
   "execution_count": 16,
   "metadata": {},
   "outputs": [],
   "source": [
    "pinecone.create_index(name=\"cc-news-notebook-index\", dimension=384, pod_type='s1')"
   ]
  },
  {
   "cell_type": "code",
   "execution_count": 3,
   "metadata": {},
   "outputs": [],
   "source": [
    "from datasets import list_public_datasets, load_public_dataset"
   ]
  },
  {
   "cell_type": "code",
   "execution_count": 4,
   "metadata": {},
   "outputs": [
    {
     "data": {
      "text/plain": [
       "['cc-news_msmarco-MiniLM-L6-cos-v5']"
      ]
     },
     "execution_count": 4,
     "metadata": {},
     "output_type": "execute_result"
    }
   ],
   "source": [
    "list_public_datasets()"
   ]
  },
  {
   "cell_type": "code",
   "execution_count": 5,
   "metadata": {},
   "outputs": [],
   "source": [
    "dataset = load_public_dataset(\"cc-news_msmarco-MiniLM-L6-cos-v5\")"
   ]
  },
  {
   "cell_type": "code",
   "execution_count": 8,
   "metadata": {},
   "outputs": [
    {
     "name": "stdout",
     "output_type": "stream",
     "text": [
      "[{'id': '0', 'values': [0.11801417171955109, -0.06971687078475952, 0.02294970117509365, -0.04219575226306915, -0.03335767984390259, 0.08447737991809845, 0.01647576317191124, 0.11094070971012115, -0.06573085486888885, -0.06928417831659317, -0.026888806372880936, 0.015237070620059967, -0.07085587829351425, 0.045075368136167526, 0.06180352717638016, -0.024566497653722763, 0.10392855852842331, 0.003539985278621316, 0.014256730675697327, 0.0009048186475411057, -0.03079460933804512, -0.05178264528512955, -0.0633532851934433, -0.01674121990799904, 0.017702888697385788, -0.015244374983012676, 0.0019743333104997873, -0.08080808818340302, 0.011598404496908188, -0.03104502335190773, -0.012453855946660042, 0.010345333255827427, 0.03227289393544197, 0.06749101728200912, -0.0859346017241478, -0.05063982680439949, -0.06736496835947037, -0.008296691812574863, -0.01490370836108923, 0.032389793545007706, -0.08475399017333984, -0.06525031477212906, -0.02664000354707241, 0.02264072373509407, -0.012428375892341137, -0.043730027973651886, 0.019070344045758247, -0.0327189676463604, -0.031061680987477303, 0.09103305637836456, -0.02457490563392639, -0.005983778275549412, 0.029079971835017204, 0.042836692184209824, 0.026317160576581955, 0.06495130062103271, -0.009063958190381527, -0.017096050083637238, 0.11289124190807343, 0.004498808179050684, 0.0004337365971878171, 0.01082211546599865, -0.03566153347492218, -0.06345222890377045, -0.036966800689697266, -0.0561465248465538, 0.04396722838282585, -0.03678359463810921, 0.04382539540529251, -0.023229189217090607, 4.284300302970223e-05, -0.010661345906555653, -0.03868065029382706, -0.007640959694981575, 0.007432393729686737, 0.027352193370461464, 0.04055601358413696, -0.021818511188030243, -0.07291639596223831, -0.0704042911529541, -0.017415618523955345, -0.01895955204963684, -0.07826780527830124, 0.03163585066795349, -0.050076697021722794, 0.014969159848988056, 0.007186937611550093, 0.0376812182366848, -0.06756119430065155, 0.04118739441037178, 0.012198141776025295, 0.14958997070789337, 0.026621954515576363, 0.08620088547468185, -0.050303805619478226, 0.05247259512543678, 0.03673785924911499, 0.03345988690853119, 0.008739341981709003, -0.001279750606045127, -0.06213763728737831, 0.030000310391187668, 0.010694686323404312, 0.022068139165639877, -0.08272695541381836, -0.07233908772468567, 0.05017537996172905, 0.039101943373680115, -0.022371456027030945, -0.01606295444071293, 0.03747662901878357, 0.03811761736869812, -0.011885193176567554, 0.059937555342912674, -0.02882358804345131, 0.042439162731170654, 0.0528692789375782, 0.04041822999715805, -0.03315044566988945, 0.0035141389816999435, 0.10159029066562653, 0.0852510929107666, 0.030633993446826935, 0.053211841732263565, -0.052362844347953796, -0.030878571793437004, -0.02666606195271015, 0.03155882656574249, -0.02730320580303669, 0.09476972371339798, -0.0054619149304926395, 0.0733327642083168, -0.04149065911769867, 0.0061785755679011345, -0.05836678296327591, 0.018820269033312798, -0.04922187328338623, 0.0639256164431572, 0.038194164633750916, -0.002784647513180971, 0.001964217284694314, -0.16185343265533447, -0.02488594874739647, 0.035782590508461, 0.03750913590192795, -0.01087260153144598, -0.018407320603728294, 0.03801615908741951, 0.023521512746810913, 0.1215863823890686, -0.06075771152973175, -0.000569500494748354, 0.04303654655814171, 0.08615376800298691, 0.029733555391430855, -0.03019818291068077, 0.0140283377841115, 0.02277597039937973, 0.021738296374678612, -0.010631836950778961, -0.05853341147303581, 0.0044425358064472675, 0.08640661835670471, -0.09627231955528259, -0.05082230269908905, 0.003607744351029396, -0.011791507713496685, 0.029104087501764297, -0.09865038841962814, -0.09286368638277054, 0.00869013462215662, -0.037069372832775116, 0.00516417995095253, -0.02583891712129116, 0.0496346615254879, -0.04145965725183487, 0.08562379330396652, -0.034231677651405334, 0.02868916653096676, 0.007709849625825882, 0.04905242845416069, 0.0003221278893761337, 0.0521259605884552, 0.009352182038128376, -0.03809623420238495, -0.04955456778407097, 0.013347053900361061, 0.01346250344067812, 0.07006165385246277, 0.028005048632621765, -0.029183845967054367, -0.03208686783909798, -0.076470747590065, 0.04260226711630821, 0.03472118452191353, -0.019656281918287277, -0.018569044768810272, -0.043441761285066605, -0.01304580271244049, -0.012661402113735676, -0.04116436094045639, 0.021110104396939278, 0.016517722979187965, -0.04749245569109917, 0.06555455178022385, 0.017470842227339745, -0.044960156083106995, -0.047048214823007584, 0.02427925541996956, -0.008599702268838882, 0.10440704971551895, -0.032912299036979675, 0.024422315880656242, -0.02787499874830246, -0.0010298133129253983, 0.10240600258111954, -0.04268564283847809, 0.054453615099191666, 0.04417891427874565, 0.014215215109288692, -0.03125551715493202, 0.05658646300435066, 0.05441094562411308, 0.01618097350001335, -0.02691236324608326, 0.01165797095745802, 0.0022176809143275023, -0.04620001092553139, 0.03651498630642891, 0.05579131096601486, -0.04695466533303261, 0.0593767911195755, -0.00425858236849308, 0.010829810984432697, 0.040550023317337036, -0.0299062542617321, 0.017287757247686386, 0.039281100034713745, -0.0617339089512825, -0.0179356187582016, 0.028650915250182152, -0.0070831021293997765, -0.06884235888719559, -0.013819684274494648, 0.017242098227143288, 0.062480296939611435, -0.04478251188993454, 0.04225647449493408, -0.03256963938474655, 0.020858407020568848, 0.11397499591112137, 0.04632772132754326, -0.0820738896727562, 0.08838171511888504, -0.004351209383457899, -0.003724289359524846, -0.04880135878920555, -0.06468092650175095, 0.01735519804060459, -0.048366788774728775, -0.12982240319252014, -0.0547206848859787, -0.05465551093220711, 0.01719922013580799, -0.06726023554801941, 0.0340399295091629, 0.08634638786315918, -0.008843089453876019, -0.05915283039212227, 0.01011429913341999, 0.06613680720329285, 0.008957822807133198, -0.0036705397069454193, 0.03027215786278248, 0.006890980992466211, 0.02859250269830227, -0.009286448359489441, -0.06390807032585144, 0.04704778641462326, 0.04748409241437912, 0.056173667311668396, -0.0642196461558342, 0.07978426665067673, -0.020827151834964752, 0.05328192189335823, -0.023819491267204285, 0.16952703893184662, -0.12031417340040207, 0.0005597739364020526, 0.030083920806646347, 0.07209386676549911, -0.036899909377098083, -0.011742616072297096, 0.017727715894579887, 0.05050112307071686, -0.018391145393252373, -0.07785589247941971, -0.06382875889539719, 0.00690526282414794, 0.13502253592014313, -0.08443978428840637, 0.0716983899474144, 0.0019063918152824044, 0.0583958737552166, 0.030396699905395508, 0.07632941752672195, 0.006805648561567068, -0.05204470083117485, -0.011301589198410511, -0.005649620667099953, -0.039741795510053635, 0.006057344377040863, 0.047712668776512146, -0.01634461246430874, 0.007155346684157848, -0.07668004930019379, 0.09706800431013107, -0.07108241319656372, 0.031009230762720108, -0.022075368091464043, 0.02983247861266136, 0.04180143401026726, -0.0052949595265090466, -0.15026526153087616, 0.011879170313477516, 0.08301946520805359, 0.0003116625885013491, -0.04128650203347206, -0.023359080776572227, 0.08453036099672318, -0.006908457260578871, -0.03166673332452774, 0.033910833299160004, 0.014200439676642418, 0.0594806931912899, 0.004139163065701723, 0.020128384232521057, 0.015044615603983402, 0.03211694583296776, 0.09848136454820633, 0.009756017476320267, -0.0022804539185017347, 0.03563416376709938, 0.0012483308091759682, -0.0676078274846077, -0.0697731152176857, 0.02855140157043934, 0.08343863487243652, -0.05746159330010414, -0.024615919217467308, 0.03141046315431595, -0.08466151356697083, 0.005880768410861492, -0.08262820541858673, -0.043055154383182526, -0.018435943871736526, -0.05993688851594925, -0.07651207596063614, 0.0017752611311152577, 0.03750653192400932, 0.005664384458214045, -0.08645173162221909, -0.0014540111878886819, 0.0096425237134099, -0.0637865886092186, -0.016177544370293617, -0.026332629844546318, -0.09851889312267303, -0.08418142795562744, 0.046015407890081406, 0.033176735043525696, -0.07574834674596786, -0.0990544855594635, -0.07511648535728455, 0.026233632117509842, 0.005322340410202742, 0.00189600745216012, 0.03762705996632576, -0.082328662276268, 0.030731236562132835, -0.05863397195935249, -0.0014978911494836211, -0.022303203120827675, 0.006026501301676035], 'sparse_values': {'indices': [470065541, 52922727, 2021799277, 704678850, 131900689, 3162218338, 4172060285, 2852256900, 753185237, 691409538, 1009084850, 2204306146, 2482451809, 152217691, 3717508529, 4037269191, 408571802, 2994235176, 2641553256, 1416137321, 2328678717, 3458187042, 723937430, 2126841918, 1706587157, 3684474652, 4226881656, 1615138199, 2851137560, 2941713443, 3417188605, 2510335750, 1195004061, 2540159778, 2755325844, 1105706408, 3415614577, 3263800907, 753371676, 2733467792, 1827736854, 4037162160, 178465556, 1845866462, 2543655733, 21141582, 2257684172, 1979800029, 1063320047, 1181836714, 1153915709, 150695120, 3752870781, 2271072456, 2779594451, 1662505136, 572399988, 4274573547, 1372199004, 998468856, 4261826499, 2236453805], 'values': [3, 1, 1, 2, 4, 7, 3, 2, 1, 4, 2, 1, 1, 1, 3, 1, 1, 3, 2, 1, 1, 1, 2, 1, 1, 3, 1, 2, 1, 3, 5, 1, 1, 1, 1, 2, 1, 1, 2, 1, 1, 1, 1, 1, 1, 2, 1, 2, 2, 1, 1, 1, 1, 2, 1, 1, 1, 1, 1, 1, 1, 1]}, 'metadata': {'year': 2017, 'month': 12, 'source': 'other'}, 'blob': {'title': 'Daughter Duo is Dancing in The Same Company', 'text': 'There\\'s a surprising twist to Regina Willoughby\\'s last season with Columbia City Ballet: It\\'s also her 18-year-old daughter Melina\\'s first season with the company. Regina, 40, will retire from the stage in March, just as her daughter starts her own career as a trainee. But for this one season, they\\'re sharing the stage together.\\nPerforming Side-By-Side In The Nutcracker\\nRegina and Melina are not only dancing in the same Nutcracker this month, they\\'re onstage at the same time: Regina is doing Snow Queen, while Melina is in the snow corps, and they\\'re both in the Arabian divertissement. \"It\\'s very surreal to be dancing it together,\" says Regina. \"I don\\'t know that I ever thought Melina would take ballet this far.\"\\nLeft: Regina and Melina with another company member post-snow scene in 2003. Right: The pair post-snow scene in 2017 (in the same theater)\\nKeep reading at dancemagazine.com.', 'description': \"There's a surprising twist to Regina Willoughby's last season with\\xa0Columbia City Ballet: It's also her 18-year-old daughter Melina's first season with the company.\", 'url': 'http://www.pointemagazine.com/mother-daughter-duo-dancing-2516681965.html', 'image_url': 'https://pointe-img.rbl.ms/simage/https%3A%2F%2Fassets.rbl.ms%2F16807693%2F980x.png/2000%2C2000/3VnhNGWp75K4SwMx/img.png'}}, {'id': '1', 'values': [0.055344633758068085, 0.004219094756990671, 8.876796346157789e-05, -0.02810603380203247, 0.022122176364064217, 0.08680158853530884, 0.047679800540208817, -0.02655326947569847, -0.09792464226484299, 0.030048402026295662, -0.07911694049835205, 0.06640772521495819, -0.05729186162352562, 0.046354833990335464, 0.01756831631064415, 0.01679317094385624, -0.0006933413678780198, -0.014139986597001553, 0.11606936156749725, -0.006357917096465826, -0.051815465092659, -0.04003991559147835, -0.07421519607305527, 0.07741227000951767, 0.018661951646208763, -0.10797639191150665, 0.05292525142431259, -0.02792379818856716, -0.03775715082883835, 0.01272630039602518, -0.024501264095306396, -0.08671022206544876, 0.038355350494384766, 0.052646804600954056, -0.05654999241232872, 0.05198056623339653, -0.011041565798223019, 0.02405938133597374, -0.06170366704463959, 0.026347456499934196, -0.026222296059131622, 0.047120749950408936, -0.05467399209737778, 0.0245381910353899, -0.05666066333651543, 0.01489898283034563, -0.04587365686893463, -0.06778717786073685, -0.0766172781586647, 0.06264801323413849, -0.06339916586875916, -0.05779291316866875, -0.06913858652114868, -0.03563377261161804, 0.02597811259329319, 0.009927158243954182, -0.0035293966066092253, 0.0009450695943087339, 0.026823740452528, -0.08582832664251328, 0.009124411270022392, -0.0701327696442604, -0.05597652867436409, -0.05628654360771179, -0.02892437018454075, -0.029710402712225914, -0.02796214073896408, -0.026366213336586952, 0.0653805136680603, 0.022015437483787537, 0.025948042050004005, -0.08447747677564621, 0.07700829207897186, -0.05720292031764984, -0.03429726883769035, 0.06884091347455978, 0.06258177012205124, 0.04127094894647598, 0.06336431950330734, -0.04301117733120918, 0.04747414216399193, 0.05198764428496361, -0.03640727698802948, 0.0027398986276239157, 0.020373597741127014, 0.09373386949300766, -0.03226533159613609, -0.04253571853041649, 0.06235218793153763, 0.006898427847772837, 0.021368028596043587, 0.030285637825727463, 0.0048997788690030575, 0.010222029872238636, -0.009436377324163914, 0.04175776615738869, 0.03859984874725342, 0.023592252284288406, -0.04975864291191101, -0.008073406293988228, -0.03795452415943146, 0.04244254529476166, 0.047286223620176315, 0.09075285494327545, -0.1383436918258667, -0.1276542991399765, 0.07476195693016052, 0.04165259003639221, -0.03151475638151169, 0.03262218087911606, -0.0651644691824913, 0.05663040652871132, -0.08565902709960938, 0.04158162325620651, -0.004318795166909695, 0.04480498284101486, 0.034783560782670975, 0.07348134368658066, -0.0329924076795578, -0.02403605729341507, 0.08991777151823044, 0.05323834717273712, 0.023654673248529434, 0.0666956827044487, -0.07261672616004944, 0.04319404438138008, -0.11594206094741821, -0.0006203347002156079, 0.0706477090716362, 0.0909692645072937, -0.012282459065318108, 0.04140617325901985, 0.007542828563600779, -0.003071326296776533, -0.030594415962696075, -0.004458908457309008, 0.007728744298219681, 0.04782262071967125, 0.007177551742643118, -0.009723522700369358, 0.1390649676322937, -0.028570076450705528, 0.010476581752300262, -0.005309964995831251, 0.048683710396289825, -0.0509786456823349, -0.03050258569419384, 0.01966567151248455, -0.04205610603094101, 0.09037753194570541, -0.09432683140039444, 0.03607922047376633, -0.0508943647146225, 0.08541706204414368, -0.06740459054708481, 0.023692240938544273, -0.110011525452137, 0.07020650804042816, 0.028129668906331062, 0.039805274456739426, -0.035767652094364166, 0.04081529751420021, 0.0752408355474472, -0.07800555229187012, -0.08845102041959763, 0.007792635355144739, -0.022656606510281563, 0.00012745165440719575, -0.0754113644361496, -0.013721135444939137, -0.004300483036786318, -0.05649254098534584, -0.017325127497315407, -0.027242247015237808, 0.12581491470336914, -0.09052390605211258, 0.021666403859853745, -0.052278485149145126, 0.048066798597574234, 0.04937848821282387, 0.017063092440366745, 0.0016981521621346474, 0.09047450125217438, 0.029881883412599564, 0.003070190316066146, 0.035299766808748245, 0.0392935685813427, -0.024506190791726112, 0.048011936247348785, 0.040336523205041885, 0.03534521162509918, 0.04429636150598526, -0.0009300691890530288, 0.0028357896953821182, -0.004600042477250099, -0.019447337836027145, -0.0038363547064363956, -0.04287540912628174, 0.07768101245164871, 0.047073058784008026, -0.018084567040205002, 0.06562196463346481, -0.023887421935796738, 0.007938077673316002, 0.027839364483952522, 0.03995761275291443, 0.011870618909597397, -0.10713647305965424, 0.03641163185238838, -0.02527541294693947, 0.0006760145770385861, -0.008329729549586773, -0.003447664435952902, 0.01025316957384348, 0.08599677681922913, 0.06910333782434464, -0.024090362712740898, 0.12013185769319534, 0.0047181579284369946, -0.013997295871376991, 0.004435346927493811, 0.06983856111764908, -0.03332053869962692, 0.0371551513671875, -0.053582727909088135, -0.03157472610473633, 0.0134835010394454, -0.1802998185157776, -0.01543692871928215, 0.0039834026247262955, -0.04683356732130051, -0.10537593066692352, 0.0391857884824276, 0.04487902671098709, 0.020791783928871155, -0.024394122883677483, 0.045538049191236496, 0.021241819486021996, -0.07278481125831604, 0.05276450142264366, 0.043360184878110886, -0.04114562273025513, -0.03700326755642891, 0.07664573192596436, 0.08776377141475677, 0.07919542491436005, -0.05426976457238197, 0.02479521930217743, -0.07239113748073578, -0.020706182345747948, 0.1402832269668579, 0.05749300867319107, -0.07969013601541519, -0.026581304147839546, -0.019897861406207085, -0.022004395723342896, -0.0496634766459465, 0.035795822739601135, 0.06200433522462845, -0.0063965171575546265, -0.04494626820087433, 0.009726504795253277, -0.0742972195148468, -0.05722106620669365, -0.017397280782461166, 0.02041296288371086, 0.06679877638816833, 0.007715203333646059, 0.06271998584270477, -0.009184951893985271, 0.014114475809037685, -0.056797657161951065, -0.08829633891582489, 0.03302180394530296, -0.10248612612485886, -0.011834455654025078, -0.01708880625665188, 0.04593392089009285, 0.008226589299738407, -0.0024035009555518627, -0.03367460146546364, 0.029089076444506645, 0.04868708550930023, 0.036871105432510376, 0.07373388111591339, 0.022466592490673065, 0.04063773527741432, -0.03770456463098526, 0.0068734572269022465, 0.013778814114630222, 0.005265623331069946, 0.006755090318620205, -0.025000467896461487, 0.01009370293468237, -0.015866950154304504, -0.050129588693380356, -0.08214810490608215, 0.018963661044836044, -0.10951244086027145, 0.04014339670538902, 0.04066800698637962, -0.05577879399061203, -0.0340648777782917, -0.03439515084028244, 0.0021655207965523005, -0.005859923083335161, -0.015231569297611713, -0.03632456064224243, 0.022506844252347946, 0.08693551272153854, -0.03027169778943062, 0.01818922534584999, 0.0586889274418354, -0.03520652651786804, 0.0310589000582695, -0.014104173518717289, 0.07005242258310318, -0.07421109080314636, 0.07554817199707031, 0.03755539283156395, 0.04948872700333595, -0.062012314796447754, -0.0007799111190252006, -0.04473679140210152, 0.05312952399253845, -0.09967575967311859, -0.04232916235923767, -0.015749499201774597, -0.040895022451877594, -0.05505034700036049, -0.012406495399773121, -0.05789097025990486, 0.064394511282444, 0.02477365732192993, 0.03051145188510418, -0.034401316195726395, -0.013359416276216507, 0.09058143943548203, -0.019199538975954056, 0.004919097293168306, -0.06072676554322243, 0.04561930149793625, 0.005292078945785761, -0.04349078610539436, -0.021019715815782547, -0.0035268778447061777, 0.04409526661038399, -0.0538698174059391, -0.09545857459306717, 0.015580677427351475, -0.02346258983016014, 0.004470765590667725, 0.04428441449999809, -0.01745285652577877, -0.05101938173174858, 0.042000580579042435, 0.053079262375831604, 0.00017188256606459618, -0.035307832062244415, -0.03774745389819145, -0.04155854880809784, -0.011720212176442146, 0.051502685993909836, 0.007462451700121164, -0.0639846920967102, 0.006890524178743362, 0.01584698259830475, -0.0074498760513961315, 0.01836966536939144, 0.003753755008801818, -0.028299592435359955, -0.04789101704955101, -0.03248047083616257, 0.010989626869559288, 0.027749398723244667, -0.018824536353349686, -0.031555306166410446, 0.05497528240084648, 0.019588163122534752, 0.027428051456809044, -0.11357948184013367, -0.043707117438316345, -0.030847564339637756, 0.003737615654245019], 'sparse_values': {'indices': [422208903, 4020980221, 2328678717, 3458187042, 2350854469, 4239079033, 3035066612, 2786666077, 3162218338, 3867430397, 1299665196, 910587127, 4112202185, 3935005909, 2548600401, 3578202236, 52788261, 1026809464, 152217691, 4051061832, 1923073460, 2405637697, 2852256900, 2262309704, 887967055, 131900689, 2582688239, 2783072804, 3569226459, 2607720578, 2351523834, 3190547704, 2941713443, 2064885619, 1009084850, 915649341, 2755325844, 3818127854, 4101469719, 2779594451, 1660628907, 570935869, 408571802, 111668625, 4141312327, 2601834530, 3774540135, 2139336747, 412323527, 3375515291, 1927623000, 1860654448, 3612717916, 1684747337, 4261826499, 2816715516, 4060303585, 1021187622, 2021799277, 3452949137, 1720810685, 3032601289, 691409538, 407983593, 4120654226, 3417188605, 1301487453, 523529899, 2305639372, 1314356056, 358236245, 2408434298, 196358675, 4018598106, 1662505136, 699262512, 2272226438, 1420390694, 2560419516, 507861244, 3310844413, 225831512, 2372913689, 4153621836, 2641553256, 21141582, 1245654145, 2067848296, 2417272961, 4173428777, 275574541, 1501976062, 281464262, 3183232707, 501150701, 2840212248, 1105706408, 2543655733, 3684474652, 4247117526, 3263800907, 358389376, 1372199004, 3414385492, 3858194949, 679967618, 2892062428, 3628416533, 3632927698], 'values': [3, 2, 2, 6, 2, 2, 2, 2, 14, 1, 7, 1, 1, 1, 1, 1, 1, 1, 2, 1, 2, 1, 5, 1, 3, 1, 1, 1, 2, 2, 2, 1, 5, 1, 1, 1, 1, 2, 2, 5, 1, 1, 1, 1, 2, 1, 1, 1, 1, 1, 1, 1, 1, 1, 1, 1, 1, 2, 1, 1, 1, 2, 1, 1, 1, 3, 1, 1, 2, 1, 3, 1, 2, 1, 1, 1, 1, 1, 1, 1, 1, 1, 1, 2, 2, 1, 1, 1, 1, 1, 1, 1, 1, 1, 1, 1, 1, 1, 1, 1, 1, 1, 1, 1, 1, 1, 1, 1, 1]}, 'metadata': {'year': 2017, 'month': 12, 'source': 'other'}, 'blob': {'title': 'New York City Ballet Announces Interim Leadership Team', 'text': \"The New York City Ballet Board of Directors announced on Saturday the interim team that has been appointed to run the artistic side of the company during ballet master in chief Peter Martins' leave of absence. Martins requested a temporary leave from both NYCB and the School of American Ballet last Thursday while the company undergoes an internal investigation into the sexual harassment accusations aimed at him.\\nThe four-person group is made up of members of the company's current artistic staff, led by ballet master and former principal dancer Jonathan Stafford. Joining Stafford are NYCB resident choreographer and soloist Justin Peck and ballet masters Craig Hall and Rebecca Krohn, both former dancers with the company. While the members of this group haven't had much leadership experience, their close familiarity with the company (Krohn left the stage for her new role just two months ago) should help to ease the dancers' transition.\\nThe team will be responsible for the day-to-day artistic needs of the company including scheduling, casting and conducting rehearsals. While there's no word yet on the length of their tenure, we'll continue to keep you updated as the story surrounding Martins unfolds.\", 'description': \"NYCB has announced an interim leadership team to run the company during Peter Martin's leave of absence amidst sexual harassment accusations.\", 'url': 'http://www.pointemagazine.com/nycb-interim-leadership-team-2516618703.html', 'image_url': 'https://pointe-img.rbl.ms/simage/https%3A%2F%2Fassets.rbl.ms%2F16802226%2F980x.jpg/2000%2C2000/ShYo5fi9RpsI65MR/img.jpg'}}]\n"
     ]
    }
   ],
   "source": [
    "for doc in dataset.iter_docs(2):\n",
    "    print(doc)\n",
    "    break"
   ]
  },
  {
   "cell_type": "code",
   "execution_count": 1,
   "metadata": {},
   "outputs": [],
   "source": [
    "from datasets import Dataset\n"
   ]
  },
  {
   "cell_type": "code",
   "execution_count": 2,
   "metadata": {},
   "outputs": [],
   "source": [
    "ds = Dataset.from_file(\"https://storage.googleapis.com/gareth-pinecone-datasets/quora.parquet\")"
   ]
  },
  {
   "cell_type": "code",
   "execution_count": 4,
   "metadata": {},
   "outputs": [
    {
     "data": {
      "text/html": [
       "<div>\n",
       "<style>\n",
       ".pl-dataframe > thead > tr > th {\n",
       "  text-align: right;\n",
       "}\n",
       "</style>\n",
       "\n",
       "<table border=\"1\" class=\"pl-dataframe\">\n",
       "<small>shape: (5, 4)</small>\n",
       "<thead>\n",
       "<tr>\n",
       "<th>\n",
       "values\n",
       "</th>\n",
       "<th>\n",
       "id\n",
       "</th>\n",
       "<th>\n",
       "sparse_values\n",
       "</th>\n",
       "<th>\n",
       "text\n",
       "</th>\n",
       "</tr>\n",
       "<tr>\n",
       "<td>\n",
       "list[f32]\n",
       "</td>\n",
       "<td>\n",
       "i64\n",
       "</td>\n",
       "<td>\n",
       "struct[2]\n",
       "</td>\n",
       "<td>\n",
       "str\n",
       "</td>\n",
       "</tr>\n",
       "</thead>\n",
       "<tbody>\n",
       "<tr>\n",
       "<td>\n",
       "[0.402489, -0.234254, ... 0.222465]\n",
       "</td>\n",
       "<td>\n",
       "1\n",
       "</td>\n",
       "<td>\n",
       "{[0.08416, 0.055447, ... 0.197036],[1012, 2000, ... 20138]}\n",
       "</td>\n",
       "<td>\n",
       "&quot; What is the s...\n",
       "</td>\n",
       "</tr>\n",
       "<tr>\n",
       "<td>\n",
       "[0.511194, -0.198763, ... 0.238244]\n",
       "</td>\n",
       "<td>\n",
       "2\n",
       "</td>\n",
       "<td>\n",
       "{[0.189603, 0.21525, ... 0.147162],[1000, 1012, ... 20138]}\n",
       "</td>\n",
       "<td>\n",
       "&quot; What is the s...\n",
       "</td>\n",
       "</tr>\n",
       "<tr>\n",
       "<td>\n",
       "[-0.223715, 0.741517, ... 0.191113]\n",
       "</td>\n",
       "<td>\n",
       "3\n",
       "</td>\n",
       "<td>\n",
       "{[0.134441, 0.188095, ... 0.021336],[1005, 1006, ... 17070]}\n",
       "</td>\n",
       "<td>\n",
       "&quot; What is the s...\n",
       "</td>\n",
       "</tr>\n",
       "<tr>\n",
       "<td>\n",
       "[-0.37124, 0.709703, ... -0.049561]\n",
       "</td>\n",
       "<td>\n",
       "4\n",
       "</td>\n",
       "<td>\n",
       "{[0.029134, 0.360959, ... 0.042988],[1005, 1011, ... 21156]}\n",
       "</td>\n",
       "<td>\n",
       "&quot; What would ha...\n",
       "</td>\n",
       "</tr>\n",
       "<tr>\n",
       "<td>\n",
       "[-0.166566, 0.218813, ... -0.097715]\n",
       "</td>\n",
       "<td>\n",
       "5\n",
       "</td>\n",
       "<td>\n",
       "{[0.033697, 0.44331, ... 0.629484],[2006, 2017, ... 21628]}\n",
       "</td>\n",
       "<td>\n",
       "&quot; How can I inc...\n",
       "</td>\n",
       "</tr>\n",
       "</tbody>\n",
       "</table>\n",
       "</div>"
      ],
      "text/plain": [
       "shape: (5, 4)\n",
       "┌───────────────────────────┬─────┬───────────────────────────┬────────────────────────────────────┐\n",
       "│ values                    ┆ id  ┆ sparse_values             ┆ text                               │\n",
       "│ ---                       ┆ --- ┆ ---                       ┆ ---                                │\n",
       "│ list[f32]                 ┆ i64 ┆ struct[2]                 ┆ str                                │\n",
       "╞═══════════════════════════╪═════╪═══════════════════════════╪════════════════════════════════════╡\n",
       "│ [0.402489, -0.234254, ... ┆ 1   ┆ {[0.08416, 0.055447, ...  ┆ What is the step by step guide ... │\n",
       "│ 0.2224...                 ┆     ┆ 0.19703...                ┆                                    │\n",
       "│ [0.511194, -0.198763, ... ┆ 2   ┆ {[0.189603, 0.21525, ...  ┆ What is the step by step guide ... │\n",
       "│ 0.2382...                 ┆     ┆ 0.14716...                ┆                                    │\n",
       "│ [-0.223715, 0.741517, ... ┆ 3   ┆ {[0.134441, 0.188095, ... ┆ What is the story of Kohinoor (... │\n",
       "│ 0.1911...                 ┆     ┆ 0.0213...                 ┆                                    │\n",
       "│ [-0.37124, 0.709703, ...  ┆ 4   ┆ {[0.029134, 0.360959, ... ┆ What would happen if the Indian... │\n",
       "│ -0.0495...                ┆     ┆ 0.0429...                 ┆                                    │\n",
       "│ [-0.166566, 0.218813, ... ┆ 5   ┆ {[0.033697, 0.44331, ...  ┆ How can I increase the speed of... │\n",
       "│ -0.097...                 ┆     ┆ 0.62948...                ┆                                    │\n",
       "└───────────────────────────┴─────┴───────────────────────────┴────────────────────────────────────┘"
      ]
     },
     "execution_count": 4,
     "metadata": {},
     "output_type": "execute_result"
    }
   ],
   "source": [
    "ds.head()\n"
   ]
  },
  {
   "cell_type": "code",
   "execution_count": 11,
   "metadata": {},
   "outputs": [
    {
     "ename": "AttributeError",
     "evalue": "'Dataset' object has no attribute 'schema'",
     "output_type": "error",
     "traceback": [
      "\u001b[0;31m---------------------------------------------------------------------------\u001b[0m",
      "\u001b[0;31mAttributeError\u001b[0m                            Traceback (most recent call last)",
      "Cell \u001b[0;32mIn[11], line 1\u001b[0m\n\u001b[0;32m----> 1\u001b[0m dataset\u001b[39m.\u001b[39;49mschema\n",
      "\u001b[0;31mAttributeError\u001b[0m: 'Dataset' object has no attribute 'schema'"
     ]
    }
   ],
   "source": [
    "dataset.schema"
   ]
  },
  {
   "cell_type": "code",
   "execution_count": null,
   "metadata": {},
   "outputs": [
    {
     "data": {
      "text/html": [
       "<div>\n",
       "<style>\n",
       ".pl-dataframe > thead > tr > th {\n",
       "  text-align: right;\n",
       "}\n",
       "</style>\n",
       "\n",
       "<table border=\"1\" class=\"pl-dataframe\">\n",
       "<small>shape: (5, 5)</small>\n",
       "<thead>\n",
       "<tr>\n",
       "<th>\n",
       "id\n",
       "</th>\n",
       "<th>\n",
       "values\n",
       "</th>\n",
       "<th>\n",
       "sparse_values\n",
       "</th>\n",
       "<th>\n",
       "metadata\n",
       "</th>\n",
       "<th>\n",
       "blob\n",
       "</th>\n",
       "</tr>\n",
       "<tr>\n",
       "<td>\n",
       "str\n",
       "</td>\n",
       "<td>\n",
       "list[f32]\n",
       "</td>\n",
       "<td>\n",
       "struct[2]\n",
       "</td>\n",
       "<td>\n",
       "struct[3]\n",
       "</td>\n",
       "<td>\n",
       "struct[5]\n",
       "</td>\n",
       "</tr>\n",
       "</thead>\n",
       "<tbody>\n",
       "<tr>\n",
       "<td>\n",
       "&quot;0&quot;\n",
       "</td>\n",
       "<td>\n",
       "[0.118014, -0.069717, ... 0.006027]\n",
       "</td>\n",
       "<td>\n",
       "{[470065541, 52922727, ... null],[3.0, 1.0, ... 1.0]}\n",
       "</td>\n",
       "<td>\n",
       "{2017,12,&quot;other&quot;}\n",
       "</td>\n",
       "<td>\n",
       "{&quot;Daughter Duo is Dancing in The Same Company&quot;,&quot;There&#x27;s a surprising twist to Regina Willoughby&#x27;s last season with Columbia City Ballet: It&#x27;s also her 18-year-old daughter Melina&#x27;s first season with the company. Regina, 40, will retire from the stage in March, just as her daughter starts her own career as a trainee. But for this one season, they&#x27;re sharing the stage together.\n",
       "Performing Side-By-Side In The Nutcracker\n",
       "Regina and Melina are not only dancing in the same Nutcracker this month, they&#x27;re onstage at the same time: Regina is doing Snow Queen, while Melina is in the snow corps, and they&#x27;re both in the Arabian divertissement. &quot;It&#x27;s very surreal to be dancing it together,&quot; says Regina. &quot;I don&#x27;t know that I ever thought Melina would take ballet this far.&quot;\n",
       "Left: Regina and Melina with another company member post-snow scene in 2003. Right: The pair post-snow scene in 2017 (in the same theater)\n",
       "Keep reading at dancemagazine.com.&quot;,&quot;There&#x27;s a surprising twist to Regina Willoughby&#x27;s last season with Columbia City Ballet: It&#x27;s also her 18-year-old daughter Melina&#x27;s first season with the company.&quot;,&quot;http://www.pointemagazine.com/mother-daughter-duo-dancing-2516681965.html&quot;,&quot;https://pointe-img.rbl.ms/simage/https%3A%2F%2Fassets.rbl.ms%2F16807693%2F980x.png/2000%2C2000/3VnhNGWp75K4SwMx/img.png&quot;}\n",
       "</td>\n",
       "</tr>\n",
       "<tr>\n",
       "<td>\n",
       "&quot;1&quot;\n",
       "</td>\n",
       "<td>\n",
       "[0.055345, 0.004219, ... 0.003738]\n",
       "</td>\n",
       "<td>\n",
       "{[422208903, null, ... null],[3.0, 2.0, ... 1.0]}\n",
       "</td>\n",
       "<td>\n",
       "{2017,12,&quot;other&quot;}\n",
       "</td>\n",
       "<td>\n",
       "{&quot;New York City Ballet Announces Interim Leadership Team&quot;,&quot;The New York City Ballet Board of Directors announced on Saturday the interim team that has been appointed to run the artistic side of the company during ballet master in chief Peter Martins&#x27; leave of absence. Martins requested a temporary leave from both NYCB and the School of American Ballet last Thursday while the company undergoes an internal investigation into the sexual harassment accusations aimed at him.\n",
       "The four-person group is made up of members of the company&#x27;s current artistic staff, led by ballet master and former principal dancer Jonathan Stafford. Joining Stafford are NYCB resident choreographer and soloist Justin Peck and ballet masters Craig Hall and Rebecca Krohn, both former dancers with the company. While the members of this group haven&#x27;t had much leadership experience, their close familiarity with the company (Krohn left the stage for her new role just two months ago) should help to ease the dancers&#x27; transition.\n",
       "The team will be responsible for the day-to-day artistic needs of the company including scheduling, casting and conducting rehearsals. While there&#x27;s no word yet on the length of their tenure, we&#x27;ll continue to keep you updated as the story surrounding Martins unfolds.&quot;,&quot;NYCB has announced an interim leadership team to run the company during Peter Martin&#x27;s leave of absence amidst sexual harassment accusations.&quot;,&quot;http://www.pointemagazine.com/nycb-interim-leadership-team-2516618703.html&quot;,&quot;https://pointe-img.rbl.ms/simage/https%3A%2F%2Fassets.rbl.ms%2F16802226%2F980x.jpg/2000%2C2000/ShYo5fi9RpsI65MR/img.jpg&quot;}\n",
       "</td>\n",
       "</tr>\n",
       "<tr>\n",
       "<td>\n",
       "&quot;2&quot;\n",
       "</td>\n",
       "<td>\n",
       "[0.055428, -0.020879, ... 0.029995]\n",
       "</td>\n",
       "<td>\n",
       "{[926942048, null, ... null],[1.0, 2.0, ... 1.0]}\n",
       "</td>\n",
       "<td>\n",
       "{2018,2,&quot;other&quot;}\n",
       "</td>\n",
       "<td>\n",
       "{&quot;Watch Pennsylvania Ballet &amp; Boston Ballet Face Off for the Super Bowl&quot;,&quot;The Philadelphia Eagles and the New England Patriots aren&#x27;t the only teams bringing Super Bowl entertainment this week. To celebrate game day (and cheer on their region&#x27;s respective teams), the dancers of Pennsylvania Ballet and Boston Ballet took a break from their usual rehearsals to perform some Super Bowl-themed choreography.\n",
       "Dressed in their Eagles green, the PAB dancers performed a fast-paced routine full of fouetté turns, sky-high jumps and some swan arms (because they&#x27;re known as the birds, get it?).\n",
       "But Boston Ballet also decided to get in on the fun—with five Super Bowl wins, they&#x27;re used to seeing their team in the big game. Sharing their own video on Facebook, which stars principal Paul Craig and soloist Derek Dunn, Boston Ballet threw in a few Balanchine tricks thanks to some props from Prodigal Son.\n",
       "This is officially our new favorite way to get in on the football fun.&quot;,&quot;The Philadelphia Eagles and the New England Patriots aren&#x27;t the only teams bringing Super Bowl entertainment this week. To celebrate game day (and cheer on their region&#x27;s respective teams), the dancers of Pennsylvania Ballet and Boston Ballet took a break from their usual rehearsals to perform some Super Bowl-themed choreography.&quot;,&quot;http://www.pointemagazine.com/watch-pennsylvania-ballet-boston-ballet-face-off-for-the-super-bowl-2530816257.html&quot;,&quot;https://pointe-img.rbl.ms/simage/https%3A%2F%2Fassets.rbl.ms%2F17154326%2F980x.png/2000%2C2000/TJRZyIfKyEmkrAwU/img.png&quot;}\n",
       "</td>\n",
       "</tr>\n",
       "<tr>\n",
       "<td>\n",
       "&quot;3&quot;\n",
       "</td>\n",
       "<td>\n",
       "[0.003297, -0.027542, ... 0.005068]\n",
       "</td>\n",
       "<td>\n",
       "{[704678850, 303109060, ... 1999194864],[2.0, 4.0, ... 1.0]}\n",
       "</td>\n",
       "<td>\n",
       "{2018,4,&quot;other&quot;}\n",
       "</td>\n",
       "<td>\n",
       "{&quot;dance shoes&quot;,&quot;Looking for your next audition shoe? Shot at and in collaboration with Broadway Dance Center, Só Dança has launched a new collection of shoes working with some pretty famous faces of the musical theater world! Offered in two different styles and either 2.5&quot; or 3&quot; heels, top industry professionals are loving how versatile and supportive these shoes are! Pro tip: The heel is centered under the body so you can feel confident and stable!&quot;,&quot;Looking for your next audition shoe? Shot at and in collaboration with Broadway Dance Center, Só Dança has launched a new collection of shoes working with some pretty famous faces of the musical theater world! Offered in two different styles and either 2.5&quot; or 3&quot; heels, top industry professionals ar...&quot;,&quot;https://www.pointemagazine.com/dance-shoes-2562960796.html&quot;,&quot;https://pointe-img.rbl.ms/simage/https%3A%2F%2Fassets.rbl.ms%2F17590823%2F1200x600.jpg/2000%2C2000/vQLjf7MB8teU10V1/img.jpg&quot;}\n",
       "</td>\n",
       "</tr>\n",
       "<tr>\n",
       "<td>\n",
       "&quot;4&quot;\n",
       "</td>\n",
       "<td>\n",
       "[0.08315, -0.072666, ... 0.002932]\n",
       "</td>\n",
       "<td>\n",
       "{[null, null, ... 887967055],[2.0, 5.0, ... 1.0]}\n",
       "</td>\n",
       "<td>\n",
       "{2017,10,&quot;other&quot;}\n",
       "</td>\n",
       "<td>\n",
       "{&quot;Rebecca Krohn on Her Retirement from New York City Ballet&quot;,&quot;New York City Ballet principal dancer Rebecca Krohn will take her final bow with the company this Saturday night. Krohn joined NYCB as an apprentice in the fall of 1998 and slowly rose through the ranks, becoming a principal in 2012. Though Krohn is best known for her flawless execution of classic Balanchine leotard ballets, her repertoire is vast, spanning Jerome Robbins to Justin Peck. After dancing Stravinsky Violin Concerto with Amar Ramasar on Saturday, Krohn will return to the NYCB studios on Monday in a new role: ballet master. We had the chance to talk to the thoughtful and eloquent dancer about her time with the company and goals for the future.\n",
       "Was New York City Ballet always your dream company?\n",
       "As soon as I knew I wanted to be a professional dancer, I knew that I wanted to be in New York City Ballet. I moved to New York when I was 14 to train at the School of American Ballet, and I got my apprenticeship with the company when I was 17, so it was really a dream come true.\n",
       "Krohn and Adrian Danchig-Waring in Balanchine&#x27;s Stravinsky Violin Concerto. Video Courtesy NYCB.\n",
       "What have been your favorite ballets or roles to dance?\n",
       "Balanchine&#x27;s Stravinsky Violin Concerto, which I&#x27;ll dance for my final show, has always been a favorite, as well as Balanchine&#x27;s Movements for Piano and Orchestra and Agon. Also Robbins&#x27; Dances at a Gathering... there are so many, it&#x27;s hard to choose! I&#x27;ve always really loved the Balanchine black and white ballets, and there are some Robbins ballets that are always so fulfilling.\n",
       "Can you think of a favorite moment with the company?\n",
       "After almost 20 years there are countless things. In general I would say the time that I&#x27;ve had onstage with some of my friends and dancing partners has been so special. It&#x27;s one thing to be a friend with someone and another to also share the stage with them. There&#x27;s just an amazing sense of trust and spontaneity; I feel so connected when I&#x27;m out there. That&#x27;s something I&#x27;ll never forget.\n",
       "What&#x27;s the main way that your experience in the company has changed over the years?\n",
       "As I was getting older the company all of a sudden started to seem younger and younger. When I became a soloist and especially a principal my relationship with the corps de ballet dancers shifted. I wanted to be someone that the young dancers could look up to; I wanted to reach out and connect to them more, and to offer support and advice.\n",
       "Krohn and Amara Ramasar in Balanchine&#x27;s &quot;Movements for Piano and Orchestra.&quot; Photo by Paul Kolnik, Courtesy NYCB.\n",
       "Did you always know that you wanted to stay on with the company?\n",
       "It had been in the back of my mind for a number of years, but I didn&#x27;t really address it formally until a year ago. I spoke to Peter (Martins), just to kind of let him know what I had been thinking. I wanted to hear how he felt about it, which was actually a little nerve-wracking, but he thought it was a great idea.\n",
       "What are you most looking forward to in your new role?\n",
       "I&#x27;d like to nurture them and their talents; I&#x27;m always amazed to see how talented everyone is. The ballets that we have in our repertoire are so amazing—it&#x27;s a great honor to be able to carry them on with the new dancers for the future.\n",
       "Krohn with Robert Fairchild in Justin Peck&#x27;s Everywhere We Go. Video Courtesy NYCB.\n",
       "Is there someone who&#x27;s teaching style or mentorship style you&#x27;d most like to emulate?\n",
       "There are a couple of ballet masters that I&#x27;ve connected to. I&#x27;m very close to Karin von Aroldingen. Her undying passion for these pieces is incredibly inspiring. Susan Hendl has also been an inspiration. She has a wonderful talent of drawing out everyone&#x27;s unique qualities and femininity.\n",
       "What parts of your life outside of ballet do you most look forward to cultivating now that you&#x27;ll have more time on your hands?\n",
       "I&#x27;m looking forward to having more time to enjoy museums in the city. While I was dancing I didn&#x27;t want to be up on my legs all day on my days off. I won&#x27;t have to worry about that so much now, and I can spend my day off roaming around and being inspired. I also love to cook, so I&#x27;ll get to cook a lot more and hopefully host more dinner parties.\n",
       "Krohn and Company in Balanchine&#x27;s &quot;Serenade.&quot; Photo by Paul Kolnik, Courtesy NYCB.\n",
       "Do you have a piece of advice for young dancers who are just starting out?\n",
       "What&#x27;s so special about ballet is the discipline that it instills. It&#x27;s important for young dancers to really understand that that is what&#x27;s taught to you in ballet class every day. It&#x27;s an invaluable quality for a person to have, whether they continue to dance or end up doing other things.\n",
       "My other piece of advice is that you have to treat each day as a new start. Some days you might not feel good about yourself, or things in your body might not be working well—every day is different. But you have to start fresh, be positive and move forward.&quot;,&quot;We interviewed New York City Ballet principal Rebecca Krohn on her company retirement, exciting new career as a ballet master, and her advice for young dancers.&quot;,&quot;http://www.pointemagazine.com/rebecca-krohn-retirement-nycb-2493308072.html&quot;,&quot;https://pointe-img.rbl.ms/simage/https%3A%2F%2Fassets.rbl.ms%2F11537098%2F980x.jpg/2000%2C2000/b0JqtcOZjNJndl99/img.jpg&quot;}\n",
       "</td>\n",
       "</tr>\n",
       "</tbody>\n",
       "</table>\n",
       "</div>"
      ],
      "text/plain": [
       "shape: (5, 5)\n",
       "┌─────┬─────────────────────────┬────────────────────┬───────────────────┬─────────────────────────┐\n",
       "│ id  ┆ values                  ┆ sparse_values      ┆ metadata          ┆ blob                    │\n",
       "│ --- ┆ ---                     ┆ ---                ┆ ---               ┆ ---                     │\n",
       "│ str ┆ list[f32]               ┆ struct[2]          ┆ struct[3]         ┆ struct[5]               │\n",
       "╞═════╪═════════════════════════╪════════════════════╪═══════════════════╪═════════════════════════╡\n",
       "│ 0   ┆ [0.118014, -0.069717,   ┆ {[470065541,       ┆ {2017,12,\"other\"} ┆ {\"Daughter Duo is       │\n",
       "│     ┆ ... 0.0060...           ┆ 52922727, ...      ┆                   ┆ Dancing in The...       │\n",
       "│     ┆                         ┆ null]...           ┆                   ┆                         │\n",
       "│ 1   ┆ [0.055345, 0.004219,    ┆ {[422208903, null, ┆ {2017,12,\"other\"} ┆ {\"New York City Ballet  │\n",
       "│     ┆ ... 0.00373...          ┆ ... null],[3....   ┆                   ┆ Announces...            │\n",
       "│ 2   ┆ [0.055428, -0.020879,   ┆ {[926942048, null, ┆ {2018,2,\"other\"}  ┆ {\"Watch Pennsylvania    │\n",
       "│     ┆ ... 0.0299...           ┆ ... null],[1....   ┆                   ┆ Ballet & Bo...          │\n",
       "│ 3   ┆ [0.003297, -0.027542,   ┆ {[704678850,       ┆ {2018,4,\"other\"}  ┆ {\"dance shoes\",\"Looking │\n",
       "│     ┆ ... 0.0050...           ┆ 303109060, ...     ┆                   ┆ for your...             │\n",
       "│     ┆                         ┆ 1999...            ┆                   ┆                         │\n",
       "│ 4   ┆ [0.08315, -0.072666,    ┆ {[null, null, ...  ┆ {2017,10,\"other\"} ┆ {\"Rebecca Krohn on Her  │\n",
       "│     ┆ ... 0.00293...          ┆ 887967055],[2....  ┆                   ┆ Retiremen...            │\n",
       "└─────┴─────────────────────────┴────────────────────┴───────────────────┴─────────────────────────┘"
      ]
     },
     "execution_count": 4,
     "metadata": {},
     "output_type": "execute_result"
    }
   ],
   "source": [
    "dataset.head()"
   ]
  },
  {
   "cell_type": "code",
   "execution_count": null,
   "metadata": {},
   "outputs": [
    {
     "data": {
      "text/plain": [
       "{'id': Utf8,\n",
       " 'values': List(Float32),\n",
       " 'sparse_values': Struct([Field('indices', List(Int32)), Field('values', List(Float32))]),\n",
       " 'metadata': Struct([Field('year', Int64), Field('month', Int64), Field('source', Utf8)]),\n",
       " 'blob': Struct([Field('title', Utf8), Field('text', Utf8), Field('description', Utf8), Field('url', Utf8), Field('image_url', Utf8)])}"
      ]
     },
     "execution_count": 5,
     "metadata": {},
     "output_type": "execute_result"
    }
   ],
   "source": [
    "dataset.documents.schema"
   ]
  },
  {
   "cell_type": "code",
   "execution_count": 4,
   "metadata": {},
   "outputs": [
    {
     "data": {
      "text/plain": [
       "{'id': Utf8,\n",
       " 'values': List(Float32),\n",
       " 'sparse_values': Struct([Field('indices', List(Int32)), Field('values', List(Float32))]),\n",
       " 'metadata': Struct([Field('year', Int64), Field('month', Int64), Field('source', Utf8)]),\n",
       " 'blob': Struct([Field('title', Utf8), Field('text', Utf8), Field('description', Utf8), Field('url', Utf8), Field('image_url', Utf8)])}"
      ]
     },
     "execution_count": 4,
     "metadata": {},
     "output_type": "execute_result"
    }
   ],
   "source": [
    "dataset.documents.schema"
   ]
  },
  {
   "cell_type": "code",
   "execution_count": 22,
   "metadata": {},
   "outputs": [],
   "source": [
    "index = pinecone.GRPCIndex(\"cc-news-notebook-index\")"
   ]
  },
  {
   "cell_type": "code",
   "execution_count": 6,
   "metadata": {},
   "outputs": [
    {
     "data": {
      "text/html": [
       "<div>\n",
       "<style>\n",
       ".pl-dataframe > thead > tr > th {\n",
       "  text-align: right;\n",
       "}\n",
       "</style>\n",
       "\n",
       "<table border=\"1\" class=\"pl-dataframe\">\n",
       "<small>shape: (5, 5)</small>\n",
       "<thead>\n",
       "<tr>\n",
       "<th>\n",
       "id\n",
       "</th>\n",
       "<th>\n",
       "values\n",
       "</th>\n",
       "<th>\n",
       "sparse_values\n",
       "</th>\n",
       "<th>\n",
       "metadata\n",
       "</th>\n",
       "<th>\n",
       "blob\n",
       "</th>\n",
       "</tr>\n",
       "<tr>\n",
       "<td>\n",
       "str\n",
       "</td>\n",
       "<td>\n",
       "list[f32]\n",
       "</td>\n",
       "<td>\n",
       "struct[2]\n",
       "</td>\n",
       "<td>\n",
       "struct[3]\n",
       "</td>\n",
       "<td>\n",
       "struct[5]\n",
       "</td>\n",
       "</tr>\n",
       "</thead>\n",
       "<tbody>\n",
       "<tr>\n",
       "<td>\n",
       "&quot;0&quot;\n",
       "</td>\n",
       "<td>\n",
       "[0.118014, -0.069717, ... 0.006027]\n",
       "</td>\n",
       "<td>\n",
       "{[470065541, 52922727, ... null],[3.0, 1.0, ... 1.0]}\n",
       "</td>\n",
       "<td>\n",
       "{2017,12,&quot;other&quot;}\n",
       "</td>\n",
       "<td>\n",
       "{&quot;Daughter Duo is Dancing in The Same Company&quot;,&quot;There&#x27;s a surprising twist to Regina Willoughby&#x27;s last season with Columbia City Ballet: It&#x27;s also her 18-year-old daughter Melina&#x27;s first season with the company. Regina, 40, will retire from the stage in March, just as her daughter starts her own career as a trainee. But for this one season, they&#x27;re sharing the stage together.\n",
       "Performing Side-By-Side In The Nutcracker\n",
       "Regina and Melina are not only dancing in the same Nutcracker this month, they&#x27;re onstage at the same time: Regina is doing Snow Queen, while Melina is in the snow corps, and they&#x27;re both in the Arabian divertissement. &quot;It&#x27;s very surreal to be dancing it together,&quot; says Regina. &quot;I don&#x27;t know that I ever thought Melina would take ballet this far.&quot;\n",
       "Left: Regina and Melina with another company member post-snow scene in 2003. Right: The pair post-snow scene in 2017 (in the same theater)\n",
       "Keep reading at dancemagazine.com.&quot;,&quot;There&#x27;s a surprising twist to Regina Willoughby&#x27;s last season with Columbia City Ballet: It&#x27;s also her 18-year-old daughter Melina&#x27;s first season with the company.&quot;,&quot;http://www.pointemagazine.com/mother-daughter-duo-dancing-2516681965.html&quot;,&quot;https://pointe-img.rbl.ms/simage/https%3A%2F%2Fassets.rbl.ms%2F16807693%2F980x.png/2000%2C2000/3VnhNGWp75K4SwMx/img.png&quot;}\n",
       "</td>\n",
       "</tr>\n",
       "<tr>\n",
       "<td>\n",
       "&quot;1&quot;\n",
       "</td>\n",
       "<td>\n",
       "[0.055345, 0.004219, ... 0.003738]\n",
       "</td>\n",
       "<td>\n",
       "{[422208903, null, ... null],[3.0, 2.0, ... 1.0]}\n",
       "</td>\n",
       "<td>\n",
       "{2017,12,&quot;other&quot;}\n",
       "</td>\n",
       "<td>\n",
       "{&quot;New York City Ballet Announces Interim Leadership Team&quot;,&quot;The New York City Ballet Board of Directors announced on Saturday the interim team that has been appointed to run the artistic side of the company during ballet master in chief Peter Martins&#x27; leave of absence. Martins requested a temporary leave from both NYCB and the School of American Ballet last Thursday while the company undergoes an internal investigation into the sexual harassment accusations aimed at him.\n",
       "The four-person group is made up of members of the company&#x27;s current artistic staff, led by ballet master and former principal dancer Jonathan Stafford. Joining Stafford are NYCB resident choreographer and soloist Justin Peck and ballet masters Craig Hall and Rebecca Krohn, both former dancers with the company. While the members of this group haven&#x27;t had much leadership experience, their close familiarity with the company (Krohn left the stage for her new role just two months ago) should help to ease the dancers&#x27; transition.\n",
       "The team will be responsible for the day-to-day artistic needs of the company including scheduling, casting and conducting rehearsals. While there&#x27;s no word yet on the length of their tenure, we&#x27;ll continue to keep you updated as the story surrounding Martins unfolds.&quot;,&quot;NYCB has announced an interim leadership team to run the company during Peter Martin&#x27;s leave of absence amidst sexual harassment accusations.&quot;,&quot;http://www.pointemagazine.com/nycb-interim-leadership-team-2516618703.html&quot;,&quot;https://pointe-img.rbl.ms/simage/https%3A%2F%2Fassets.rbl.ms%2F16802226%2F980x.jpg/2000%2C2000/ShYo5fi9RpsI65MR/img.jpg&quot;}\n",
       "</td>\n",
       "</tr>\n",
       "<tr>\n",
       "<td>\n",
       "&quot;2&quot;\n",
       "</td>\n",
       "<td>\n",
       "[0.055428, -0.020879, ... 0.029995]\n",
       "</td>\n",
       "<td>\n",
       "{[926942048, null, ... null],[1.0, 2.0, ... 1.0]}\n",
       "</td>\n",
       "<td>\n",
       "{2018,2,&quot;other&quot;}\n",
       "</td>\n",
       "<td>\n",
       "{&quot;Watch Pennsylvania Ballet &amp; Boston Ballet Face Off for the Super Bowl&quot;,&quot;The Philadelphia Eagles and the New England Patriots aren&#x27;t the only teams bringing Super Bowl entertainment this week. To celebrate game day (and cheer on their region&#x27;s respective teams), the dancers of Pennsylvania Ballet and Boston Ballet took a break from their usual rehearsals to perform some Super Bowl-themed choreography.\n",
       "Dressed in their Eagles green, the PAB dancers performed a fast-paced routine full of fouetté turns, sky-high jumps and some swan arms (because they&#x27;re known as the birds, get it?).\n",
       "But Boston Ballet also decided to get in on the fun—with five Super Bowl wins, they&#x27;re used to seeing their team in the big game. Sharing their own video on Facebook, which stars principal Paul Craig and soloist Derek Dunn, Boston Ballet threw in a few Balanchine tricks thanks to some props from Prodigal Son.\n",
       "This is officially our new favorite way to get in on the football fun.&quot;,&quot;The Philadelphia Eagles and the New England Patriots aren&#x27;t the only teams bringing Super Bowl entertainment this week. To celebrate game day (and cheer on their region&#x27;s respective teams), the dancers of Pennsylvania Ballet and Boston Ballet took a break from their usual rehearsals to perform some Super Bowl-themed choreography.&quot;,&quot;http://www.pointemagazine.com/watch-pennsylvania-ballet-boston-ballet-face-off-for-the-super-bowl-2530816257.html&quot;,&quot;https://pointe-img.rbl.ms/simage/https%3A%2F%2Fassets.rbl.ms%2F17154326%2F980x.png/2000%2C2000/TJRZyIfKyEmkrAwU/img.png&quot;}\n",
       "</td>\n",
       "</tr>\n",
       "<tr>\n",
       "<td>\n",
       "&quot;3&quot;\n",
       "</td>\n",
       "<td>\n",
       "[0.003297, -0.027542, ... 0.005068]\n",
       "</td>\n",
       "<td>\n",
       "{[704678850, 303109060, ... 1999194864],[2.0, 4.0, ... 1.0]}\n",
       "</td>\n",
       "<td>\n",
       "{2018,4,&quot;other&quot;}\n",
       "</td>\n",
       "<td>\n",
       "{&quot;dance shoes&quot;,&quot;Looking for your next audition shoe? Shot at and in collaboration with Broadway Dance Center, Só Dança has launched a new collection of shoes working with some pretty famous faces of the musical theater world! Offered in two different styles and either 2.5&quot; or 3&quot; heels, top industry professionals are loving how versatile and supportive these shoes are! Pro tip: The heel is centered under the body so you can feel confident and stable!&quot;,&quot;Looking for your next audition shoe? Shot at and in collaboration with Broadway Dance Center, Só Dança has launched a new collection of shoes working with some pretty famous faces of the musical theater world! Offered in two different styles and either 2.5&quot; or 3&quot; heels, top industry professionals ar...&quot;,&quot;https://www.pointemagazine.com/dance-shoes-2562960796.html&quot;,&quot;https://pointe-img.rbl.ms/simage/https%3A%2F%2Fassets.rbl.ms%2F17590823%2F1200x600.jpg/2000%2C2000/vQLjf7MB8teU10V1/img.jpg&quot;}\n",
       "</td>\n",
       "</tr>\n",
       "<tr>\n",
       "<td>\n",
       "&quot;4&quot;\n",
       "</td>\n",
       "<td>\n",
       "[0.08315, -0.072666, ... 0.002932]\n",
       "</td>\n",
       "<td>\n",
       "{[null, null, ... 887967055],[2.0, 5.0, ... 1.0]}\n",
       "</td>\n",
       "<td>\n",
       "{2017,10,&quot;other&quot;}\n",
       "</td>\n",
       "<td>\n",
       "{&quot;Rebecca Krohn on Her Retirement from New York City Ballet&quot;,&quot;New York City Ballet principal dancer Rebecca Krohn will take her final bow with the company this Saturday night. Krohn joined NYCB as an apprentice in the fall of 1998 and slowly rose through the ranks, becoming a principal in 2012. Though Krohn is best known for her flawless execution of classic Balanchine leotard ballets, her repertoire is vast, spanning Jerome Robbins to Justin Peck. After dancing Stravinsky Violin Concerto with Amar Ramasar on Saturday, Krohn will return to the NYCB studios on Monday in a new role: ballet master. We had the chance to talk to the thoughtful and eloquent dancer about her time with the company and goals for the future.\n",
       "Was New York City Ballet always your dream company?\n",
       "As soon as I knew I wanted to be a professional dancer, I knew that I wanted to be in New York City Ballet. I moved to New York when I was 14 to train at the School of American Ballet, and I got my apprenticeship with the company when I was 17, so it was really a dream come true.\n",
       "Krohn and Adrian Danchig-Waring in Balanchine&#x27;s Stravinsky Violin Concerto. Video Courtesy NYCB.\n",
       "What have been your favorite ballets or roles to dance?\n",
       "Balanchine&#x27;s Stravinsky Violin Concerto, which I&#x27;ll dance for my final show, has always been a favorite, as well as Balanchine&#x27;s Movements for Piano and Orchestra and Agon. Also Robbins&#x27; Dances at a Gathering... there are so many, it&#x27;s hard to choose! I&#x27;ve always really loved the Balanchine black and white ballets, and there are some Robbins ballets that are always so fulfilling.\n",
       "Can you think of a favorite moment with the company?\n",
       "After almost 20 years there are countless things. In general I would say the time that I&#x27;ve had onstage with some of my friends and dancing partners has been so special. It&#x27;s one thing to be a friend with someone and another to also share the stage with them. There&#x27;s just an amazing sense of trust and spontaneity; I feel so connected when I&#x27;m out there. That&#x27;s something I&#x27;ll never forget.\n",
       "What&#x27;s the main way that your experience in the company has changed over the years?\n",
       "As I was getting older the company all of a sudden started to seem younger and younger. When I became a soloist and especially a principal my relationship with the corps de ballet dancers shifted. I wanted to be someone that the young dancers could look up to; I wanted to reach out and connect to them more, and to offer support and advice.\n",
       "Krohn and Amara Ramasar in Balanchine&#x27;s &quot;Movements for Piano and Orchestra.&quot; Photo by Paul Kolnik, Courtesy NYCB.\n",
       "Did you always know that you wanted to stay on with the company?\n",
       "It had been in the back of my mind for a number of years, but I didn&#x27;t really address it formally until a year ago. I spoke to Peter (Martins), just to kind of let him know what I had been thinking. I wanted to hear how he felt about it, which was actually a little nerve-wracking, but he thought it was a great idea.\n",
       "What are you most looking forward to in your new role?\n",
       "I&#x27;d like to nurture them and their talents; I&#x27;m always amazed to see how talented everyone is. The ballets that we have in our repertoire are so amazing—it&#x27;s a great honor to be able to carry them on with the new dancers for the future.\n",
       "Krohn with Robert Fairchild in Justin Peck&#x27;s Everywhere We Go. Video Courtesy NYCB.\n",
       "Is there someone who&#x27;s teaching style or mentorship style you&#x27;d most like to emulate?\n",
       "There are a couple of ballet masters that I&#x27;ve connected to. I&#x27;m very close to Karin von Aroldingen. Her undying passion for these pieces is incredibly inspiring. Susan Hendl has also been an inspiration. She has a wonderful talent of drawing out everyone&#x27;s unique qualities and femininity.\n",
       "What parts of your life outside of ballet do you most look forward to cultivating now that you&#x27;ll have more time on your hands?\n",
       "I&#x27;m looking forward to having more time to enjoy museums in the city. While I was dancing I didn&#x27;t want to be up on my legs all day on my days off. I won&#x27;t have to worry about that so much now, and I can spend my day off roaming around and being inspired. I also love to cook, so I&#x27;ll get to cook a lot more and hopefully host more dinner parties.\n",
       "Krohn and Company in Balanchine&#x27;s &quot;Serenade.&quot; Photo by Paul Kolnik, Courtesy NYCB.\n",
       "Do you have a piece of advice for young dancers who are just starting out?\n",
       "What&#x27;s so special about ballet is the discipline that it instills. It&#x27;s important for young dancers to really understand that that is what&#x27;s taught to you in ballet class every day. It&#x27;s an invaluable quality for a person to have, whether they continue to dance or end up doing other things.\n",
       "My other piece of advice is that you have to treat each day as a new start. Some days you might not feel good about yourself, or things in your body might not be working well—every day is different. But you have to start fresh, be positive and move forward.&quot;,&quot;We interviewed New York City Ballet principal Rebecca Krohn on her company retirement, exciting new career as a ballet master, and her advice for young dancers.&quot;,&quot;http://www.pointemagazine.com/rebecca-krohn-retirement-nycb-2493308072.html&quot;,&quot;https://pointe-img.rbl.ms/simage/https%3A%2F%2Fassets.rbl.ms%2F11537098%2F980x.jpg/2000%2C2000/b0JqtcOZjNJndl99/img.jpg&quot;}\n",
       "</td>\n",
       "</tr>\n",
       "</tbody>\n",
       "</table>\n",
       "</div>"
      ],
      "text/plain": [
       "shape: (5, 5)\n",
       "┌─────┬─────────────────────────┬────────────────────┬───────────────────┬─────────────────────────┐\n",
       "│ id  ┆ values                  ┆ sparse_values      ┆ metadata          ┆ blob                    │\n",
       "│ --- ┆ ---                     ┆ ---                ┆ ---               ┆ ---                     │\n",
       "│ str ┆ list[f32]               ┆ struct[2]          ┆ struct[3]         ┆ struct[5]               │\n",
       "╞═════╪═════════════════════════╪════════════════════╪═══════════════════╪═════════════════════════╡\n",
       "│ 0   ┆ [0.118014, -0.069717,   ┆ {[470065541,       ┆ {2017,12,\"other\"} ┆ {\"Daughter Duo is       │\n",
       "│     ┆ ... 0.0060...           ┆ 52922727, ...      ┆                   ┆ Dancing in The...       │\n",
       "│     ┆                         ┆ null]...           ┆                   ┆                         │\n",
       "│ 1   ┆ [0.055345, 0.004219,    ┆ {[422208903, null, ┆ {2017,12,\"other\"} ┆ {\"New York City Ballet  │\n",
       "│     ┆ ... 0.00373...          ┆ ... null],[3....   ┆                   ┆ Announces...            │\n",
       "│ 2   ┆ [0.055428, -0.020879,   ┆ {[926942048, null, ┆ {2018,2,\"other\"}  ┆ {\"Watch Pennsylvania    │\n",
       "│     ┆ ... 0.0299...           ┆ ... null],[1....   ┆                   ┆ Ballet & Bo...          │\n",
       "│ 3   ┆ [0.003297, -0.027542,   ┆ {[704678850,       ┆ {2018,4,\"other\"}  ┆ {\"dance shoes\",\"Looking │\n",
       "│     ┆ ... 0.0050...           ┆ 303109060, ...     ┆                   ┆ for your...             │\n",
       "│     ┆                         ┆ 1999...            ┆                   ┆                         │\n",
       "│ 4   ┆ [0.08315, -0.072666,    ┆ {[null, null, ...  ┆ {2017,10,\"other\"} ┆ {\"Rebecca Krohn on Her  │\n",
       "│     ┆ ... 0.00293...          ┆ 887967055],[2....  ┆                   ┆ Retiremen...            │\n",
       "└─────┴─────────────────────────┴────────────────────┴───────────────────┴─────────────────────────┘"
      ]
     },
     "execution_count": 6,
     "metadata": {},
     "output_type": "execute_result"
    }
   ],
   "source": [
    "dataset.head()"
   ]
  },
  {
   "cell_type": "code",
   "execution_count": null,
   "metadata": {},
   "outputs": [],
   "source": []
  },
  {
   "cell_type": "code",
   "execution_count": 5,
   "metadata": {},
   "outputs": [
    {
     "ename": "KeyboardInterrupt",
     "evalue": "",
     "output_type": "error",
     "traceback": [
      "\u001b[0;31m---------------------------------------------------------------------------\u001b[0m",
      "\u001b[0;31mKeyboardInterrupt\u001b[0m                         Traceback (most recent call last)",
      "Cell \u001b[0;32mIn[5], line 1\u001b[0m\n\u001b[0;32m----> 1\u001b[0m dataset_as_tuples \u001b[39m=\u001b[39m [(d[\u001b[39m\"\u001b[39m\u001b[39mid\u001b[39m\u001b[39m\"\u001b[39m], d[\u001b[39m\"\u001b[39m\u001b[39mvalues\u001b[39m\u001b[39m\"\u001b[39m], d[\u001b[39m\"\u001b[39m\u001b[39mmetadata\u001b[39m\u001b[39m\"\u001b[39m]) \u001b[39mfor\u001b[39;00m d \u001b[39min\u001b[39;00m dataset[\u001b[39m\"\u001b[39m\u001b[39mdocuments\u001b[39m\u001b[39m\"\u001b[39m]\u001b[39m.\u001b[39miter_rows(named\u001b[39m=\u001b[39m\u001b[39mTrue\u001b[39;00m)]\n",
      "Cell \u001b[0;32mIn[5], line 1\u001b[0m, in \u001b[0;36m<listcomp>\u001b[0;34m(.0)\u001b[0m\n\u001b[0;32m----> 1\u001b[0m dataset_as_tuples \u001b[39m=\u001b[39m [(d[\u001b[39m\"\u001b[39m\u001b[39mid\u001b[39m\u001b[39m\"\u001b[39m], d[\u001b[39m\"\u001b[39m\u001b[39mvalues\u001b[39m\u001b[39m\"\u001b[39m], d[\u001b[39m\"\u001b[39m\u001b[39mmetadata\u001b[39m\u001b[39m\"\u001b[39m]) \u001b[39mfor\u001b[39;00m d \u001b[39min\u001b[39;00m dataset[\u001b[39m\"\u001b[39m\u001b[39mdocuments\u001b[39m\u001b[39m\"\u001b[39m]\u001b[39m.\u001b[39miter_rows(named\u001b[39m=\u001b[39m\u001b[39mTrue\u001b[39;00m)]\n",
      "File \u001b[0;32m~/Library/Caches/pypoetry/virtualenvs/datasets-nkKhg9Ck-py3.9/lib/python3.9/site-packages/polars/internals/dataframe/frame.py:7029\u001b[0m, in \u001b[0;36mDataFrame.iter_rows\u001b[0;34m(self, named, buffer_size)\u001b[0m\n\u001b[1;32m   7027\u001b[0m zerocopy_slice \u001b[39m=\u001b[39m \u001b[39mself\u001b[39m\u001b[39m.\u001b[39mslice(offset, buffer_size)\n\u001b[1;32m   7028\u001b[0m \u001b[39mif\u001b[39;00m load_pyarrow_dicts:\n\u001b[0;32m-> 7029\u001b[0m     \u001b[39myield from\u001b[39;00m zerocopy_slice\u001b[39m.\u001b[39;49mto_arrow()\u001b[39m.\u001b[39;49mto_pylist()\n\u001b[1;32m   7030\u001b[0m \u001b[39melse\u001b[39;00m:\n\u001b[1;32m   7031\u001b[0m     rows_chunk \u001b[39m=\u001b[39m zerocopy_slice\u001b[39m.\u001b[39mrows(named\u001b[39m=\u001b[39m\u001b[39mFalse\u001b[39;00m)\n",
      "File \u001b[0;32m~/Library/Caches/pypoetry/virtualenvs/datasets-nkKhg9Ck-py3.9/lib/python3.9/site-packages/pyarrow/table.pxi:4044\u001b[0m, in \u001b[0;36mpyarrow.lib.Table.to_pylist\u001b[0;34m()\u001b[0m\n",
      "File \u001b[0;32m~/Library/Caches/pypoetry/virtualenvs/datasets-nkKhg9Ck-py3.9/lib/python3.9/site-packages/pyarrow/table.pxi:4022\u001b[0m, in \u001b[0;36mpyarrow.lib.Table.to_pydict\u001b[0;34m()\u001b[0m\n",
      "File \u001b[0;32m~/Library/Caches/pypoetry/virtualenvs/datasets-nkKhg9Ck-py3.9/lib/python3.9/site-packages/pyarrow/table.pxi:1284\u001b[0m, in \u001b[0;36mpyarrow.lib.ChunkedArray.to_pylist\u001b[0;34m()\u001b[0m\n",
      "File \u001b[0;32m~/Library/Caches/pypoetry/virtualenvs/datasets-nkKhg9Ck-py3.9/lib/python3.9/site-packages/pyarrow/array.pxi:1498\u001b[0m, in \u001b[0;36mpyarrow.lib.Array.to_pylist\u001b[0;34m()\u001b[0m\n",
      "File \u001b[0;32m~/Library/Caches/pypoetry/virtualenvs/datasets-nkKhg9Ck-py3.9/lib/python3.9/site-packages/pyarrow/scalar.pxi:748\u001b[0m, in \u001b[0;36mpyarrow.lib.StructScalar.as_py\u001b[0;34m()\u001b[0m\n",
      "File \u001b[0;32m/Library/Developer/CommandLineTools/Library/Frameworks/Python3.framework/Versions/3.9/lib/python3.9/_collections_abc.py:776\u001b[0m, in \u001b[0;36mMapping.keys\u001b[0;34m(self)\u001b[0m\n\u001b[1;32m    773\u001b[0m     \u001b[39melse\u001b[39;00m:\n\u001b[1;32m    774\u001b[0m         \u001b[39mreturn\u001b[39;00m \u001b[39mTrue\u001b[39;00m\n\u001b[0;32m--> 776\u001b[0m \u001b[39mdef\u001b[39;00m \u001b[39mkeys\u001b[39m(\u001b[39mself\u001b[39m):\n\u001b[1;32m    777\u001b[0m     \u001b[39m\"\u001b[39m\u001b[39mD.keys() -> a set-like object providing a view on D\u001b[39m\u001b[39m'\u001b[39m\u001b[39ms keys\u001b[39m\u001b[39m\"\u001b[39m\n\u001b[1;32m    778\u001b[0m     \u001b[39mreturn\u001b[39;00m KeysView(\u001b[39mself\u001b[39m)\n",
      "\u001b[0;31mKeyboardInterrupt\u001b[0m: "
     ]
    }
   ],
   "source": [
    "dataset_as_tuples = [(d[\"id\"], d[\"values\"], d[\"metadata\"]) for d in dataset[\"documents\"].iter_rows(named=True)]"
   ]
  },
  {
   "cell_type": "code",
   "execution_count": 53,
   "metadata": {},
   "outputs": [
    {
     "name": "stderr",
     "output_type": "stream",
     "text": [
      "Upserted vectors: 100%|██████████| 100000/100000 [11:49<00:00, 141.01it/s]\n"
     ]
    }
   ],
   "source": [
    "upsert_result = index.upsert(dataset_as_tuples, batch_size=100)"
   ]
  },
  {
   "cell_type": "code",
   "execution_count": 56,
   "metadata": {},
   "outputs": [
    {
     "data": {
      "text/plain": [
       "upserted_count: 100000"
      ]
     },
     "execution_count": 56,
     "metadata": {},
     "output_type": "execute_result"
    }
   ],
   "source": [
    "upsert_result"
   ]
  },
  {
   "cell_type": "code",
   "execution_count": 61,
   "metadata": {},
   "outputs": [
    {
     "name": "stderr",
     "output_type": "stream",
     "text": [
      "Upserted vectors: 100%|██████████| 100000/100000 [11:09<00:00, 149.43it/s]\n"
     ]
    }
   ],
   "source": [
    "big_chunk_upsert_result = index.upsert(namespace=\"bigchunk\", vectors=dataset_as_tuples, batch_size=300)"
   ]
  },
  {
   "cell_type": "code",
   "execution_count": 60,
   "metadata": {},
   "outputs": [
    {
     "ename": "PineconeException",
     "evalue": "UNKNOWN:Error received from peer ipv4:34.127.5.128:443 {created_time:\"2023-02-14T19:44:32.215301+02:00\", grpc_status:14, grpc_message:\"recvmsg:Connection reset by peer\"}",
     "output_type": "error",
     "traceback": [
      "\u001b[0;31m---------------------------------------------------------------------------\u001b[0m",
      "\u001b[0;31m_MultiThreadedRendezvous\u001b[0m                  Traceback (most recent call last)",
      "File \u001b[0;32m~/Library/Caches/pypoetry/virtualenvs/datasets-nkKhg9Ck-py3.9/lib/python3.9/site-packages/pinecone/core/grpc/index_grpc.py:238\u001b[0m, in \u001b[0;36mPineconeGrpcFuture.result\u001b[0;34m(self, timeout)\u001b[0m\n\u001b[1;32m    237\u001b[0m \u001b[39mtry\u001b[39;00m:\n\u001b[0;32m--> 238\u001b[0m     \u001b[39mself\u001b[39;49m\u001b[39m.\u001b[39;49m_delegate\u001b[39m.\u001b[39;49mresult(timeout\u001b[39m=\u001b[39;49mtimeout)\n\u001b[1;32m    239\u001b[0m \u001b[39mexcept\u001b[39;00m _MultiThreadedRendezvous \u001b[39mas\u001b[39;00m e:\n",
      "File \u001b[0;32m~/Library/Caches/pypoetry/virtualenvs/datasets-nkKhg9Ck-py3.9/lib/python3.9/site-packages/grpc/_channel.py:744\u001b[0m, in \u001b[0;36m_MultiThreadedRendezvous.result\u001b[0;34m(self, timeout)\u001b[0m\n\u001b[1;32m    743\u001b[0m \u001b[39melse\u001b[39;00m:\n\u001b[0;32m--> 744\u001b[0m     \u001b[39mraise\u001b[39;00m \u001b[39mself\u001b[39m\n",
      "\u001b[0;31m_MultiThreadedRendezvous\u001b[0m: <_MultiThreadedRendezvous of RPC that terminated with:\n\tstatus = StatusCode.UNAVAILABLE\n\tdetails = \"recvmsg:Connection reset by peer\"\n\tdebug_error_string = \"UNKNOWN:Error received from peer ipv4:34.127.5.128:443 {created_time:\"2023-02-14T19:44:32.215301+02:00\", grpc_status:14, grpc_message:\"recvmsg:Connection reset by peer\"}\"\n>",
      "\nThe above exception was the direct cause of the following exception:\n",
      "\u001b[0;31mPineconeException\u001b[0m                         Traceback (most recent call last)",
      "Cell \u001b[0;32mIn[60], line 8\u001b[0m\n\u001b[1;32m      3\u001b[0m async_results \u001b[39m=\u001b[39m [\n\u001b[1;32m      4\u001b[0m         index\u001b[39m.\u001b[39mupsert(namespace\u001b[39m=\u001b[39m\u001b[39m\"\u001b[39m\u001b[39masync\u001b[39m\u001b[39m\"\u001b[39m, vectors\u001b[39m=\u001b[39mchunk, async_req\u001b[39m=\u001b[39m\u001b[39mTrue\u001b[39;00m)\n\u001b[1;32m      5\u001b[0m         \u001b[39mfor\u001b[39;00m chunk \u001b[39min\u001b[39;00m chunker(dataset_as_tuples, batch_size\u001b[39m=\u001b[39m\u001b[39m100\u001b[39m)\n\u001b[1;32m      6\u001b[0m     ]\n\u001b[1;32m      7\u001b[0m \u001b[39m# Wait for and retrieve responses (in case of error)\u001b[39;00m\n\u001b[0;32m----> 8\u001b[0m [async_result\u001b[39m.\u001b[39mresult() \u001b[39mfor\u001b[39;00m async_result \u001b[39min\u001b[39;00m async_results]\n",
      "Cell \u001b[0;32mIn[60], line 8\u001b[0m, in \u001b[0;36m<listcomp>\u001b[0;34m(.0)\u001b[0m\n\u001b[1;32m      3\u001b[0m async_results \u001b[39m=\u001b[39m [\n\u001b[1;32m      4\u001b[0m         index\u001b[39m.\u001b[39mupsert(namespace\u001b[39m=\u001b[39m\u001b[39m\"\u001b[39m\u001b[39masync\u001b[39m\u001b[39m\"\u001b[39m, vectors\u001b[39m=\u001b[39mchunk, async_req\u001b[39m=\u001b[39m\u001b[39mTrue\u001b[39;00m)\n\u001b[1;32m      5\u001b[0m         \u001b[39mfor\u001b[39;00m chunk \u001b[39min\u001b[39;00m chunker(dataset_as_tuples, batch_size\u001b[39m=\u001b[39m\u001b[39m100\u001b[39m)\n\u001b[1;32m      6\u001b[0m     ]\n\u001b[1;32m      7\u001b[0m \u001b[39m# Wait for and retrieve responses (in case of error)\u001b[39;00m\n\u001b[0;32m----> 8\u001b[0m [async_result\u001b[39m.\u001b[39;49mresult() \u001b[39mfor\u001b[39;00m async_result \u001b[39min\u001b[39;00m async_results]\n",
      "File \u001b[0;32m~/Library/Caches/pypoetry/virtualenvs/datasets-nkKhg9Ck-py3.9/lib/python3.9/site-packages/pinecone/core/grpc/index_grpc.py:240\u001b[0m, in \u001b[0;36mPineconeGrpcFuture.result\u001b[0;34m(self, timeout)\u001b[0m\n\u001b[1;32m    238\u001b[0m     \u001b[39mself\u001b[39m\u001b[39m.\u001b[39m_delegate\u001b[39m.\u001b[39mresult(timeout\u001b[39m=\u001b[39mtimeout)\n\u001b[1;32m    239\u001b[0m \u001b[39mexcept\u001b[39;00m _MultiThreadedRendezvous \u001b[39mas\u001b[39;00m e:\n\u001b[0;32m--> 240\u001b[0m     \u001b[39mraise\u001b[39;00m PineconeException(e\u001b[39m.\u001b[39m_state\u001b[39m.\u001b[39mdebug_error_string) \u001b[39mfrom\u001b[39;00m \u001b[39me\u001b[39;00m\n",
      "\u001b[0;31mPineconeException\u001b[0m: UNKNOWN:Error received from peer ipv4:34.127.5.128:443 {created_time:\"2023-02-14T19:44:32.215301+02:00\", grpc_status:14, grpc_message:\"recvmsg:Connection reset by peer\"}"
     ]
    }
   ],
   "source": [
    "def chunker(seq, batch_size):\n",
    "  return (seq[pos:pos + batch_size] for pos in range(0, len(seq), batch_size))\n",
    "async_results = [\n",
    "        index.upsert(namespace=\"async\", vectors=chunk, async_req=True)\n",
    "        for chunk in chunker(dataset_as_tuples, batch_size=100)\n",
    "    ]\n",
    "# Wait for and retrieve responses (in case of error)\n",
    "[async_result.result() for async_result in async_results]"
   ]
  },
  {
   "cell_type": "code",
   "execution_count": null,
   "metadata": {},
   "outputs": [],
   "source": []
  },
  {
   "cell_type": "code",
   "execution_count": 23,
   "metadata": {},
   "outputs": [
    {
     "name": "stdout",
     "output_type": "stream",
     "text": [
      "\u001b[0;31mSignature:\u001b[0m\n",
      "\u001b[0mindex\u001b[0m\u001b[0;34m.\u001b[0m\u001b[0mupsert\u001b[0m\u001b[0;34m(\u001b[0m\u001b[0;34m\u001b[0m\n",
      "\u001b[0;34m\u001b[0m    \u001b[0mvectors\u001b[0m\u001b[0;34m:\u001b[0m \u001b[0mUnion\u001b[0m\u001b[0;34m[\u001b[0m\u001b[0mList\u001b[0m\u001b[0;34m[\u001b[0m\u001b[0mvector_service_pb2\u001b[0m\u001b[0;34m.\u001b[0m\u001b[0mVector\u001b[0m\u001b[0;34m]\u001b[0m\u001b[0;34m,\u001b[0m \u001b[0mList\u001b[0m\u001b[0;34m[\u001b[0m\u001b[0mTuple\u001b[0m\u001b[0;34m]\u001b[0m\u001b[0;34m]\u001b[0m\u001b[0;34m,\u001b[0m\u001b[0;34m\u001b[0m\n",
      "\u001b[0;34m\u001b[0m    \u001b[0masync_req\u001b[0m\u001b[0;34m:\u001b[0m \u001b[0mbool\u001b[0m \u001b[0;34m=\u001b[0m \u001b[0;32mFalse\u001b[0m\u001b[0;34m,\u001b[0m\u001b[0;34m\u001b[0m\n",
      "\u001b[0;34m\u001b[0m    \u001b[0mnamespace\u001b[0m\u001b[0;34m:\u001b[0m \u001b[0mOptional\u001b[0m\u001b[0;34m[\u001b[0m\u001b[0mstr\u001b[0m\u001b[0;34m]\u001b[0m \u001b[0;34m=\u001b[0m \u001b[0;32mNone\u001b[0m\u001b[0;34m,\u001b[0m\u001b[0;34m\u001b[0m\n",
      "\u001b[0;34m\u001b[0m    \u001b[0mbatch_size\u001b[0m\u001b[0;34m:\u001b[0m \u001b[0mOptional\u001b[0m\u001b[0;34m[\u001b[0m\u001b[0mint\u001b[0m\u001b[0;34m]\u001b[0m \u001b[0;34m=\u001b[0m \u001b[0;32mNone\u001b[0m\u001b[0;34m,\u001b[0m\u001b[0;34m\u001b[0m\n",
      "\u001b[0;34m\u001b[0m    \u001b[0mshow_progress\u001b[0m\u001b[0;34m:\u001b[0m \u001b[0mbool\u001b[0m \u001b[0;34m=\u001b[0m \u001b[0;32mTrue\u001b[0m\u001b[0;34m,\u001b[0m\u001b[0;34m\u001b[0m\n",
      "\u001b[0;34m\u001b[0m    \u001b[0;34m**\u001b[0m\u001b[0mkwargs\u001b[0m\u001b[0;34m,\u001b[0m\u001b[0;34m\u001b[0m\n",
      "\u001b[0;34m\u001b[0m\u001b[0;34m)\u001b[0m \u001b[0;34m->\u001b[0m \u001b[0mUnion\u001b[0m\u001b[0;34m[\u001b[0m\u001b[0mvector_service_pb2\u001b[0m\u001b[0;34m.\u001b[0m\u001b[0mUpsertResponse\u001b[0m\u001b[0;34m,\u001b[0m \u001b[0mpinecone\u001b[0m\u001b[0;34m.\u001b[0m\u001b[0mcore\u001b[0m\u001b[0;34m.\u001b[0m\u001b[0mgrpc\u001b[0m\u001b[0;34m.\u001b[0m\u001b[0mindex_grpc\u001b[0m\u001b[0;34m.\u001b[0m\u001b[0mPineconeGrpcFuture\u001b[0m\u001b[0;34m]\u001b[0m\u001b[0;34m\u001b[0m\u001b[0;34m\u001b[0m\u001b[0m\n",
      "\u001b[0;31mDocstring:\u001b[0m\n",
      "The upsert operation writes vectors into a namespace.\n",
      "If a new value is upserted for an existing vector id, it will overwrite the previous value.\n",
      "\n",
      "Examples:\n",
      "    >>> index.upsert([('id1', [1.0, 2.0, 3.0], {'key': 'value'}), ('id2', [1.0, 2.0, 3.0])], namespace='ns1')\n",
      "    >>> index.upsert([GRPCVector(id='id1', values=[1.0, 2.0, 3.0], metadata={'key': 'value'}),\n",
      "    >>>              GRPCVector(id='id2', values=[1.0, 2.0, 3.0])], async_req=True)\n",
      "\n",
      "Args:\n",
      "    vectors (Union[List[Vector], List[Tuple]]): A list of vectors to upsert.\n",
      "\n",
      "             A vector can be represented by a 1) GRPCVector object or a 2) tuple.\n",
      "             1) if a tuple is used, it must be of the form (id, values, metadata) or (id, values).\n",
      "                where id is a string, vector is a list of floats, and metadata is a dict.\n",
      "                Examples: ('id1', [1.0, 2.0, 3.0], {'key': 'value'}), ('id2', [1.0, 2.0, 3.0])\n",
      "\n",
      "            2) if a GRPCVector object is used, a GRPCVector object must be of the form\n",
      "                GRPCVector(id, values, metadata), where metadata is an optional argument of type\n",
      "                Dict[str, Union[str, float, int, bool, List[int], List[float], List[str]]]\n",
      "               Examples: GRPCVector(id='id1', values=[1.0, 2.0, 3.0], metadata={'key': 'value'}),\n",
      "                         GRPCVector(id='id2', values=[1.0, 2.0, 3.0])\n",
      "\n",
      "            Note: the dimension of each vector must match the dimension of the index.\n",
      "    async_req (bool): If True, the upsert operation will be performed asynchronously.\n",
      "                      Cannot be used with batch_size.\n",
      "                      Defaults to False. See: https://docs.pinecone.io/docs/performance-tuning [optional]\n",
      "    namespace (str): The namespace to write to. If not specified, the default namespace is used. [optional]\n",
      "    batch_size (int): The number of vectors to upsert in each batch.\n",
      "                        Cannot be used with async_req=Ture.\n",
      "                       If not specified, all vectors will be upserted in a single batch. [optional]\n",
      "    show_progress (bool): Whether to show a progress bar using tqdm.\n",
      "                          Applied only if batch_size is provided. Default is True.\n",
      "\n",
      "Returns: UpsertResponse, contains the number of vectors upserted\n",
      "\u001b[0;31mFile:\u001b[0m      ~/Library/Caches/pypoetry/virtualenvs/datasets-nkKhg9Ck-py3.9/lib/python3.9/site-packages/pinecone/core/grpc/index_grpc.py\n",
      "\u001b[0;31mType:\u001b[0m      method"
     ]
    }
   ],
   "source": [
    "index.upsert?"
   ]
  },
  {
   "cell_type": "code",
   "execution_count": 6,
   "metadata": {},
   "outputs": [
    {
     "name": "stdout",
     "output_type": "stream",
     "text": [
      "{'id': '0', 'values': [0.11801417171955109, -0.06971687078475952, 0.02294970117509365, -0.04219575226306915, -0.03335767984390259, 0.08447737991809845, 0.01647576317191124, 0.11094070971012115, -0.06573085486888885, -0.06928417831659317, -0.026888806372880936, 0.015237070620059967, -0.07085587829351425, 0.045075368136167526, 0.06180352717638016, -0.024566497653722763, 0.10392855852842331, 0.003539985278621316, 0.014256730675697327, 0.0009048186475411057, -0.03079460933804512, -0.05178264528512955, -0.0633532851934433, -0.01674121990799904, 0.017702888697385788, -0.015244374983012676, 0.0019743333104997873, -0.08080808818340302, 0.011598404496908188, -0.03104502335190773, -0.012453855946660042, 0.010345333255827427, 0.03227289393544197, 0.06749101728200912, -0.0859346017241478, -0.05063982680439949, -0.06736496835947037, -0.008296691812574863, -0.01490370836108923, 0.032389793545007706, -0.08475399017333984, -0.06525031477212906, -0.02664000354707241, 0.02264072373509407, -0.012428375892341137, -0.043730027973651886, 0.019070344045758247, -0.0327189676463604, -0.031061680987477303, 0.09103305637836456, -0.02457490563392639, -0.005983778275549412, 0.029079971835017204, 0.042836692184209824, 0.026317160576581955, 0.06495130062103271, -0.009063958190381527, -0.017096050083637238, 0.11289124190807343, 0.004498808179050684, 0.0004337365971878171, 0.01082211546599865, -0.03566153347492218, -0.06345222890377045, -0.036966800689697266, -0.0561465248465538, 0.04396722838282585, -0.03678359463810921, 0.04382539540529251, -0.023229189217090607, 4.284300302970223e-05, -0.010661345906555653, -0.03868065029382706, -0.007640959694981575, 0.007432393729686737, 0.027352193370461464, 0.04055601358413696, -0.021818511188030243, -0.07291639596223831, -0.0704042911529541, -0.017415618523955345, -0.01895955204963684, -0.07826780527830124, 0.03163585066795349, -0.050076697021722794, 0.014969159848988056, 0.007186937611550093, 0.0376812182366848, -0.06756119430065155, 0.04118739441037178, 0.012198141776025295, 0.14958997070789337, 0.026621954515576363, 0.08620088547468185, -0.050303805619478226, 0.05247259512543678, 0.03673785924911499, 0.03345988690853119, 0.008739341981709003, -0.001279750606045127, -0.06213763728737831, 0.030000310391187668, 0.010694686323404312, 0.022068139165639877, -0.08272695541381836, -0.07233908772468567, 0.05017537996172905, 0.039101943373680115, -0.022371456027030945, -0.01606295444071293, 0.03747662901878357, 0.03811761736869812, -0.011885193176567554, 0.059937555342912674, -0.02882358804345131, 0.042439162731170654, 0.0528692789375782, 0.04041822999715805, -0.03315044566988945, 0.0035141389816999435, 0.10159029066562653, 0.0852510929107666, 0.030633993446826935, 0.053211841732263565, -0.052362844347953796, -0.030878571793437004, -0.02666606195271015, 0.03155882656574249, -0.02730320580303669, 0.09476972371339798, -0.0054619149304926395, 0.0733327642083168, -0.04149065911769867, 0.0061785755679011345, -0.05836678296327591, 0.018820269033312798, -0.04922187328338623, 0.0639256164431572, 0.038194164633750916, -0.002784647513180971, 0.001964217284694314, -0.16185343265533447, -0.02488594874739647, 0.035782590508461, 0.03750913590192795, -0.01087260153144598, -0.018407320603728294, 0.03801615908741951, 0.023521512746810913, 0.1215863823890686, -0.06075771152973175, -0.000569500494748354, 0.04303654655814171, 0.08615376800298691, 0.029733555391430855, -0.03019818291068077, 0.0140283377841115, 0.02277597039937973, 0.021738296374678612, -0.010631836950778961, -0.05853341147303581, 0.0044425358064472675, 0.08640661835670471, -0.09627231955528259, -0.05082230269908905, 0.003607744351029396, -0.011791507713496685, 0.029104087501764297, -0.09865038841962814, -0.09286368638277054, 0.00869013462215662, -0.037069372832775116, 0.00516417995095253, -0.02583891712129116, 0.0496346615254879, -0.04145965725183487, 0.08562379330396652, -0.034231677651405334, 0.02868916653096676, 0.007709849625825882, 0.04905242845416069, 0.0003221278893761337, 0.0521259605884552, 0.009352182038128376, -0.03809623420238495, -0.04955456778407097, 0.013347053900361061, 0.01346250344067812, 0.07006165385246277, 0.028005048632621765, -0.029183845967054367, -0.03208686783909798, -0.076470747590065, 0.04260226711630821, 0.03472118452191353, -0.019656281918287277, -0.018569044768810272, -0.043441761285066605, -0.01304580271244049, -0.012661402113735676, -0.04116436094045639, 0.021110104396939278, 0.016517722979187965, -0.04749245569109917, 0.06555455178022385, 0.017470842227339745, -0.044960156083106995, -0.047048214823007584, 0.02427925541996956, -0.008599702268838882, 0.10440704971551895, -0.032912299036979675, 0.024422315880656242, -0.02787499874830246, -0.0010298133129253983, 0.10240600258111954, -0.04268564283847809, 0.054453615099191666, 0.04417891427874565, 0.014215215109288692, -0.03125551715493202, 0.05658646300435066, 0.05441094562411308, 0.01618097350001335, -0.02691236324608326, 0.01165797095745802, 0.0022176809143275023, -0.04620001092553139, 0.03651498630642891, 0.05579131096601486, -0.04695466533303261, 0.0593767911195755, -0.00425858236849308, 0.010829810984432697, 0.040550023317337036, -0.0299062542617321, 0.017287757247686386, 0.039281100034713745, -0.0617339089512825, -0.0179356187582016, 0.028650915250182152, -0.0070831021293997765, -0.06884235888719559, -0.013819684274494648, 0.017242098227143288, 0.062480296939611435, -0.04478251188993454, 0.04225647449493408, -0.03256963938474655, 0.020858407020568848, 0.11397499591112137, 0.04632772132754326, -0.0820738896727562, 0.08838171511888504, -0.004351209383457899, -0.003724289359524846, -0.04880135878920555, -0.06468092650175095, 0.01735519804060459, -0.048366788774728775, -0.12982240319252014, -0.0547206848859787, -0.05465551093220711, 0.01719922013580799, -0.06726023554801941, 0.0340399295091629, 0.08634638786315918, -0.008843089453876019, -0.05915283039212227, 0.01011429913341999, 0.06613680720329285, 0.008957822807133198, -0.0036705397069454193, 0.03027215786278248, 0.006890980992466211, 0.02859250269830227, -0.009286448359489441, -0.06390807032585144, 0.04704778641462326, 0.04748409241437912, 0.056173667311668396, -0.0642196461558342, 0.07978426665067673, -0.020827151834964752, 0.05328192189335823, -0.023819491267204285, 0.16952703893184662, -0.12031417340040207, 0.0005597739364020526, 0.030083920806646347, 0.07209386676549911, -0.036899909377098083, -0.011742616072297096, 0.017727715894579887, 0.05050112307071686, -0.018391145393252373, -0.07785589247941971, -0.06382875889539719, 0.00690526282414794, 0.13502253592014313, -0.08443978428840637, 0.0716983899474144, 0.0019063918152824044, 0.0583958737552166, 0.030396699905395508, 0.07632941752672195, 0.006805648561567068, -0.05204470083117485, -0.011301589198410511, -0.005649620667099953, -0.039741795510053635, 0.006057344377040863, 0.047712668776512146, -0.01634461246430874, 0.007155346684157848, -0.07668004930019379, 0.09706800431013107, -0.07108241319656372, 0.031009230762720108, -0.022075368091464043, 0.02983247861266136, 0.04180143401026726, -0.0052949595265090466, -0.15026526153087616, 0.011879170313477516, 0.08301946520805359, 0.0003116625885013491, -0.04128650203347206, -0.023359080776572227, 0.08453036099672318, -0.006908457260578871, -0.03166673332452774, 0.033910833299160004, 0.014200439676642418, 0.0594806931912899, 0.004139163065701723, 0.020128384232521057, 0.015044615603983402, 0.03211694583296776, 0.09848136454820633, 0.009756017476320267, -0.0022804539185017347, 0.03563416376709938, 0.0012483308091759682, -0.0676078274846077, -0.0697731152176857, 0.02855140157043934, 0.08343863487243652, -0.05746159330010414, -0.024615919217467308, 0.03141046315431595, -0.08466151356697083, 0.005880768410861492, -0.08262820541858673, -0.043055154383182526, -0.018435943871736526, -0.05993688851594925, -0.07651207596063614, 0.0017752611311152577, 0.03750653192400932, 0.005664384458214045, -0.08645173162221909, -0.0014540111878886819, 0.0096425237134099, -0.0637865886092186, -0.016177544370293617, -0.026332629844546318, -0.09851889312267303, -0.08418142795562744, 0.046015407890081406, 0.033176735043525696, -0.07574834674596786, -0.0990544855594635, -0.07511648535728455, 0.026233632117509842, 0.005322340410202742, 0.00189600745216012, 0.03762705996632576, -0.082328662276268, 0.030731236562132835, -0.05863397195935249, -0.0014978911494836211, -0.022303203120827675, 0.006026501301676035], 'sparse_values': {'indices': [470065541, 52922727, 2021799277, 704678850, 131900689, 3162218338, 4172060285, 2852256900, 753185237, 691409538, 1009084850, 2204306146, 2482451809, 152217691, 3717508529, 4037269191, 408571802, 2994235176, 2641553256, 1416137321, 2328678717, 3458187042, 723937430, 2126841918, 1706587157, 3684474652, 4226881656, 1615138199, 2851137560, 2941713443, 3417188605, 2510335750, 1195004061, 2540159778, 2755325844, 1105706408, 3415614577, 3263800907, 753371676, 2733467792, 1827736854, 4037162160, 178465556, 1845866462, 2543655733, 21141582, 2257684172, 1979800029, 1063320047, 1181836714, 1153915709, 150695120, 3752870781, 2271072456, 2779594451, 1662505136, 572399988, 4274573547, 1372199004, 998468856, 4261826499, 2236453805], 'values': [3, 1, 1, 2, 4, 7, 3, 2, 1, 4, 2, 1, 1, 1, 3, 1, 1, 3, 2, 1, 1, 1, 2, 1, 1, 3, 1, 2, 1, 3, 5, 1, 1, 1, 1, 2, 1, 1, 2, 1, 1, 1, 1, 1, 1, 2, 1, 2, 2, 1, 1, 1, 1, 2, 1, 1, 1, 1, 1, 1, 1, 1]}, 'metadata': {'year': 2017, 'month': 12, 'source': 'other'}, 'blob': {'title': 'Daughter Duo is Dancing in The Same Company', 'text': 'There\\'s a surprising twist to Regina Willoughby\\'s last season with Columbia City Ballet: It\\'s also her 18-year-old daughter Melina\\'s first season with the company. Regina, 40, will retire from the stage in March, just as her daughter starts her own career as a trainee. But for this one season, they\\'re sharing the stage together.\\nPerforming Side-By-Side In The Nutcracker\\nRegina and Melina are not only dancing in the same Nutcracker this month, they\\'re onstage at the same time: Regina is doing Snow Queen, while Melina is in the snow corps, and they\\'re both in the Arabian divertissement. \"It\\'s very surreal to be dancing it together,\" says Regina. \"I don\\'t know that I ever thought Melina would take ballet this far.\"\\nLeft: Regina and Melina with another company member post-snow scene in 2003. Right: The pair post-snow scene in 2017 (in the same theater)\\nKeep reading at dancemagazine.com.', 'description': \"There's a surprising twist to Regina Willoughby's last season with\\xa0Columbia City Ballet: It's also her 18-year-old daughter Melina's first season with the company.\", 'url': 'http://www.pointemagazine.com/mother-daughter-duo-dancing-2516681965.html', 'image_url': 'https://pointe-img.rbl.ms/simage/https%3A%2F%2Fassets.rbl.ms%2F16807693%2F980x.png/2000%2C2000/3VnhNGWp75K4SwMx/img.png'}}\n"
     ]
    }
   ],
   "source": [
    "for d in dataset.iter_docs():\n",
    "    print(d)\n",
    "    break"
   ]
  },
  {
   "cell_type": "code",
   "execution_count": null,
   "metadata": {},
   "outputs": [],
   "source": []
  },
  {
   "cell_type": "code",
   "execution_count": null,
   "metadata": {},
   "outputs": [],
   "source": []
  },
  {
   "cell_type": "code",
   "execution_count": 7,
   "metadata": {},
   "outputs": [],
   "source": [
    "import polars as pl\n",
    "import pyarrow.dataset as ds\n",
    "import gcsfs\n",
    "\n",
    "fs = gcsfs.GCSFileSystem(token='anon')\n",
    "\n",
    "dataset = ds.dataset(fs.glob(\"gs://pinecone-datasets-dev/cc-news_msmarco-MiniLM-L6-cos-v5/documents/*.parquet\"), filesystem=fs)"
   ]
  },
  {
   "cell_type": "code",
   "execution_count": 18,
   "metadata": {},
   "outputs": [
    {
     "data": {
      "text/html": [
       "<div>\n",
       "<style>\n",
       ".pl-dataframe > thead > tr > th {\n",
       "  text-align: right;\n",
       "}\n",
       "</style>\n",
       "\n",
       "<table border=\"1\" class=\"pl-dataframe\">\n",
       "<small>shape: (5, 5)</small>\n",
       "<thead>\n",
       "<tr>\n",
       "<th>\n",
       "id\n",
       "</th>\n",
       "<th>\n",
       "values\n",
       "</th>\n",
       "<th>\n",
       "sparse_values\n",
       "</th>\n",
       "<th>\n",
       "metadata\n",
       "</th>\n",
       "<th>\n",
       "blob\n",
       "</th>\n",
       "</tr>\n",
       "<tr>\n",
       "<td>\n",
       "str\n",
       "</td>\n",
       "<td>\n",
       "list[f64]\n",
       "</td>\n",
       "<td>\n",
       "struct[2]\n",
       "</td>\n",
       "<td>\n",
       "struct[3]\n",
       "</td>\n",
       "<td>\n",
       "struct[5]\n",
       "</td>\n",
       "</tr>\n",
       "</thead>\n",
       "<tbody>\n",
       "<tr>\n",
       "<td>\n",
       "&quot;0&quot;\n",
       "</td>\n",
       "<td>\n",
       "[0.118014, -0.069717, ... 0.006027]\n",
       "</td>\n",
       "<td>\n",
       "{[470065541, 52922727, ... 2236453805],[3, 1, ... 1]}\n",
       "</td>\n",
       "<td>\n",
       "{2017,12,&quot;other&quot;}\n",
       "</td>\n",
       "<td>\n",
       "{&quot;Daughter Duo is Dancing in The Same Company&quot;,&quot;There&#x27;s a surprising twist to Regina Willoughby&#x27;s last season with Columbia City Ballet: It&#x27;s also her 18-year-old daughter Melina&#x27;s first season with the company. Regina, 40, will retire from the stage in March, just as her daughter starts her own career as a trainee. But for this one season, they&#x27;re sharing the stage together.\n",
       "Performing Side-By-Side In The Nutcracker\n",
       "Regina and Melina are not only dancing in the same Nutcracker this month, they&#x27;re onstage at the same time: Regina is doing Snow Queen, while Melina is in the snow corps, and they&#x27;re both in the Arabian divertissement. &quot;It&#x27;s very surreal to be dancing it together,&quot; says Regina. &quot;I don&#x27;t know that I ever thought Melina would take ballet this far.&quot;\n",
       "Left: Regina and Melina with another company member post-snow scene in 2003. Right: The pair post-snow scene in 2017 (in the same theater)\n",
       "Keep reading at dancemagazine.com.&quot;,&quot;There&#x27;s a surprising twist to Regina Willoughby&#x27;s last season with Columbia City Ballet: It&#x27;s also her 18-year-old daughter Melina&#x27;s first season with the company.&quot;,&quot;http://www.pointemagazine.com/mother-daughter-duo-dancing-2516681965.html&quot;,&quot;https://pointe-img.rbl.ms/simage/https%3A%2F%2Fassets.rbl.ms%2F16807693%2F980x.png/2000%2C2000/3VnhNGWp75K4SwMx/img.png&quot;}\n",
       "</td>\n",
       "</tr>\n",
       "<tr>\n",
       "<td>\n",
       "&quot;1&quot;\n",
       "</td>\n",
       "<td>\n",
       "[0.055345, 0.004219, ... 0.003738]\n",
       "</td>\n",
       "<td>\n",
       "{[422208903, 4020980221, ... 3632927698],[3, 2, ... 1]}\n",
       "</td>\n",
       "<td>\n",
       "{2017,12,&quot;other&quot;}\n",
       "</td>\n",
       "<td>\n",
       "{&quot;New York City Ballet Announces Interim Leadership Team&quot;,&quot;The New York City Ballet Board of Directors announced on Saturday the interim team that has been appointed to run the artistic side of the company during ballet master in chief Peter Martins&#x27; leave of absence. Martins requested a temporary leave from both NYCB and the School of American Ballet last Thursday while the company undergoes an internal investigation into the sexual harassment accusations aimed at him.\n",
       "The four-person group is made up of members of the company&#x27;s current artistic staff, led by ballet master and former principal dancer Jonathan Stafford. Joining Stafford are NYCB resident choreographer and soloist Justin Peck and ballet masters Craig Hall and Rebecca Krohn, both former dancers with the company. While the members of this group haven&#x27;t had much leadership experience, their close familiarity with the company (Krohn left the stage for her new role just two months ago) should help to ease the dancers&#x27; transition.\n",
       "The team will be responsible for the day-to-day artistic needs of the company including scheduling, casting and conducting rehearsals. While there&#x27;s no word yet on the length of their tenure, we&#x27;ll continue to keep you updated as the story surrounding Martins unfolds.&quot;,&quot;NYCB has announced an interim leadership team to run the company during Peter Martin&#x27;s leave of absence amidst sexual harassment accusations.&quot;,&quot;http://www.pointemagazine.com/nycb-interim-leadership-team-2516618703.html&quot;,&quot;https://pointe-img.rbl.ms/simage/https%3A%2F%2Fassets.rbl.ms%2F16802226%2F980x.jpg/2000%2C2000/ShYo5fi9RpsI65MR/img.jpg&quot;}\n",
       "</td>\n",
       "</tr>\n",
       "<tr>\n",
       "<td>\n",
       "&quot;2&quot;\n",
       "</td>\n",
       "<td>\n",
       "[0.055428, -0.020879, ... 0.029995]\n",
       "</td>\n",
       "<td>\n",
       "{[926942048, 3999900376, ... 2660838232],[1, 2, ... 1]}\n",
       "</td>\n",
       "<td>\n",
       "{2018,2,&quot;other&quot;}\n",
       "</td>\n",
       "<td>\n",
       "{&quot;Watch Pennsylvania Ballet &amp; Boston Ballet Face Off for the Super Bowl&quot;,&quot;The Philadelphia Eagles and the New England Patriots aren&#x27;t the only teams bringing Super Bowl entertainment this week. To celebrate game day (and cheer on their region&#x27;s respective teams), the dancers of Pennsylvania Ballet and Boston Ballet took a break from their usual rehearsals to perform some Super Bowl-themed choreography.\n",
       "Dressed in their Eagles green, the PAB dancers performed a fast-paced routine full of fouetté turns, sky-high jumps and some swan arms (because they&#x27;re known as the birds, get it?).\n",
       "But Boston Ballet also decided to get in on the fun—with five Super Bowl wins, they&#x27;re used to seeing their team in the big game. Sharing their own video on Facebook, which stars principal Paul Craig and soloist Derek Dunn, Boston Ballet threw in a few Balanchine tricks thanks to some props from Prodigal Son.\n",
       "This is officially our new favorite way to get in on the football fun.&quot;,&quot;The Philadelphia Eagles and the New England Patriots aren&#x27;t the only teams bringing Super Bowl entertainment this week. To celebrate game day (and cheer on their region&#x27;s respective teams), the dancers of Pennsylvania Ballet and Boston Ballet took a break from their usual rehearsals to perform some Super Bowl-themed choreography.&quot;,&quot;http://www.pointemagazine.com/watch-pennsylvania-ballet-boston-ballet-face-off-for-the-super-bowl-2530816257.html&quot;,&quot;https://pointe-img.rbl.ms/simage/https%3A%2F%2Fassets.rbl.ms%2F17154326%2F980x.png/2000%2C2000/TJRZyIfKyEmkrAwU/img.png&quot;}\n",
       "</td>\n",
       "</tr>\n",
       "<tr>\n",
       "<td>\n",
       "&quot;3&quot;\n",
       "</td>\n",
       "<td>\n",
       "[0.003297, -0.027542, ... 0.005068]\n",
       "</td>\n",
       "<td>\n",
       "{[704678850, 303109060, ... 1999194864],[2, 4, ... 1]}\n",
       "</td>\n",
       "<td>\n",
       "{2018,4,&quot;other&quot;}\n",
       "</td>\n",
       "<td>\n",
       "{&quot;dance shoes&quot;,&quot;Looking for your next audition shoe? Shot at and in collaboration with Broadway Dance Center, Só Dança has launched a new collection of shoes working with some pretty famous faces of the musical theater world! Offered in two different styles and either 2.5&quot; or 3&quot; heels, top industry professionals are loving how versatile and supportive these shoes are! Pro tip: The heel is centered under the body so you can feel confident and stable!&quot;,&quot;Looking for your next audition shoe? Shot at and in collaboration with Broadway Dance Center, Só Dança has launched a new collection of shoes working with some pretty famous faces of the musical theater world! Offered in two different styles and either 2.5&quot; or 3&quot; heels, top industry professionals ar...&quot;,&quot;https://www.pointemagazine.com/dance-shoes-2562960796.html&quot;,&quot;https://pointe-img.rbl.ms/simage/https%3A%2F%2Fassets.rbl.ms%2F17590823%2F1200x600.jpg/2000%2C2000/vQLjf7MB8teU10V1/img.jpg&quot;}\n",
       "</td>\n",
       "</tr>\n",
       "<tr>\n",
       "<td>\n",
       "&quot;4&quot;\n",
       "</td>\n",
       "<td>\n",
       "[0.08315, -0.072666, ... 0.002932]\n",
       "</td>\n",
       "<td>\n",
       "{[2372913689, 4153621836, ... 887967055],[2, 5, ... 1]}\n",
       "</td>\n",
       "<td>\n",
       "{2017,10,&quot;other&quot;}\n",
       "</td>\n",
       "<td>\n",
       "{&quot;Rebecca Krohn on Her Retirement from New York City Ballet&quot;,&quot;New York City Ballet principal dancer Rebecca Krohn will take her final bow with the company this Saturday night. Krohn joined NYCB as an apprentice in the fall of 1998 and slowly rose through the ranks, becoming a principal in 2012. Though Krohn is best known for her flawless execution of classic Balanchine leotard ballets, her repertoire is vast, spanning Jerome Robbins to Justin Peck. After dancing Stravinsky Violin Concerto with Amar Ramasar on Saturday, Krohn will return to the NYCB studios on Monday in a new role: ballet master. We had the chance to talk to the thoughtful and eloquent dancer about her time with the company and goals for the future.\n",
       "Was New York City Ballet always your dream company?\n",
       "As soon as I knew I wanted to be a professional dancer, I knew that I wanted to be in New York City Ballet. I moved to New York when I was 14 to train at the School of American Ballet, and I got my apprenticeship with the company when I was 17, so it was really a dream come true.\n",
       "Krohn and Adrian Danchig-Waring in Balanchine&#x27;s Stravinsky Violin Concerto. Video Courtesy NYCB.\n",
       "What have been your favorite ballets or roles to dance?\n",
       "Balanchine&#x27;s Stravinsky Violin Concerto, which I&#x27;ll dance for my final show, has always been a favorite, as well as Balanchine&#x27;s Movements for Piano and Orchestra and Agon. Also Robbins&#x27; Dances at a Gathering... there are so many, it&#x27;s hard to choose! I&#x27;ve always really loved the Balanchine black and white ballets, and there are some Robbins ballets that are always so fulfilling.\n",
       "Can you think of a favorite moment with the company?\n",
       "After almost 20 years there are countless things. In general I would say the time that I&#x27;ve had onstage with some of my friends and dancing partners has been so special. It&#x27;s one thing to be a friend with someone and another to also share the stage with them. There&#x27;s just an amazing sense of trust and spontaneity; I feel so connected when I&#x27;m out there. That&#x27;s something I&#x27;ll never forget.\n",
       "What&#x27;s the main way that your experience in the company has changed over the years?\n",
       "As I was getting older the company all of a sudden started to seem younger and younger. When I became a soloist and especially a principal my relationship with the corps de ballet dancers shifted. I wanted to be someone that the young dancers could look up to; I wanted to reach out and connect to them more, and to offer support and advice.\n",
       "Krohn and Amara Ramasar in Balanchine&#x27;s &quot;Movements for Piano and Orchestra.&quot; Photo by Paul Kolnik, Courtesy NYCB.\n",
       "Did you always know that you wanted to stay on with the company?\n",
       "It had been in the back of my mind for a number of years, but I didn&#x27;t really address it formally until a year ago. I spoke to Peter (Martins), just to kind of let him know what I had been thinking. I wanted to hear how he felt about it, which was actually a little nerve-wracking, but he thought it was a great idea.\n",
       "What are you most looking forward to in your new role?\n",
       "I&#x27;d like to nurture them and their talents; I&#x27;m always amazed to see how talented everyone is. The ballets that we have in our repertoire are so amazing—it&#x27;s a great honor to be able to carry them on with the new dancers for the future.\n",
       "Krohn with Robert Fairchild in Justin Peck&#x27;s Everywhere We Go. Video Courtesy NYCB.\n",
       "Is there someone who&#x27;s teaching style or mentorship style you&#x27;d most like to emulate?\n",
       "There are a couple of ballet masters that I&#x27;ve connected to. I&#x27;m very close to Karin von Aroldingen. Her undying passion for these pieces is incredibly inspiring. Susan Hendl has also been an inspiration. She has a wonderful talent of drawing out everyone&#x27;s unique qualities and femininity.\n",
       "What parts of your life outside of ballet do you most look forward to cultivating now that you&#x27;ll have more time on your hands?\n",
       "I&#x27;m looking forward to having more time to enjoy museums in the city. While I was dancing I didn&#x27;t want to be up on my legs all day on my days off. I won&#x27;t have to worry about that so much now, and I can spend my day off roaming around and being inspired. I also love to cook, so I&#x27;ll get to cook a lot more and hopefully host more dinner parties.\n",
       "Krohn and Company in Balanchine&#x27;s &quot;Serenade.&quot; Photo by Paul Kolnik, Courtesy NYCB.\n",
       "Do you have a piece of advice for young dancers who are just starting out?\n",
       "What&#x27;s so special about ballet is the discipline that it instills. It&#x27;s important for young dancers to really understand that that is what&#x27;s taught to you in ballet class every day. It&#x27;s an invaluable quality for a person to have, whether they continue to dance or end up doing other things.\n",
       "My other piece of advice is that you have to treat each day as a new start. Some days you might not feel good about yourself, or things in your body might not be working well—every day is different. But you have to start fresh, be positive and move forward.&quot;,&quot;We interviewed New York City Ballet principal Rebecca Krohn on her company retirement, exciting new career as a ballet master, and her advice for young dancers.&quot;,&quot;http://www.pointemagazine.com/rebecca-krohn-retirement-nycb-2493308072.html&quot;,&quot;https://pointe-img.rbl.ms/simage/https%3A%2F%2Fassets.rbl.ms%2F11537098%2F980x.jpg/2000%2C2000/b0JqtcOZjNJndl99/img.jpg&quot;}\n",
       "</td>\n",
       "</tr>\n",
       "</tbody>\n",
       "</table>\n",
       "</div>"
      ],
      "text/plain": [
       "shape: (5, 5)\n",
       "┌─────┬────────────────────────┬───────────────────────┬───────────────────┬───────────────────────┐\n",
       "│ id  ┆ values                 ┆ sparse_values         ┆ metadata          ┆ blob                  │\n",
       "│ --- ┆ ---                    ┆ ---                   ┆ ---               ┆ ---                   │\n",
       "│ str ┆ list[f64]              ┆ struct[2]             ┆ struct[3]         ┆ struct[5]             │\n",
       "╞═════╪════════════════════════╪═══════════════════════╪═══════════════════╪═══════════════════════╡\n",
       "│ 0   ┆ [0.118014, -0.069717,  ┆ {[470065541,          ┆ {2017,12,\"other\"} ┆ {\"Daughter Duo is     │\n",
       "│     ┆ ... 0.0060...          ┆ 52922727, ...         ┆                   ┆ Dancing in The...     │\n",
       "│     ┆                        ┆ 22364...              ┆                   ┆                       │\n",
       "│ 1   ┆ [0.055345, 0.004219,   ┆ {[422208903,          ┆ {2017,12,\"other\"} ┆ {\"New York City       │\n",
       "│     ┆ ... 0.00373...         ┆ 4020980221, ...       ┆                   ┆ Ballet Announces...   │\n",
       "│     ┆                        ┆ 363...                ┆                   ┆                       │\n",
       "│ 2   ┆ [0.055428, -0.020879,  ┆ {[926942048,          ┆ {2018,2,\"other\"}  ┆ {\"Watch Pennsylvania  │\n",
       "│     ┆ ... 0.0299...          ┆ 3999900376, ...       ┆                   ┆ Ballet & Bo...        │\n",
       "│     ┆                        ┆ 266...                ┆                   ┆                       │\n",
       "│ 3   ┆ [0.003297, -0.027542,  ┆ {[704678850,          ┆ {2018,4,\"other\"}  ┆ {\"dance               │\n",
       "│     ┆ ... 0.0050...          ┆ 303109060, ...        ┆                   ┆ shoes\",\"Looking for   │\n",
       "│     ┆                        ┆ 1999...               ┆                   ┆ your...               │\n",
       "│ 4   ┆ [0.08315, -0.072666,   ┆ {[2372913689,         ┆ {2017,10,\"other\"} ┆ {\"Rebecca Krohn on    │\n",
       "│     ┆ ... 0.00293...         ┆ 4153621836, ... 88... ┆                   ┆ Her Retiremen...      │\n",
       "└─────┴────────────────────────┴───────────────────────┴───────────────────┴───────────────────────┘"
      ]
     },
     "execution_count": 18,
     "metadata": {},
     "output_type": "execute_result"
    }
   ],
   "source": [
    "pl.scan_ds(dataset).head().cache().collect()"
   ]
  },
  {
   "cell_type": "code",
   "execution_count": null,
   "metadata": {},
   "outputs": [],
   "source": [
    "pl.scan_ds(dataset).head().collect()"
   ]
  }
 ],
 "metadata": {
  "kernelspec": {
   "display_name": "datasets-nkKhg9Ck-py3.9",
   "language": "python",
   "name": "python3"
  },
  "language_info": {
   "codemirror_mode": {
    "name": "ipython",
    "version": 3
   },
   "file_extension": ".py",
   "mimetype": "text/x-python",
   "name": "python",
   "nbconvert_exporter": "python",
   "pygments_lexer": "ipython3",
   "version": "3.9.6"
  },
  "orig_nbformat": 4,
  "vscode": {
   "interpreter": {
    "hash": "de99b2fe0f2c134d7ade9758e8240c0683da9468971794eea0bce5366b5320e2"
   }
  }
 },
 "nbformat": 4,
 "nbformat_minor": 2
}
