{
 "cells": [
  {
   "cell_type": "code",
   "execution_count": 1,
   "metadata": {},
   "outputs": [],
   "source": [
    "from datasets import list_datasets, load_dataset"
   ]
  },
  {
   "cell_type": "code",
   "execution_count": 3,
   "metadata": {},
   "outputs": [
    {
     "data": {
      "text/plain": [
       "['cc-news_msmarco-MiniLM-L6-cos-v5',\n",
       " 'quora_all-MiniLM-L6-bm25',\n",
       " 'quora_all-MiniLM-L6-v2_Splade']"
      ]
     },
     "execution_count": 3,
     "metadata": {},
     "output_type": "execute_result"
    }
   ],
   "source": [
    "list_datasets()"
   ]
  },
  {
   "cell_type": "code",
   "execution_count": 4,
   "metadata": {},
   "outputs": [],
   "source": [
    "cc_news = load_dataset(\"cc-news_msmarco-MiniLM-L6-cos-v5\")"
   ]
  },
  {
   "cell_type": "code",
   "execution_count": 5,
   "metadata": {},
   "outputs": [
    {
     "data": {
      "text/html": [
       "<div>\n",
       "<style>\n",
       ".pl-dataframe > thead > tr > th {\n",
       "  text-align: right;\n",
       "}\n",
       "</style>\n",
       "\n",
       "<table border=\"1\" class=\"dataframe pl-dataframe\">\n",
       "<small>shape: (5, 5)</small>\n",
       "<thead>\n",
       "<tr>\n",
       "<th>\n",
       "id\n",
       "</th>\n",
       "<th>\n",
       "values\n",
       "</th>\n",
       "<th>\n",
       "sparse_values\n",
       "</th>\n",
       "<th>\n",
       "metadata\n",
       "</th>\n",
       "<th>\n",
       "blob\n",
       "</th>\n",
       "</tr>\n",
       "<tr>\n",
       "<td>\n",
       "str\n",
       "</td>\n",
       "<td>\n",
       "list[f32]\n",
       "</td>\n",
       "<td>\n",
       "struct[2]\n",
       "</td>\n",
       "<td>\n",
       "struct[3]\n",
       "</td>\n",
       "<td>\n",
       "struct[5]\n",
       "</td>\n",
       "</tr>\n",
       "</thead>\n",
       "<tbody>\n",
       "<tr>\n",
       "<td>\n",
       "&quot;0&quot;\n",
       "</td>\n",
       "<td>\n",
       "[0.118014, -0.069717, ... 0.006027]\n",
       "</td>\n",
       "<td>\n",
       "{[470065541, 52922727, ... 2236453805],[3.0, 1.0, ... 1.0]}\n",
       "</td>\n",
       "<td>\n",
       "{2017,12,&quot;other&quot;}\n",
       "</td>\n",
       "<td>\n",
       "{&quot;Daughter Duo is Dancing in The Same Company&quot;,&quot;There&#x27;s a surprising twist to Regina Willoughby&#x27;s last season with Columbia City Ballet: It&#x27;s also her 18-year-old daughter Melina&#x27;s first season with the company. Regina, 40, will retire from the stage in March, just as her daughter starts her own career as a trainee. But for this one season, they&#x27;re sharing the stage together.\n",
       "Performing Side-By-Side In The Nutcracker\n",
       "Regina and Melina are not only dancing in the same Nutcracker this month, they&#x27;re onstage at the same time: Regina is doing Snow Queen, while Melina is in the snow corps, and they&#x27;re both in the Arabian divertissement. &quot;It&#x27;s very surreal to be dancing it together,&quot; says Regina. &quot;I don&#x27;t know that I ever thought Melina would take ballet this far.&quot;\n",
       "Left: Regina and Melina with another company member post-snow scene in 2003. Right: The pair post-snow scene in 2017 (in the same theater)\n",
       "Keep reading at dancemagazine.com.&quot;,&quot;There&#x27;s a surprising twist to Regina Willoughby&#x27;s last season with Columbia City Ballet: It&#x27;s also her 18-year-old daughter Melina&#x27;s first season with the company.&quot;,&quot;http://www.pointemagazine.com/mother-daughter-duo-dancing-2516681965.html&quot;,&quot;https://pointe-img.rbl.ms/simage/https%3A%2F%2Fassets.rbl.ms%2F16807693%2F980x.png/2000%2C2000/3VnhNGWp75K4SwMx/img.png&quot;}\n",
       "</td>\n",
       "</tr>\n",
       "<tr>\n",
       "<td>\n",
       "&quot;1&quot;\n",
       "</td>\n",
       "<td>\n",
       "[0.055345, 0.004219, ... 0.003738]\n",
       "</td>\n",
       "<td>\n",
       "{[422208903, 4020980221, ... 3632927698],[3.0, 2.0, ... 1.0]}\n",
       "</td>\n",
       "<td>\n",
       "{2017,12,&quot;other&quot;}\n",
       "</td>\n",
       "<td>\n",
       "{&quot;New York City Ballet Announces Interim Leadership Team&quot;,&quot;The New York City Ballet Board of Directors announced on Saturday the interim team that has been appointed to run the artistic side of the company during ballet master in chief Peter Martins&#x27; leave of absence. Martins requested a temporary leave from both NYCB and the School of American Ballet last Thursday while the company undergoes an internal investigation into the sexual harassment accusations aimed at him.\n",
       "The four-person group is made up of members of the company&#x27;s current artistic staff, led by ballet master and former principal dancer Jonathan Stafford. Joining Stafford are NYCB resident choreographer and soloist Justin Peck and ballet masters Craig Hall and Rebecca Krohn, both former dancers with the company. While the members of this group haven&#x27;t had much leadership experience, their close familiarity with the company (Krohn left the stage for her new role just two months ago) should help to ease the dancers&#x27; transition.\n",
       "The team will be responsible for the day-to-day artistic needs of the company including scheduling, casting and conducting rehearsals. While there&#x27;s no word yet on the length of their tenure, we&#x27;ll continue to keep you updated as the story surrounding Martins unfolds.&quot;,&quot;NYCB has announced an interim leadership team to run the company during Peter Martin&#x27;s leave of absence amidst sexual harassment accusations.&quot;,&quot;http://www.pointemagazine.com/nycb-interim-leadership-team-2516618703.html&quot;,&quot;https://pointe-img.rbl.ms/simage/https%3A%2F%2Fassets.rbl.ms%2F16802226%2F980x.jpg/2000%2C2000/ShYo5fi9RpsI65MR/img.jpg&quot;}\n",
       "</td>\n",
       "</tr>\n",
       "<tr>\n",
       "<td>\n",
       "&quot;2&quot;\n",
       "</td>\n",
       "<td>\n",
       "[0.055428, -0.020879, ... 0.029995]\n",
       "</td>\n",
       "<td>\n",
       "{[926942048, 3999900376, ... 2660838232],[1.0, 2.0, ... 1.0]}\n",
       "</td>\n",
       "<td>\n",
       "{2018,2,&quot;other&quot;}\n",
       "</td>\n",
       "<td>\n",
       "{&quot;Watch Pennsylvania Ballet &amp; Boston Ballet Face Off for the Super Bowl&quot;,&quot;The Philadelphia Eagles and the New England Patriots aren&#x27;t the only teams bringing Super Bowl entertainment this week. To celebrate game day (and cheer on their region&#x27;s respective teams), the dancers of Pennsylvania Ballet and Boston Ballet took a break from their usual rehearsals to perform some Super Bowl-themed choreography.\n",
       "Dressed in their Eagles green, the PAB dancers performed a fast-paced routine full of fouetté turns, sky-high jumps and some swan arms (because they&#x27;re known as the birds, get it?).\n",
       "But Boston Ballet also decided to get in on the fun—with five Super Bowl wins, they&#x27;re used to seeing their team in the big game. Sharing their own video on Facebook, which stars principal Paul Craig and soloist Derek Dunn, Boston Ballet threw in a few Balanchine tricks thanks to some props from Prodigal Son.\n",
       "This is officially our new favorite way to get in on the football fun.&quot;,&quot;The Philadelphia Eagles and the New England Patriots aren&#x27;t the only teams bringing Super Bowl entertainment this week. To celebrate game day (and cheer on their region&#x27;s respective teams), the dancers of Pennsylvania Ballet and Boston Ballet took a break from their usual rehearsals to perform some Super Bowl-themed choreography.&quot;,&quot;http://www.pointemagazine.com/watch-pennsylvania-ballet-boston-ballet-face-off-for-the-super-bowl-2530816257.html&quot;,&quot;https://pointe-img.rbl.ms/simage/https%3A%2F%2Fassets.rbl.ms%2F17154326%2F980x.png/2000%2C2000/TJRZyIfKyEmkrAwU/img.png&quot;}\n",
       "</td>\n",
       "</tr>\n",
       "<tr>\n",
       "<td>\n",
       "&quot;3&quot;\n",
       "</td>\n",
       "<td>\n",
       "[0.003297, -0.027542, ... 0.005068]\n",
       "</td>\n",
       "<td>\n",
       "{[704678850, 303109060, ... 1999194864],[2.0, 4.0, ... 1.0]}\n",
       "</td>\n",
       "<td>\n",
       "{2018,4,&quot;other&quot;}\n",
       "</td>\n",
       "<td>\n",
       "{&quot;dance shoes&quot;,&quot;Looking for your next audition shoe? Shot at and in collaboration with Broadway Dance Center, Só Dança has launched a new collection of shoes working with some pretty famous faces of the musical theater world! Offered in two different styles and either 2.5&quot; or 3&quot; heels, top industry professionals are loving how versatile and supportive these shoes are! Pro tip: The heel is centered under the body so you can feel confident and stable!&quot;,&quot;Looking for your next audition shoe? Shot at and in collaboration with Broadway Dance Center, Só Dança has launched a new collection of shoes working with some pretty famous faces of the musical theater world! Offered in two different styles and either 2.5&quot; or 3&quot; heels, top industry professionals ar...&quot;,&quot;https://www.pointemagazine.com/dance-shoes-2562960796.html&quot;,&quot;https://pointe-img.rbl.ms/simage/https%3A%2F%2Fassets.rbl.ms%2F17590823%2F1200x600.jpg/2000%2C2000/vQLjf7MB8teU10V1/img.jpg&quot;}\n",
       "</td>\n",
       "</tr>\n",
       "<tr>\n",
       "<td>\n",
       "&quot;4&quot;\n",
       "</td>\n",
       "<td>\n",
       "[0.08315, -0.072666, ... 0.002932]\n",
       "</td>\n",
       "<td>\n",
       "{[2372913689, 4153621836, ... 887967055],[2.0, 5.0, ... 1.0]}\n",
       "</td>\n",
       "<td>\n",
       "{2017,10,&quot;other&quot;}\n",
       "</td>\n",
       "<td>\n",
       "{&quot;Rebecca Krohn on Her Retirement from New York City Ballet&quot;,&quot;New York City Ballet principal dancer Rebecca Krohn will take her final bow with the company this Saturday night. Krohn joined NYCB as an apprentice in the fall of 1998 and slowly rose through the ranks, becoming a principal in 2012. Though Krohn is best known for her flawless execution of classic Balanchine leotard ballets, her repertoire is vast, spanning Jerome Robbins to Justin Peck. After dancing Stravinsky Violin Concerto with Amar Ramasar on Saturday, Krohn will return to the NYCB studios on Monday in a new role: ballet master. We had the chance to talk to the thoughtful and eloquent dancer about her time with the company and goals for the future.\n",
       "Was New York City Ballet always your dream company?\n",
       "As soon as I knew I wanted to be a professional dancer, I knew that I wanted to be in New York City Ballet. I moved to New York when I was 14 to train at the School of American Ballet, and I got my apprenticeship with the company when I was 17, so it was really a dream come true.\n",
       "Krohn and Adrian Danchig-Waring in Balanchine&#x27;s Stravinsky Violin Concerto. Video Courtesy NYCB.\n",
       "What have been your favorite ballets or roles to dance?\n",
       "Balanchine&#x27;s Stravinsky Violin Concerto, which I&#x27;ll dance for my final show, has always been a favorite, as well as Balanchine&#x27;s Movements for Piano and Orchestra and Agon. Also Robbins&#x27; Dances at a Gathering... there are so many, it&#x27;s hard to choose! I&#x27;ve always really loved the Balanchine black and white ballets, and there are some Robbins ballets that are always so fulfilling.\n",
       "Can you think of a favorite moment with the company?\n",
       "After almost 20 years there are countless things. In general I would say the time that I&#x27;ve had onstage with some of my friends and dancing partners has been so special. It&#x27;s one thing to be a friend with someone and another to also share the stage with them. There&#x27;s just an amazing sense of trust and spontaneity; I feel so connected when I&#x27;m out there. That&#x27;s something I&#x27;ll never forget.\n",
       "What&#x27;s the main way that your experience in the company has changed over the years?\n",
       "As I was getting older the company all of a sudden started to seem younger and younger. When I became a soloist and especially a principal my relationship with the corps de ballet dancers shifted. I wanted to be someone that the young dancers could look up to; I wanted to reach out and connect to them more, and to offer support and advice.\n",
       "Krohn and Amara Ramasar in Balanchine&#x27;s &quot;Movements for Piano and Orchestra.&quot; Photo by Paul Kolnik, Courtesy NYCB.\n",
       "Did you always know that you wanted to stay on with the company?\n",
       "It had been in the back of my mind for a number of years, but I didn&#x27;t really address it formally until a year ago. I spoke to Peter (Martins), just to kind of let him know what I had been thinking. I wanted to hear how he felt about it, which was actually a little nerve-wracking, but he thought it was a great idea.\n",
       "What are you most looking forward to in your new role?\n",
       "I&#x27;d like to nurture them and their talents; I&#x27;m always amazed to see how talented everyone is. The ballets that we have in our repertoire are so amazing—it&#x27;s a great honor to be able to carry them on with the new dancers for the future.\n",
       "Krohn with Robert Fairchild in Justin Peck&#x27;s Everywhere We Go. Video Courtesy NYCB.\n",
       "Is there someone who&#x27;s teaching style or mentorship style you&#x27;d most like to emulate?\n",
       "There are a couple of ballet masters that I&#x27;ve connected to. I&#x27;m very close to Karin von Aroldingen. Her undying passion for these pieces is incredibly inspiring. Susan Hendl has also been an inspiration. She has a wonderful talent of drawing out everyone&#x27;s unique qualities and femininity.\n",
       "What parts of your life outside of ballet do you most look forward to cultivating now that you&#x27;ll have more time on your hands?\n",
       "I&#x27;m looking forward to having more time to enjoy museums in the city. While I was dancing I didn&#x27;t want to be up on my legs all day on my days off. I won&#x27;t have to worry about that so much now, and I can spend my day off roaming around and being inspired. I also love to cook, so I&#x27;ll get to cook a lot more and hopefully host more dinner parties.\n",
       "Krohn and Company in Balanchine&#x27;s &quot;Serenade.&quot; Photo by Paul Kolnik, Courtesy NYCB.\n",
       "Do you have a piece of advice for young dancers who are just starting out?\n",
       "What&#x27;s so special about ballet is the discipline that it instills. It&#x27;s important for young dancers to really understand that that is what&#x27;s taught to you in ballet class every day. It&#x27;s an invaluable quality for a person to have, whether they continue to dance or end up doing other things.\n",
       "My other piece of advice is that you have to treat each day as a new start. Some days you might not feel good about yourself, or things in your body might not be working well—every day is different. But you have to start fresh, be positive and move forward.&quot;,&quot;We interviewed New York City Ballet principal Rebecca Krohn on her company retirement, exciting new career as a ballet master, and her advice for young dancers.&quot;,&quot;http://www.pointemagazine.com/rebecca-krohn-retirement-nycb-2493308072.html&quot;,&quot;https://pointe-img.rbl.ms/simage/https%3A%2F%2Fassets.rbl.ms%2F11537098%2F980x.jpg/2000%2C2000/b0JqtcOZjNJndl99/img.jpg&quot;}\n",
       "</td>\n",
       "</tr>\n",
       "</tbody>\n",
       "</table>\n",
       "</div>"
      ],
      "text/plain": [
       "shape: (5, 5)\n",
       "┌─────┬────────────────────────┬───────────────────────┬───────────────────┬───────────────────────┐\n",
       "│ id  ┆ values                 ┆ sparse_values         ┆ metadata          ┆ blob                  │\n",
       "│ --- ┆ ---                    ┆ ---                   ┆ ---               ┆ ---                   │\n",
       "│ str ┆ list[f32]              ┆ struct[2]             ┆ struct[3]         ┆ struct[5]             │\n",
       "╞═════╪════════════════════════╪═══════════════════════╪═══════════════════╪═══════════════════════╡\n",
       "│ 0   ┆ [0.118014, -0.069717,  ┆ {[470065541,          ┆ {2017,12,\"other\"} ┆ {\"Daughter Duo is     │\n",
       "│     ┆ ... 0.0060...          ┆ 52922727, ...         ┆                   ┆ Dancing in The...     │\n",
       "│     ┆                        ┆ 22364...              ┆                   ┆                       │\n",
       "│ 1   ┆ [0.055345, 0.004219,   ┆ {[422208903,          ┆ {2017,12,\"other\"} ┆ {\"New York City       │\n",
       "│     ┆ ... 0.00373...         ┆ 4020980221, ...       ┆                   ┆ Ballet Announces...   │\n",
       "│     ┆                        ┆ 363...                ┆                   ┆                       │\n",
       "│ 2   ┆ [0.055428, -0.020879,  ┆ {[926942048,          ┆ {2018,2,\"other\"}  ┆ {\"Watch Pennsylvania  │\n",
       "│     ┆ ... 0.0299...          ┆ 3999900376, ...       ┆                   ┆ Ballet & Bo...        │\n",
       "│     ┆                        ┆ 266...                ┆                   ┆                       │\n",
       "│ 3   ┆ [0.003297, -0.027542,  ┆ {[704678850,          ┆ {2018,4,\"other\"}  ┆ {\"dance               │\n",
       "│     ┆ ... 0.0050...          ┆ 303109060, ...        ┆                   ┆ shoes\",\"Looking for   │\n",
       "│     ┆                        ┆ 1999...               ┆                   ┆ your...               │\n",
       "│ 4   ┆ [0.08315, -0.072666,   ┆ {[2372913689,         ┆ {2017,10,\"other\"} ┆ {\"Rebecca Krohn on    │\n",
       "│     ┆ ... 0.00293...         ┆ 4153621836, ... 88... ┆                   ┆ Her Retiremen...      │\n",
       "└─────┴────────────────────────┴───────────────────────┴───────────────────┴───────────────────────┘"
      ]
     },
     "execution_count": 5,
     "metadata": {},
     "output_type": "execute_result"
    }
   ],
   "source": [
    "cc_news.head()"
   ]
  },
  {
   "cell_type": "code",
   "execution_count": 7,
   "metadata": {},
   "outputs": [],
   "source": [
    "quora_splade = load_dataset(\"quora_all-MiniLM-L6-v2_Splade\")"
   ]
  },
  {
   "cell_type": "code",
   "execution_count": 8,
   "metadata": {},
   "outputs": [
    {
     "data": {
      "text/html": [
       "<div>\n",
       "<style>\n",
       ".pl-dataframe > thead > tr > th {\n",
       "  text-align: right;\n",
       "}\n",
       "</style>\n",
       "\n",
       "<table border=\"1\" class=\"dataframe pl-dataframe\">\n",
       "<small>shape: (5, 5)</small>\n",
       "<thead>\n",
       "<tr>\n",
       "<th>\n",
       "id\n",
       "</th>\n",
       "<th>\n",
       "values\n",
       "</th>\n",
       "<th>\n",
       "sparse_values\n",
       "</th>\n",
       "<th>\n",
       "metadata\n",
       "</th>\n",
       "<th>\n",
       "blob\n",
       "</th>\n",
       "</tr>\n",
       "<tr>\n",
       "<td>\n",
       "str\n",
       "</td>\n",
       "<td>\n",
       "list[f32]\n",
       "</td>\n",
       "<td>\n",
       "struct[2]\n",
       "</td>\n",
       "<td>\n",
       "str\n",
       "</td>\n",
       "<td>\n",
       "struct[1]\n",
       "</td>\n",
       "</tr>\n",
       "</thead>\n",
       "<tbody>\n",
       "<tr>\n",
       "<td>\n",
       "&quot;1&quot;\n",
       "</td>\n",
       "<td>\n",
       "[0.402489, -0.234254, ... 0.222465]\n",
       "</td>\n",
       "<td>\n",
       "{[1012, 2000, ... 20138],[0.08416, 0.055447, ... 0.197036]}\n",
       "</td>\n",
       "<td>\n",
       "null\n",
       "</td>\n",
       "<td>\n",
       "{&quot; What is the step by step guide to invest in share market in india?&quot;}\n",
       "</td>\n",
       "</tr>\n",
       "<tr>\n",
       "<td>\n",
       "&quot;2&quot;\n",
       "</td>\n",
       "<td>\n",
       "[0.511194, -0.198763, ... 0.238244]\n",
       "</td>\n",
       "<td>\n",
       "{[1000, 1012, ... 20138],[0.189603, 0.21525, ... 0.147162]}\n",
       "</td>\n",
       "<td>\n",
       "null\n",
       "</td>\n",
       "<td>\n",
       "{&quot; What is the step by step guide to invest in share market?&quot;}\n",
       "</td>\n",
       "</tr>\n",
       "<tr>\n",
       "<td>\n",
       "&quot;3&quot;\n",
       "</td>\n",
       "<td>\n",
       "[-0.223715, 0.741517, ... 0.191113]\n",
       "</td>\n",
       "<td>\n",
       "{[1005, 1006, ... 17070],[0.134441, 0.188095, ... 0.021336]}\n",
       "</td>\n",
       "<td>\n",
       "null\n",
       "</td>\n",
       "<td>\n",
       "{&quot; What is the story of Kohinoor (Koh-i-Noor) Diamond?&quot;}\n",
       "</td>\n",
       "</tr>\n",
       "<tr>\n",
       "<td>\n",
       "&quot;4&quot;\n",
       "</td>\n",
       "<td>\n",
       "[-0.37124, 0.709703, ... -0.049561]\n",
       "</td>\n",
       "<td>\n",
       "{[1005, 1011, ... 21156],[0.029134, 0.360959, ... 0.042988]}\n",
       "</td>\n",
       "<td>\n",
       "null\n",
       "</td>\n",
       "<td>\n",
       "{&quot; What would happen if the Indian government stole the Kohinoor (Koh-i-Noor) diamond back?&quot;}\n",
       "</td>\n",
       "</tr>\n",
       "<tr>\n",
       "<td>\n",
       "&quot;5&quot;\n",
       "</td>\n",
       "<td>\n",
       "[-0.166566, 0.218813, ... -0.097715]\n",
       "</td>\n",
       "<td>\n",
       "{[2006, 2017, ... 21628],[0.033697, 0.44331, ... 0.629484]}\n",
       "</td>\n",
       "<td>\n",
       "null\n",
       "</td>\n",
       "<td>\n",
       "{&quot; How can I increase the speed of my internet connection while using a VPN?&quot;}\n",
       "</td>\n",
       "</tr>\n",
       "</tbody>\n",
       "</table>\n",
       "</div>"
      ],
      "text/plain": [
       "shape: (5, 5)\n",
       "┌─────┬───────────────────────────┬───────────────────┬──────────┬─────────────────────────────────┐\n",
       "│ id  ┆ values                    ┆ sparse_values     ┆ metadata ┆ blob                            │\n",
       "│ --- ┆ ---                       ┆ ---               ┆ ---      ┆ ---                             │\n",
       "│ str ┆ list[f32]                 ┆ struct[2]         ┆ str      ┆ struct[1]                       │\n",
       "╞═════╪═══════════════════════════╪═══════════════════╪══════════╪═════════════════════════════════╡\n",
       "│ 1   ┆ [0.402489, -0.234254, ... ┆ {[1012, 2000, ... ┆ null     ┆ {\" What is the step by step     │\n",
       "│     ┆ 0.2224...                 ┆ 20138],[0.0841... ┆          ┆ guid...                         │\n",
       "│ 2   ┆ [0.511194, -0.198763, ... ┆ {[1000, 1012, ... ┆ null     ┆ {\" What is the step by step     │\n",
       "│     ┆ 0.2382...                 ┆ 20138],[0.1896... ┆          ┆ guid...                         │\n",
       "│ 3   ┆ [-0.223715, 0.741517, ... ┆ {[1005, 1006, ... ┆ null     ┆ {\" What is the story of         │\n",
       "│     ┆ 0.1911...                 ┆ 17070],[0.1344... ┆          ┆ Kohinoor...                     │\n",
       "│ 4   ┆ [-0.37124, 0.709703, ...  ┆ {[1005, 1011, ... ┆ null     ┆ {\" What would happen if the     │\n",
       "│     ┆ -0.0495...                ┆ 21156],[0.0291... ┆          ┆ Indi...                         │\n",
       "│ 5   ┆ [-0.166566, 0.218813, ... ┆ {[2006, 2017, ... ┆ null     ┆ {\" How can I increase the speed │\n",
       "│     ┆ -0.097...                 ┆ 21628],[0.0336... ┆          ┆ ...                             │\n",
       "└─────┴───────────────────────────┴───────────────────┴──────────┴─────────────────────────────────┘"
      ]
     },
     "execution_count": 8,
     "metadata": {},
     "output_type": "execute_result"
    }
   ],
   "source": [
    "quora_splade.head()"
   ]
  },
  {
   "cell_type": "code",
   "execution_count": 9,
   "metadata": {},
   "outputs": [
    {
     "data": {
      "text/html": [
       "<div>\n",
       "<style>\n",
       ".pl-dataframe > thead > tr > th {\n",
       "  text-align: right;\n",
       "}\n",
       "</style>\n",
       "\n",
       "<table border=\"1\" class=\"dataframe pl-dataframe\">\n",
       "<small>shape: (5, 5)</small>\n",
       "<thead>\n",
       "<tr>\n",
       "<th>\n",
       "id\n",
       "</th>\n",
       "<th>\n",
       "values\n",
       "</th>\n",
       "<th>\n",
       "sparse_values\n",
       "</th>\n",
       "<th>\n",
       "filter\n",
       "</th>\n",
       "<th>\n",
       "blob\n",
       "</th>\n",
       "</tr>\n",
       "<tr>\n",
       "<td>\n",
       "str\n",
       "</td>\n",
       "<td>\n",
       "list[f32]\n",
       "</td>\n",
       "<td>\n",
       "struct[2]\n",
       "</td>\n",
       "<td>\n",
       "str\n",
       "</td>\n",
       "<td>\n",
       "struct[1]\n",
       "</td>\n",
       "</tr>\n",
       "</thead>\n",
       "<tbody>\n",
       "<tr>\n",
       "<td>\n",
       "&quot;318&quot;\n",
       "</td>\n",
       "<td>\n",
       "[-0.070952, 0.001262, ... -0.017224]\n",
       "</td>\n",
       "<td>\n",
       "{[29420, 22035, ... 5891],[2.898814, 2.474947, ... 0.00362]}\n",
       "</td>\n",
       "<td>\n",
       "null\n",
       "</td>\n",
       "<td>\n",
       "{&quot;How does Quora look to a moderator?&quot;}\n",
       "</td>\n",
       "</tr>\n",
       "<tr>\n",
       "<td>\n",
       "&quot;378&quot;\n",
       "</td>\n",
       "<td>\n",
       "[0.051709, -0.024983, ... -0.030498]\n",
       "</td>\n",
       "<td>\n",
       "{[10214, 2477, ... 4119],[1.92196, 1.825535, ... 0.000328]}\n",
       "</td>\n",
       "<td>\n",
       "null\n",
       "</td>\n",
       "<td>\n",
       "{&quot;How do I refuse to chose between different things to do in my life?&quot;}\n",
       "</td>\n",
       "</tr>\n",
       "<tr>\n",
       "<td>\n",
       "&quot;379&quot;\n",
       "</td>\n",
       "<td>\n",
       "[0.005765, 0.004137, ... 0.017092]\n",
       "</td>\n",
       "<td>\n",
       "{[28352, 8942, ... 2134],[1.873173, 1.665726, ... 0.010502]}\n",
       "</td>\n",
       "<td>\n",
       "null\n",
       "</td>\n",
       "<td>\n",
       "{&quot;Did Ben Affleck shine more than Christian Bale as Batman?&quot;}\n",
       "</td>\n",
       "</tr>\n",
       "<tr>\n",
       "<td>\n",
       "&quot;399&quot;\n",
       "</td>\n",
       "<td>\n",
       "[0.00809, -0.009231, ... 0.014221]\n",
       "</td>\n",
       "<td>\n",
       "{[3156, 25090, ... 3989],[1.652121, 1.511804, ... 0.010161]}\n",
       "</td>\n",
       "<td>\n",
       "null\n",
       "</td>\n",
       "<td>\n",
       "{&quot;What are the effects of demonitization of 500 and 1000 rupees notes on real estate sector?&quot;}\n",
       "</td>\n",
       "</tr>\n",
       "<tr>\n",
       "<td>\n",
       "&quot;420&quot;\n",
       "</td>\n",
       "<td>\n",
       "[0.024375, 0.077134, ... -0.024681]\n",
       "</td>\n",
       "<td>\n",
       "{[14842, 5541, ... 4119],[2.840584, 2.390757, ... 0.002008]}\n",
       "</td>\n",
       "<td>\n",
       "null\n",
       "</td>\n",
       "<td>\n",
       "{&quot;Why creativity is important?&quot;}\n",
       "</td>\n",
       "</tr>\n",
       "</tbody>\n",
       "</table>\n",
       "</div>"
      ],
      "text/plain": [
       "shape: (5, 5)\n",
       "┌─────┬───────────────────────────┬─────────────────────┬────────┬──────────────────────────────┐\n",
       "│ id  ┆ values                    ┆ sparse_values       ┆ filter ┆ blob                         │\n",
       "│ --- ┆ ---                       ┆ ---                 ┆ ---    ┆ ---                          │\n",
       "│ str ┆ list[f32]                 ┆ struct[2]           ┆ str    ┆ struct[1]                    │\n",
       "╞═════╪═══════════════════════════╪═════════════════════╪════════╪══════════════════════════════╡\n",
       "│ 318 ┆ [-0.070952, 0.001262, ... ┆ {[29420, 22035, ... ┆ null   ┆ {\"How does Quora look to a   │\n",
       "│     ┆ -0.017...                 ┆ 5891],[2.898...     ┆        ┆ moder...                     │\n",
       "│ 378 ┆ [0.051709, -0.024983, ... ┆ {[10214, 2477, ...  ┆ null   ┆ {\"How do I refuse to chose   │\n",
       "│     ┆ -0.030...                 ┆ 4119],[1.9219...    ┆        ┆ betwe...                     │\n",
       "│ 379 ┆ [0.005765, 0.004137, ...  ┆ {[28352, 8942, ...  ┆ null   ┆ {\"Did Ben Affleck shine more │\n",
       "│     ┆ 0.01709...                ┆ 2134],[1.8731...    ┆        ┆ tha...                       │\n",
       "│ 399 ┆ [0.00809, -0.009231, ...  ┆ {[3156, 25090, ...  ┆ null   ┆ {\"What are the effects of    │\n",
       "│     ┆ 0.01422...                ┆ 3989],[1.6521...    ┆        ┆ demoni...                    │\n",
       "│ 420 ┆ [0.024375, 0.077134, ...  ┆ {[14842, 5541, ...  ┆ null   ┆ {\"Why creativity is          │\n",
       "│     ┆ -0.0246...                ┆ 4119],[2.8405...    ┆        ┆ important?\"}                 │\n",
       "└─────┴───────────────────────────┴─────────────────────┴────────┴──────────────────────────────┘"
      ]
     },
     "execution_count": 9,
     "metadata": {},
     "output_type": "execute_result"
    }
   ],
   "source": [
    "quora_splade.queries.head()"
   ]
  },
  {
   "cell_type": "code",
   "execution_count": 14,
   "metadata": {},
   "outputs": [
    {
     "name": "stdout",
     "output_type": "stream",
     "text": [
      "<class 'list'>\n",
      "[{'id': '1', 'values': [0.40248939394950867, -0.23425447940826416, -0.3600689768791199, 0.044094517827034, -0.3468424677848816, 0.3234941363334656, 0.10652119666337967, 0.14611108601093292, -0.6271273493766785, -0.13065853714942932, -0.0895373746752739, -0.17074045538902283, -0.03158145770430565, -0.15442264080047607, 0.15579669177532196, -0.2267913818359375, -0.46054235100746155, 0.14021535217761993, 0.15979616343975067, -0.2503181993961334, -0.2422565072774887, -0.23023611307144165, -0.24133673310279846, -0.3223380744457245, 0.32017892599105835, 0.02894660271704197, 0.39980679750442505, -0.309948205947876, 0.07238642126321793, 0.02210020273923874, 0.2701612412929535, -0.29425638914108276, 0.34631282091140747, 0.2447502464056015, -0.4660828113555908, 0.13720446825027466, -0.15229322016239166, 0.03446380794048309, 0.43174952268600464, -0.20382696390151978, 0.03156835213303566, -0.23786690831184387, -0.32600346207618713, 0.033222220838069916, 0.18844421207904816, 0.04358822852373123, 0.06176363676786423, 0.24527543783187866, 0.42936238646507263, -0.21464833617210388, -0.7608565092086792, 0.0600072480738163, -0.22330866754055023, 0.06448443979024887, -0.4312519133090973, -0.3436424136161804, -0.24030816555023193, 0.06324757635593414, 0.41461652517318726, -0.2783958911895752, 0.3585963249206543, -0.013067946769297123, -0.020757142454385757, 0.20574942231178284, 0.4356340765953064, -0.3597833514213562, 0.1874217540025711, 0.44603386521339417, -0.01390411239117384, -0.1332353949546814, -0.02743477188050747, -0.2413506805896759, -0.8078643679618835, -0.3688565194606781, -0.9519113898277283, 0.06496454030275345, 0.1619141548871994, 0.340727299451828, 0.09414760768413544, 0.048508964478969574, -0.33508166670799255, 0.4482448995113373, 0.2108241319656372, 0.25304552912712097, -0.18286621570587158, 0.2749086618423462, 0.2515234053134918, -0.002386447275057435, -0.24806252121925354, -0.10860088467597961, 0.38172683119773865, 0.2310061752796173, -0.5915738940238953, 0.09467906504869461, 0.14559803903102875, 0.0494341179728508, -0.4864761233329773, -0.2498249113559723, -0.02753155492246151, 0.0761939138174057, 0.21489372849464417, -0.32520267367362976, -0.3447045385837555, -0.028845321387052536, -0.7138286232948303, -0.21768830716609955, 0.3887474536895752, 0.06090804934501648, 0.24567019939422607, -0.14833176136016846, -0.7409482598304749, 0.44491925835609436, -0.21181908249855042, -0.03409503772854805, -0.12190099060535431, 0.07758291065692902, -0.07446087151765823, -0.027433378621935844, 0.4250357449054718, 0.0973505899310112, -0.08074476569890976, 0.15959429740905762, -0.06818293035030365, -0.5231255888938904, -0.25372689962387085, -0.055965960025787354, -0.23049862682819366, -2.072413438230986e-32, -0.5653577446937561, 0.38743335008621216, -0.12861813604831696, 0.24137580394744873, -0.443764328956604, -0.009681926108896732, 0.303199827671051, -0.3676645755767822, -0.4909793734550476, -0.10408883541822433, 0.3194935917854309, -0.13237205147743225, -0.3153771758079529, -0.17683610320091248, 0.15786254405975342, -0.3691796362400055, -0.033228129148483276, 0.35229331254959106, 0.5891031622886658, -0.49674779176712036, 0.3205655813217163, 0.0021508107893168926, 0.24095745384693146, 0.17488057911396027, 0.2397392988204956, -0.05870634689927101, 0.3259550631046295, -0.10575290769338608, 0.3616098165512085, 0.2514140009880066, 0.7115873098373413, 0.18007516860961914, -0.6874544620513916, -0.05477099120616913, 0.016243133693933487, 0.20709238946437836, -0.21064992249011993, -0.038304269313812256, -0.10983054339885712, -0.007735208608210087, -0.29676496982574463, -0.14364507794380188, -0.327808678150177, -0.2768969237804413, -0.09859729558229446, 0.6122252345085144, -0.15535062551498413, 0.3033513128757477, 0.1798766553401947, 0.1225951686501503, -0.21808090806007385, 0.07054729014635086, -0.3764951229095459, -0.06424529105424881, 0.17281758785247803, 0.29913198947906494, -0.14242303371429443, -0.8053291440010071, -0.19539684057235718, 0.2468520849943161, -0.06885607540607452, -0.20637591183185577, -0.3806758522987366, 0.14661328494548798, -0.7036811709403992, 0.3617326021194458, -0.12591993808746338, -0.34703564643859863, 0.013740275986492634, 0.025164250284433365, -0.22248634696006775, -0.1906690001487732, 0.10296252369880676, 0.14798152446746826, -0.7136936783790588, 0.12422186881303787, -0.5066446661949158, 0.1424989551305771, 0.46143800020217896, 0.13629068434238434, -0.13204917311668396, -0.20811033248901367, -0.001306869089603424, 0.11219492554664612, 0.15412186086177826, 0.036487944424152374, -0.10484785586595535, 0.3384823203086853, 0.10203450918197632, -0.29140424728393555, 0.17728528380393982, 0.11429024487733841, 0.10811619460582733, 0.11308056116104126, 0.19277597963809967, 1.5938786878898562e-33, -0.009759016335010529, -0.08996385335922241, 0.1790940910577774, 0.2557310461997986, -0.21833282709121704, 0.12828242778778076, -0.08545053750276566, 0.27993351221084595, 0.8039984703063965, 0.4754331111907959, -0.3927112817764282, 0.24611100554466248, 0.33203190565109253, 0.40318337082862854, -0.5470679402351379, -0.23624880611896515, 0.4532458186149597, 0.17340584099292755, 0.11402720212936401, 0.06639939546585083, -0.06497903913259506, 0.33019277453422546, 0.22684164345264435, 0.32269415259361267, 0.18737579882144928, -0.055919259786605835, -0.031418267637491226, 0.42693138122558594, -0.11636006832122803, -0.2323417365550995, 0.3509775996208191, 0.0016235639341175556, -0.201152041554451, 0.16329164803028107, -0.4945308566093445, -0.14929284155368805, 0.3315434455871582, -0.02046532742679119, 0.2907010316848755, 0.12821632623672485, 0.2920165956020355, 0.35903406143188477, 0.37574535608291626, -0.20410436391830444, 0.07238598167896271, -0.3371722400188446, 0.502217173576355, 0.28961464762687683, -0.30771976709365845, -0.30698680877685547, -0.006792744621634483, -0.07451782375574112, 0.6013427376747131, -0.5437946319580078, -0.1792505979537964, 0.27817174792289734, 0.16121812164783478, 0.2225063592195511, -0.37709617614746094, 0.10997187346220016, 0.12633059918880463, 0.33294469118118286, 0.23484602570533752, 0.38289782404899597, -0.22729800641536713, -0.14746183156967163, -0.10167433321475983, 0.005434607155621052, 0.31589552760124207, -0.508764922618866, 0.16031602025032043, -0.15642257034778595, 0.3577198088169098, -0.14375978708267212, 0.10067230463027954, -0.05017402023077011, 0.061013150960206985, -0.138174369931221, 0.3117598295211792, 0.07981893420219421, -0.12518782913684845, 0.5623873472213745, 0.2016504406929016, -0.240280881524086, -0.14732511341571808, -0.17314209043979645, -0.005182800814509392, -0.41340285539627075, 0.07909424602985382, -0.49214139580726624, -0.7778835892677307, 0.08567452430725098, 0.4351464509963989, 0.36180955171585083, -0.007120848633348942, -9.912122322930372e-08, -0.43998539447784424, -0.7192173600196838, 0.40284493565559387, 0.12728729844093323, -0.21436560153961182, 0.07151269912719727, 0.059201858937740326, 0.36170443892478943, 0.18559736013412476, 0.07579119503498077, -0.0313815139234066, -0.09294840693473816, -0.29248642921447754, 0.3016071915626526, -0.40746235847473145, -0.09280584007501602, 0.024436619132757187, 0.4056846797466278, -0.06325497478246689, -0.005659840069711208, 0.41924959421157837, -0.009177148342132568, 0.6808125376701355, 0.08800196647644043, 0.5345180034637451, 0.07411283999681473, 0.37138310074806213, -0.13625992834568024, -0.04176322743296623, 0.22842255234718323, -0.2435508668422699, -0.06889953464269638, 0.23519361019134521, -0.15262353420257568, -0.4984797239303589, 0.4078400731086731, 0.6812096238136292, 0.4227314591407776, 0.3983871340751648, 0.12905696034431458, -0.44084620475769043, 0.45021215081214905, 0.3567998707294464, -0.21969598531723022, -0.4673013389110565, 0.4722225069999695, -0.43596434593200684, -0.2668684124946594, 0.0059906733222305775, -0.3158096671104431, 0.04711727052927017, -0.13874241709709167, -0.06685430556535721, 0.07180533558130264, -0.29517292976379395, 0.4766753017902374, -0.5089581608772278, 0.050949577242136, -0.16797500848770142, -0.29480698704719543, 0.004386797081679106, -0.24835555255413055, -0.3877891004085541, 0.22246545553207397], 'sparse_values': {'indices': [1012, 2000, 2011, 2017, 2022, 2044, 2194, 2323, 2449, 2590, 2634, 2796, 2933, 2968, 3006, 3112, 3119, 3257, 3343, 3357, 3623, 3673, 3745, 4041, 4084, 4118, 4518, 4636, 4753, 4965, 5002, 5009, 5211, 5237, 5247, 5309, 5446, 5471, 5656, 5821, 5971, 6040, 6089, 6202, 6378, 6661, 7387, 7660, 9387, 9529, 9942, 10067, 10518, 10984, 11443, 11594, 12012, 12468, 12598, 15697, 18422, 19920, 20138], 'values': [0.08416007459163666, 0.0554468147456646, 1.4922202825546265, 0.049816567450761795, 0.020445723086595535, 0.4489949941635132, 0.06565595418214798, 0.08549744635820389, 0.004024977795779705, 0.06326591968536377, 2.1672542095184326, 1.685641884803772, 0.28024032711982727, 0.16014796495437622, 1.5297423601150513, 0.07839880883693695, 0.4027247726917267, 0.045459192246198654, 0.059637971222400665, 1.446097493171692, 0.23968777060508728, 0.13784313201904297, 1.8236089944839478, 0.27727454900741577, 1.5429503917694092, 0.2449963539838791, 0.8573970794677734, 0.46544313430786133, 0.1645381897687912, 0.29966896772384644, 0.061438631266355515, 1.5796574354171753, 1.2139551639556885, 0.11457052826881409, 0.01976216956973076, 0.43766698241233826, 0.531425952911377, 0.18588601052761078, 0.8480867147445679, 0.42938485741615295, 0.10353835672140121, 0.17335212230682373, 0.9634047746658325, 0.003050468163564801, 0.008624966256320477, 0.7571543455123901, 0.07806675881147385, 0.20413295924663544, 0.23877735435962677, 0.37571513652801514, 0.26806867122650146, 0.12337662279605865, 1.1287175416946411, 0.08835786581039429, 0.07824984937906265, 0.039734333753585815, 0.057413697242736816, 0.8379086852073669, 0.154617041349411, 1.2853566408157349, 0.375698447227478, 0.4795040190219879, 0.19703622162342072]}, 'metadata': None}, {'id': '2', 'values': [0.5111936926841736, -0.19876320660114288, -0.3263757824897766, 0.1264907270669937, -0.2611871361732483, 0.3387269675731659, 0.05753359571099281, 0.08134911209344864, -0.5754592418670654, 0.01622691936790943, -0.09738001972436905, 0.0205721203237772, -0.125930517911911, -0.08703700453042984, -0.07161491364240646, -0.23132653534412384, -0.6639630794525146, 0.13190223276615143, 0.07345902174711227, -0.17355307936668396, -0.2668001353740692, -0.4908941388130188, -0.26480382680892944, -0.26483115553855896, 0.31008467078208923, 0.17699256539344788, 0.3553285300731659, -0.1541825383901596, 0.1363166868686676, -0.01415884867310524, 0.06955642998218536, -0.5438880920410156, 0.5309838056564331, 0.04364285245537758, -0.2764047086238861, 0.1913057267665863, 0.13351044058799744, -0.05876976624131203, 0.11502064019441605, 0.09990839660167694, -0.10254725068807602, -0.300150990486145, -0.44082891941070557, 0.16051319241523743, 0.19910190999507904, 0.1327115148305893, 0.08467497676610947, 0.17979666590690613, 0.464267760515213, -0.20632487535476685, -0.8682824373245239, 0.094483382999897, -0.15223002433776855, 0.11054617911577225, -0.41366341710090637, -0.060937803238630295, -0.33612924814224243, 0.25872665643692017, 0.477653831243515, -0.5068363547325134, 0.30394354462623596, -0.2516937553882599, -0.03479870781302452, 0.2123377025127411, 0.2929254472255707, -0.260015070438385, 0.04780362918972969, 0.3662557005882263, -0.07200160622596741, -0.14098678529262543, -0.17945240437984467, -0.3012312352657318, -0.8468164801597595, -0.345491886138916, -0.7707434296607971, 0.0573146753013134, 0.2607439458370209, 0.07332833111286163, 0.1153147742152214, 0.16630178689956665, -0.35181644558906555, 0.4886449873447418, -0.08681844919919968, 0.135273739695549, -0.05200404301285744, 0.2119690477848053, 0.2602783739566803, 0.125196173787117, -0.07857213169336319, 0.0711308941245079, 0.14412470161914825, 0.091610386967659, -0.5937660932540894, -0.03837894648313522, 0.20824840664863586, 0.28175586462020874, -0.46975600719451904, -0.39417749643325806, 0.028875943273305893, 0.07170156389474869, 0.36139586567878723, -0.3268267810344696, -0.10270696133375168, -0.09160708636045456, -0.41367003321647644, -0.14427119493484497, 0.4036923944950104, 0.1115880161523819, 0.29380252957344055, -0.19598349928855896, -0.7474657893180847, 0.2558255195617676, -0.0837211161851883, -0.03549635410308838, -0.045738834887742996, 0.00936156790703535, -0.08868966996669769, -0.15753288567066193, 0.45736053586006165, 0.09354112297296524, 0.16400547325611115, 0.017212150618433952, 0.0057687112130224705, -0.4136349558830261, -0.14129605889320374, 0.0939355343580246, -0.2185412496328354, -2.3943065500931394e-32, -0.6271546483039856, 0.4373079538345337, -0.14180803298950195, 0.49910613894462585, -0.3983234763145447, 0.0906486064195633, 0.24083870649337769, -0.22119596600532532, -0.5662642121315002, 0.15604616701602936, 0.4827226400375366, -0.025298304855823517, -0.3444571793079376, 0.05065976828336716, 0.04177796468138695, -0.38475462794303894, -0.06355444341897964, 0.3715474009513855, 0.5037961602210999, -0.6547174453735352, 0.346194863319397, 0.07823754847049713, 0.08784765750169754, 0.0682828426361084, 0.32251301407814026, -0.0913580134510994, 0.05914836376905441, -0.20006754994392395, 0.4644497036933899, 0.15001226961612701, 0.660385012626648, 0.23247811198234558, -0.6675281524658203, -0.2369784712791443, 0.1060548797249794, 0.23025193810462952, -0.23217548429965973, -0.004297415725886822, 0.08314093947410583, -0.07681211084127426, -0.3561522364616394, -0.2705058753490448, -0.229696586728096, -0.2913508117198944, -0.07799389213323593, 0.5242286324501038, -0.3253698945045471, -0.02829548344016075, 0.14392699301242828, 0.009618028067052364, -0.044028863310813904, -0.11096159368753433, -0.3214511275291443, 0.17640076577663422, 0.11516422778367996, 0.27797141671180725, -0.15884584188461304, -0.8223845362663269, -0.3964653015136719, 0.17693346738815308, 0.08553989231586456, -0.0073445457965135574, -0.2674623131752014, 0.3638337552547455, -0.6873006820678711, 0.40304702520370483, -0.29526999592781067, 0.001729605603031814, -0.029865285381674767, 0.14997665584087372, -0.21004322171211243, -0.2341534048318863, 0.06523028761148453, 0.02279260940849781, -0.5303099751472473, -0.1672007441520691, -0.5799092650413513, 0.13418380916118622, 0.3952464461326599, 0.07309269905090332, -0.1114218607544899, -0.15468056499958038, 0.01953606680035591, 0.3194403648376465, -0.03344752639532089, 0.1194894090294838, -0.09160729497671127, 0.3536001145839691, 0.17685823142528534, -0.3471386134624481, 0.00782610010355711, 0.023755144327878952, 0.14779537916183472, 0.13713201880455017, -0.012696555815637112, 3.598371878859338e-33, -0.04236054793000221, -0.05296788364648819, 0.34353208541870117, 0.16107319295406342, -0.3280092477798462, 0.12769517302513123, -0.0450756698846817, 0.11553116887807846, 0.6283159852027893, 0.3789812922477722, -0.39525800943374634, 0.14782015979290009, 0.2283046990633011, 0.2897763252258301, -0.5713418126106262, -0.1827758103609085, 0.37343889474868774, 0.09602128714323044, 0.2587979733943939, -0.017052508890628815, -0.18697190284729004, 0.17941123247146606, 0.18487711250782013, 0.3950583040714264, 0.21247498691082, -0.12498695403337479, 0.232303649187088, 0.4218086898326874, -0.04224666208028793, -0.17316290736198425, 0.14126300811767578, 0.21840207278728485, 0.004327168222516775, 0.018932785838842392, -0.35572609305381775, 0.026336021721363068, 0.26385167241096497, -0.06637224555015564, 0.14516954123973846, -0.00761789595708251, 0.49379462003707886, 0.15509964525699615, 0.22347202897071838, -0.2874118983745575, 0.042012330144643784, -0.15779432654380798, 0.4078124463558197, 0.31767329573631287, -0.3228381276130676, -0.14939695596694946, -0.06030105799436569, -0.06926066428422928, 0.41370028257369995, -0.36561933159828186, -0.23523211479187012, 0.2926872670650482, 0.15661105513572693, 0.20440725982189178, -0.25652968883514404, 0.2292867749929428, -0.0756770595908165, 0.2505021095275879, 0.16818483173847198, 0.4190194308757782, -0.19652611017227173, -0.2881919741630554, -0.34682461619377136, -0.025916527956724167, 0.1477714478969574, -0.3900905251502991, 0.012355124577879906, 0.09541139751672745, 0.4301989674568176, -0.34168925881385803, 0.1250782012939453, -0.12637560069561005, 0.16245128214359283, -0.13676489889621735, 0.26693597435951233, 0.018303990364074707, -0.10974205285310745, 0.4307367205619812, 0.0839252844452858, -0.14679238200187683, -0.3470646142959595, -0.08081508427858353, -0.04981600493192673, -0.4215666949748993, -0.17630770802497864, -0.5839411020278931, -0.7665311694145203, 0.05221771448850632, 0.4941800832748413, 0.2993946969509125, -0.17889191210269928, -9.918137067188582e-08, -0.38351935148239136, -0.5631948709487915, 0.5107234120368958, 0.0775289312005043, -0.2335735708475113, 0.146172896027565, 0.2669607698917389, 0.24411357939243317, 0.16347673535346985, 0.05040465295314789, 0.030130915343761444, -0.015538585372269154, -0.2687162160873413, 0.38825809955596924, -0.30218246579170227, -0.014560962095856667, -0.1686844527721405, 0.3423551023006439, 0.050581641495227814, 0.23834575712680817, 0.33445826172828674, -0.055073339492082596, 0.5358552932739258, 0.15168870985507965, 0.61460942029953, 0.1405234932899475, 0.5551135540008545, 0.11912461370229721, -0.06095995008945465, 0.203155517578125, -0.1232813373208046, -0.11002074927091599, 0.15208815038204193, 0.14852572977542877, -0.49630898237228394, 0.31619158387184143, 0.5738595128059387, 0.41401734948158264, 0.1843944489955902, -0.02798730880022049, -0.41345182061195374, 0.6133015751838684, 0.3535536229610443, -0.25991690158843994, -0.5516012907028198, 0.4814094305038452, -0.4528076946735382, -0.20460321009159088, 0.08547807484865189, -0.11808133870363235, 0.1862962543964386, -0.14346660673618317, 0.06395621597766876, 0.07124613970518112, -0.20699375867843628, 0.3520216643810272, -0.26303809881210327, 0.11988864094018936, -0.08581846207380295, -0.2149679809808731, -0.044770460575819016, -0.2480250895023346, -0.3225772976875305, 0.2382436841726303], 'sparse_values': {'indices': [1000, 1012, 1999, 2000, 2011, 2017, 2022, 2044, 2323, 2449, 2590, 2933, 2968, 3006, 3044, 3112, 3119, 3171, 3247, 3257, 3357, 3623, 3673, 3745, 3921, 4041, 4084, 4106, 4118, 4518, 4636, 4965, 5009, 5211, 5309, 5446, 5471, 5656, 5821, 5876, 6040, 6089, 6202, 6661, 7660, 7667, 7816, 8606, 9387, 9529, 9942, 10067, 10518, 11443, 11594, 12468, 12598, 15697, 16852, 18422, 19920, 20138], 'values': [0.18960314989089966, 0.2152501940727234, 0.0011330381967127323, 0.17296001315116882, 1.8672637939453125, 0.046944987028837204, 0.00684363953769207, 0.7598202228546143, 0.1602921038866043, 0.06517717987298965, 0.18115739524364471, 0.3758210837841034, 0.2669968903064728, 1.6696175336837769, 0.11410349607467651, 0.2478855401277542, 0.38341790437698364, 0.15709108114242554, 0.009740782901644707, 0.08177153766155243, 1.7160979509353638, 0.27178195118904114, 0.207466721534729, 2.1694016456604004, 0.08903545886278152, 0.4071769714355469, 1.8372405767440796, 0.19027259945869446, 0.23481148481369019, 1.0397841930389404, 0.3972565829753876, 0.13267841935157776, 1.7884058952331543, 1.3688383102416992, 0.44322049617767334, 0.6346096992492676, 0.05973277613520622, 0.9388668537139893, 0.41607633233070374, 0.015938835218548775, 0.3293505311012268, 1.0623054504394531, 0.061375610530376434, 0.903298020362854, 0.11761394143104553, 0.15273110568523407, 0.05600365996360779, 0.15333743393421173, 0.28042927384376526, 0.559752345085144, 0.36570271849632263, 0.10519585013389587, 1.2663981914520264, 0.10937320441007614, 0.1395280957221985, 1.0143706798553467, 0.103654645383358, 1.450467586517334, 0.04204435274004936, 0.5024728775024414, 0.6492087841033936, 0.14716163277626038]}, 'metadata': None}]\n"
     ]
    }
   ],
   "source": [
    "for doc in quora_splade.iter_docs(batch_size=2):\n",
    "    print(type(doc))\n",
    "    print(doc)\n",
    "    break"
   ]
  },
  {
   "cell_type": "code",
   "execution_count": 18,
   "metadata": {},
   "outputs": [
    {
     "name": "stdout",
     "output_type": "stream",
     "text": [
      "{'id': '318', 'values': [-0.07095234841108322, 0.0012621647911146283, -0.02035127393901348, -0.01965915597975254, -0.06974544376134872, 0.004128149710595608, -0.015190710313618183, -0.04436178877949715, 0.025211535394191742, -0.0050856187008321285, -0.006009699776768684, -0.05945833772420883, -0.014614865183830261, -0.038013748824596405, 0.007056275848299265, 0.04038175567984581, 0.06365413963794708, -0.04925695061683655, -0.07197923958301544, -0.06148882210254669, 0.04222732409834862, -0.004914917983114719, 0.0180814228951931, -0.058613527566194534, -0.07871963083744049, 0.010809065774083138, -0.07479874044656754, 0.06261558085680008, 0.016796685755252838, -0.04747839272022247, -0.03786980360746384, 0.013619877398014069, 0.038597285747528076, -0.005057549104094505, 0.006131830159574747, 0.0826585441827774, 0.09198029339313507, -0.02973650023341179, -0.029081573709845543, -0.07255413383245468, -0.062318380922079086, -0.01826833002269268, -0.0484602190554142, -0.02796861156821251, 0.004947248846292496, -0.12367089837789536, 0.0603971891105175, 0.02751147747039795, 0.03722532093524933, -0.0776909664273262, -0.060999222099781036, -0.07441545277833939, 0.06972154229879379, 0.059261031448841095, -0.03571394085884094, 0.06212194263935089, -0.016405625268816948, 0.019968299195170403, 0.10458152741193771, -0.02289293333888054, -0.0043264348059892654, 0.04417062923312187, -0.08503828942775726, 0.06683577597141266, 0.09202463924884796, -0.09807853400707245, -0.008167704567313194, -0.06027061492204666, 0.04085826501250267, -0.11459599435329437, 0.03640136867761612, -0.1271219551563263, -0.023420371115207672, -0.07296290993690491, -0.023304568603634834, -0.04654416814446449, -0.008836880326271057, 0.005205376539379358, 0.028114797547459602, 0.005207400768995285, 0.06516999006271362, -0.018459005281329155, 0.031879398971796036, 0.05115734413266182, -0.024835830554366112, -0.023776855319738388, -9.059214062290266e-05, -0.07033814489841461, -0.0073988852091133595, 0.09686082601547241, -0.007772877346724272, 0.06512972712516785, 0.035657886415719986, -0.04436451569199562, -0.0827474594116211, 0.07975275069475174, -0.00536743737757206, 0.0999944880604744, 0.06790955364704132, 0.11472493410110474, 0.024979716166853905, 0.015432440675795078, -0.08327081054449081, -0.017434991896152496, 0.015977201983332634, -0.027771200984716415, 0.019040394574403763, 0.04560919106006622, 0.01752912625670433, 0.04110525920987129, -0.0428258515894413, 0.01809689775109291, -0.03827898949384689, 0.035517893731594086, 0.08764442801475525, 0.022756248712539673, 0.011640502139925957, 0.07412510365247726, -0.008461849763989449, -0.08375376462936401, 0.0037596835754811764, -0.005627927836030722, 0.06994504481554031, -0.03467043861746788, 0.014246613718569279, 0.05809389799833298, -0.12400754541158676, -6.232047870093472e-33, 0.11437001079320908, 0.09810376167297363, 0.006420583929866552, 0.11185915023088455, -0.023951079696416855, 0.05749126151204109, -0.03302212804555893, 0.03472986817359924, 0.023405583575367928, -0.027598699554800987, 0.013839018531143665, 0.06373032182455063, -0.010649534873664379, 0.01811741665005684, -0.02622390352189541, 0.0075547476299107075, -0.10505770891904831, -0.0754571184515953, -0.10380230844020844, 0.0005722676869481802, 0.03982578590512276, -0.009928540326654911, -0.008410267531871796, 0.17648263275623322, 0.08505665510892868, -0.03705783933401108, 0.010643635876476765, -0.0014972955686971545, -0.024832185357809067, 0.010472051799297333, -0.09079024195671082, 0.056851234287023544, -0.005582618061453104, -0.04852498322725296, 0.05737346038222313, 0.10099582374095917, 0.034437961876392365, -0.010197542607784271, -0.025171050801873207, -0.011402648873627186, -0.023605341091752052, -0.0022230707108974457, -0.004510738421231508, 0.012354194186627865, -0.03338345140218735, 0.018804777413606644, 0.05450531840324402, 0.01725384220480919, 0.006742763798683882, 0.06483683735132217, 0.004088337067514658, -0.011035706847906113, 0.08464384078979492, 0.04830322787165642, -0.045324258506298065, 0.01834842748939991, -0.009427470155060291, -0.006098572630435228, 0.007953097112476826, -0.028944963589310646, 0.03380207717418671, -0.023681821301579475, -0.08879712969064713, 0.04528658464550972, -0.023478321731090546, -0.02474995143711567, -0.09771345555782318, -0.014830304309725761, 0.08520449697971344, 0.017622243613004684, -0.04700163006782532, 0.09076801687479019, -0.04682684317231178, 0.046802617609500885, -0.11390113830566406, -0.03547830507159233, -0.11308058351278305, -0.010125095956027508, -0.001987944357097149, 0.07355886697769165, 0.08951444178819656, 0.013386067934334278, 0.02823895774781704, 0.015475495718419552, 0.027808303013443947, -0.10454908758401871, 0.01615801453590393, -0.021882252767682076, 0.05433789640665054, -0.0507001131772995, 0.01696685701608658, -0.020573632791638374, 0.0209584329277277, -0.011734521947801113, -0.021938486024737358, 1.1164322800136948e-33, 0.0048001413233578205, -0.0692966878414154, -0.011471426114439964, 0.048469241708517075, -0.009108987636864185, -0.015773627907037735, -0.02713557332754135, 0.041568823158741, 0.07948781549930573, -0.03265143930912018, 0.007158714812248945, 0.0317600853741169, 0.09209571033716202, 0.03667937591671944, -0.03905889391899109, -0.00011955221998505294, 0.0529940165579319, -0.05913447588682175, -0.050795577466487885, -0.0247614998370409, -0.010567577555775642, 0.029792742803692818, -0.01229387428611517, -0.019471434876322746, -0.02207327075302601, -0.07689820230007172, 0.032175950706005096, -0.1039106473326683, -0.045054782181978226, -0.02988388016819954, 0.03905152529478073, -0.03224866837263107, -0.03339530527591705, 0.05994441360235214, -0.0008923074346967041, 0.09722263365983963, -0.06575639545917511, -0.026667915284633636, 0.037748005241155624, 0.06285163015127182, -0.04257484897971153, -0.0002731454442255199, 0.00967823900282383, -0.020910797640681267, -0.03858061879873276, 0.007003580220043659, -0.0007990687154233456, -0.05260861665010452, -0.01376202143728733, -0.007073687855154276, -0.04925573617219925, 0.011045894585549831, 0.025076456367969513, 0.03298423811793327, 0.06584949046373367, -0.055362116545438766, -0.05485135316848755, 0.04643254727125168, 0.023247571662068367, 0.04356171190738678, 0.02358415722846985, 0.030776789411902428, 0.004062296357005835, 0.030536038801074028, 0.011302824132144451, -0.07373470067977905, -0.015079558826982975, -0.025752568617463112, 0.0004630478215403855, -0.022533496841788292, 0.038705192506313324, -0.13278941810131073, 0.04250826686620712, -0.027784299105405807, -0.03599619120359421, -0.09528777003288269, 0.028284279629588127, 0.009310124441981316, -0.004047267604619265, -0.02186748757958412, -0.03992648422718048, -0.02512316033244133, 0.0109033714979887, -0.04698292165994644, 0.04617094621062279, 0.011915862560272217, 0.03831470385193825, 0.008082201704382896, 0.053520798683166504, 0.03849820792675018, 0.030421800911426544, -0.027086855843663216, 0.0033965662587434053, -0.02728189341723919, -0.023578772321343422, -1.864798271355994e-08, 0.01540412288159132, 0.016610324382781982, 0.022123167291283607, 0.041075922548770905, 0.0715181827545166, 0.05584094673395157, 0.010378114879131317, -0.08733516186475754, -0.015052773989737034, -0.049554575234651566, 0.05552327260375023, 0.0013683373108506203, -0.07708411663770676, -0.04846715182065964, 0.08519183099269867, 0.035785429179668427, -0.023512808606028557, 0.10491380095481873, -0.05122356116771698, 0.02266347035765648, -0.10962408035993576, -0.02100151777267456, -0.07126402854919434, 0.10352032631635666, 0.029133543372154236, 0.003557169809937477, -0.05778568983078003, 0.013355348259210587, -0.038775451481342316, 0.09781468659639359, -0.008631924167275429, 0.08552151173353195, -0.017951032146811485, -0.09573494642972946, -0.12488793581724167, 0.0342206135392189, -0.08023307472467422, -0.005154949147254229, 0.058439865708351135, 0.017294643446803093, -0.05514039844274521, 0.008783827535808086, -0.028994718566536903, 0.055447835475206375, 0.03548805043101311, -0.0026748650707304478, 0.06287027150392532, -0.012583084404468536, -0.048854608088731766, -0.04990321025252342, -0.012592000886797905, -0.04793618246912956, 0.019300775602459908, 0.0233038030564785, 0.02981494553387165, 0.03086446411907673, 0.05678711459040642, 0.09046008437871933, 0.027539130300283432, -0.04014435410499573, -0.021487295627593994, -0.007968779653310776, 0.0050678858533501625, -0.017223520204424858], 'sparse_values': {'indices': [29420, 22035, 2527, 2298, 2559, 3789, 4471, 3357, 3198, 2000, 13827, 7514, 4118, 9130, 3189, 5002, 3967, 4807, 3116, 3276, 7561, 3319, 5656, 4489, 2711, 3648, 5310, 11307, 3433, 4736, 17542, 5790, 2535, 5954, 5248, 13180, 3003, 6830, 6180, 7615, 5997, 3277, 8553, 11834, 5330, 4847, 4638, 2767, 3193, 8290, 5549, 2695, 2453, 3160, 2065, 7057, 10812, 4267, 4037, 5981, 12247, 12125, 5646, 6869, 3404, 2323, 9185, 8275, 21628, 3274, 5891], 'values': [2.8988142013549805, 2.4749467372894287, 1.8982168436050415, 1.6518841981887817, 1.144665002822876, 0.7860004305839539, 0.6869999170303345, 0.6682658195495605, 0.6419053673744202, 0.6116418242454529, 0.52802973985672, 0.5162699222564697, 0.5120989084243774, 0.49502405524253845, 0.47572579979896545, 0.4478609561920166, 0.4472504258155823, 0.4355038106441498, 0.4280591905117035, 0.42450016736984253, 0.38763943314552307, 0.3693966865539551, 0.3282793164253235, 0.2834031283855438, 0.2763636112213135, 0.2613736689090729, 0.2582273483276367, 0.25636526942253113, 0.2495395541191101, 0.24627454578876495, 0.24025973677635193, 0.2343471199274063, 0.22547954320907593, 0.2239910364151001, 0.22311273217201233, 0.22090569138526917, 0.215031236410141, 0.21315652132034302, 0.20666633546352386, 0.20652954280376434, 0.20220214128494263, 0.20181161165237427, 0.18616807460784912, 0.1485297530889511, 0.1483810693025589, 0.13880953192710876, 0.13232330977916718, 0.12756109237670898, 0.1250573992729187, 0.10725467652082443, 0.10507846623659134, 0.1033172756433487, 0.09384896606206894, 0.08796586841344833, 0.08160164952278137, 0.08108557015657425, 0.0769464522600174, 0.07419201731681824, 0.054022450000047684, 0.052894823253154755, 0.0450144037604332, 0.044860243797302246, 0.038729872554540634, 0.036917030811309814, 0.0308455228805542, 0.025098269805312157, 0.025012241676449776, 0.022601459175348282, 0.018644317984580994, 0.018053535372018814, 0.0036202154587954283]}, 'filter': None, 'blob': {'text': 'How does Quora look to a moderator?'}}\n"
     ]
    }
   ],
   "source": [
    "for query in quora_splade.iter_queries():\n",
    "    print(query)\n",
    "    index.query(query.values, query.sparse_valu)\n",
    "    break"
   ]
  },
  {
   "cell_type": "code",
   "execution_count": null,
   "metadata": {},
   "outputs": [],
   "source": []
  },
  {
   "cell_type": "code",
   "execution_count": 19,
   "metadata": {},
   "outputs": [
    {
     "data": {
      "text/plain": [
       "<datasets.dataset.Dataset at 0x15da7ebb0>"
      ]
     },
     "execution_count": 19,
     "metadata": {},
     "output_type": "execute_result"
    }
   ],
   "source": [
    "quora_splade"
   ]
  },
  {
   "cell_type": "code",
   "execution_count": 25,
   "metadata": {},
   "outputs": [
    {
     "data": {
      "text/plain": [
       "384"
      ]
     },
     "execution_count": 25,
     "metadata": {},
     "output_type": "execute_result"
    }
   ],
   "source": [
    "len(quora_splade.documents[\"values\"][0])"
   ]
  },
  {
   "cell_type": "code",
   "execution_count": 22,
   "metadata": {},
   "outputs": [
    {
     "ename": "AttributeError",
     "evalue": "'generator' object has no attribute 'next'",
     "output_type": "error",
     "traceback": [
      "\u001b[0;31m---------------------------------------------------------------------------\u001b[0m",
      "\u001b[0;31mAttributeError\u001b[0m                            Traceback (most recent call last)",
      "Cell \u001b[0;32mIn[22], line 1\u001b[0m\n\u001b[0;32m----> 1\u001b[0m quora_splade\u001b[39m.\u001b[39;49miter_docs()\u001b[39m.\u001b[39;49mnext()\n",
      "\u001b[0;31mAttributeError\u001b[0m: 'generator' object has no attribute 'next'"
     ]
    }
   ],
   "source": [
    "for doc in quora_splade.iter_docs():\n",
    "    print(len(doc.v))\n",
    "    break"
   ]
  },
  {
   "cell_type": "code",
   "execution_count": 20,
   "metadata": {},
   "outputs": [],
   "source": [
    "import pinecone"
   ]
  },
  {
   "cell_type": "code",
   "execution_count": 21,
   "metadata": {},
   "outputs": [],
   "source": [
    "pinecone.init()"
   ]
  },
  {
   "cell_type": "code",
   "execution_count": 27,
   "metadata": {},
   "outputs": [],
   "source": [
    "pinecone.create_index(\"quora-splade\", dimension=384, metric=\"cosine\", pod_type=\"s1\")"
   ]
  },
  {
   "cell_type": "code",
   "execution_count": 28,
   "metadata": {},
   "outputs": [],
   "source": [
    "index = pinecone.GRPCIndex(\"quora-splade\")"
   ]
  },
  {
   "cell_type": "code",
   "execution_count": 29,
   "metadata": {},
   "outputs": [],
   "source": [
    "for batch in quora_splade.iter_docs(batch_size=100):\n",
    "    index.upsert(batch, async_req=True)"
   ]
  },
  {
   "cell_type": "code",
   "execution_count": 31,
   "metadata": {},
   "outputs": [],
   "source": [
    "as_dicts = quora_splade.documents.to_dicts()"
   ]
  },
  {
   "cell_type": "code",
   "execution_count": 33,
   "metadata": {},
   "outputs": [],
   "source": [
    "import tqdm"
   ]
  },
  {
   "cell_type": "code",
   "execution_count": 34,
   "metadata": {},
   "outputs": [
    {
     "ename": "KeyboardInterrupt",
     "evalue": "",
     "output_type": "error",
     "traceback": [
      "\u001b[0;31m---------------------------------------------------------------------------\u001b[0m",
      "\u001b[0;31mKeyboardInterrupt\u001b[0m                         Traceback (most recent call last)",
      "Cell \u001b[0;32mIn[34], line 3\u001b[0m\n\u001b[1;32m      1\u001b[0m \u001b[39mdef\u001b[39;00m \u001b[39mchunker\u001b[39m(seq, batch_size):\n\u001b[1;32m      2\u001b[0m   \u001b[39mreturn\u001b[39;00m (seq[pos:pos \u001b[39m+\u001b[39m batch_size] \u001b[39mfor\u001b[39;00m pos \u001b[39min\u001b[39;00m \u001b[39mrange\u001b[39m(\u001b[39m0\u001b[39m, \u001b[39mlen\u001b[39m(seq), batch_size))\n\u001b[0;32m----> 3\u001b[0m async_results \u001b[39m=\u001b[39m [\n\u001b[1;32m      4\u001b[0m         index\u001b[39m.\u001b[39mupsert(vectors\u001b[39m=\u001b[39mchunk, async_req\u001b[39m=\u001b[39m\u001b[39mTrue\u001b[39;00m)\n\u001b[1;32m      5\u001b[0m         \u001b[39mfor\u001b[39;00m chunk \u001b[39min\u001b[39;00m chunker(as_dicts, batch_size\u001b[39m=\u001b[39m\u001b[39m300\u001b[39m)\n\u001b[1;32m      6\u001b[0m     ]\n\u001b[1;32m      7\u001b[0m \u001b[39m# Wait for and retrieve responses (in case of errors\u001b[39;00m\n\u001b[1;32m      8\u001b[0m [async_result\u001b[39m.\u001b[39mresult() \u001b[39mfor\u001b[39;00m async_result \u001b[39min\u001b[39;00m tqdm(async_results)]\n",
      "Cell \u001b[0;32mIn[34], line 4\u001b[0m, in \u001b[0;36m<listcomp>\u001b[0;34m(.0)\u001b[0m\n\u001b[1;32m      1\u001b[0m \u001b[39mdef\u001b[39;00m \u001b[39mchunker\u001b[39m(seq, batch_size):\n\u001b[1;32m      2\u001b[0m   \u001b[39mreturn\u001b[39;00m (seq[pos:pos \u001b[39m+\u001b[39m batch_size] \u001b[39mfor\u001b[39;00m pos \u001b[39min\u001b[39;00m \u001b[39mrange\u001b[39m(\u001b[39m0\u001b[39m, \u001b[39mlen\u001b[39m(seq), batch_size))\n\u001b[1;32m      3\u001b[0m async_results \u001b[39m=\u001b[39m [\n\u001b[0;32m----> 4\u001b[0m         index\u001b[39m.\u001b[39;49mupsert(vectors\u001b[39m=\u001b[39;49mchunk, async_req\u001b[39m=\u001b[39;49m\u001b[39mTrue\u001b[39;49;00m)\n\u001b[1;32m      5\u001b[0m         \u001b[39mfor\u001b[39;00m chunk \u001b[39min\u001b[39;00m chunker(as_dicts, batch_size\u001b[39m=\u001b[39m\u001b[39m300\u001b[39m)\n\u001b[1;32m      6\u001b[0m     ]\n\u001b[1;32m      7\u001b[0m \u001b[39m# Wait for and retrieve responses (in case of errors\u001b[39;00m\n\u001b[1;32m      8\u001b[0m [async_result\u001b[39m.\u001b[39mresult() \u001b[39mfor\u001b[39;00m async_result \u001b[39min\u001b[39;00m tqdm(async_results)]\n",
      "File \u001b[0;32m~/Library/Caches/pypoetry/virtualenvs/datasets-nkKhg9Ck-py3.9/lib/python3.9/site-packages/pinecone/core/grpc/index_grpc.py:357\u001b[0m, in \u001b[0;36mGRPCIndex.upsert\u001b[0;34m(self, vectors, async_req, namespace, batch_size, show_progress, **kwargs)\u001b[0m\n\u001b[1;32m    355\u001b[0m     args_dict \u001b[39m=\u001b[39m \u001b[39mself\u001b[39m\u001b[39m.\u001b[39m_parse_non_empty_args([(\u001b[39m'\u001b[39m\u001b[39mnamespace\u001b[39m\u001b[39m'\u001b[39m, namespace)])\n\u001b[1;32m    356\u001b[0m     request \u001b[39m=\u001b[39m UpsertRequest(vectors\u001b[39m=\u001b[39mvectors, \u001b[39m*\u001b[39m\u001b[39m*\u001b[39margs_dict, \u001b[39m*\u001b[39m\u001b[39m*\u001b[39mkwargs)\n\u001b[0;32m--> 357\u001b[0m     future \u001b[39m=\u001b[39m \u001b[39mself\u001b[39;49m\u001b[39m.\u001b[39;49m_wrap_grpc_call(\u001b[39mself\u001b[39;49m\u001b[39m.\u001b[39;49mstub\u001b[39m.\u001b[39;49mUpsert\u001b[39m.\u001b[39;49mfuture, request, timeout\u001b[39m=\u001b[39;49mtimeout)\n\u001b[1;32m    358\u001b[0m     \u001b[39mreturn\u001b[39;00m PineconeGrpcFuture(future)\n\u001b[1;32m    360\u001b[0m \u001b[39mif\u001b[39;00m batch_size \u001b[39mis\u001b[39;00m \u001b[39mNone\u001b[39;00m:\n",
      "File \u001b[0;32m~/Library/Caches/pypoetry/virtualenvs/datasets-nkKhg9Ck-py3.9/lib/python3.9/site-packages/pinecone/core/grpc/index_grpc.py:154\u001b[0m, in \u001b[0;36mGRPCIndexBase._wrap_grpc_call\u001b[0;34m(self, func, request, timeout, metadata, credentials, wait_for_ready, compression)\u001b[0m\n\u001b[1;32m    151\u001b[0m     \u001b[39mexcept\u001b[39;00m _InactiveRpcError \u001b[39mas\u001b[39;00m e:\n\u001b[1;32m    152\u001b[0m         \u001b[39mraise\u001b[39;00m PineconeException(e\u001b[39m.\u001b[39m_state\u001b[39m.\u001b[39mdebug_error_string) \u001b[39mfrom\u001b[39;00m \u001b[39me\u001b[39;00m\n\u001b[0;32m--> 154\u001b[0m \u001b[39mreturn\u001b[39;00m wrapped()\n",
      "File \u001b[0;32m~/Library/Caches/pypoetry/virtualenvs/datasets-nkKhg9Ck-py3.9/lib/python3.9/site-packages/pinecone/core/grpc/index_grpc.py:149\u001b[0m, in \u001b[0;36mGRPCIndexBase._wrap_grpc_call.<locals>.wrapped\u001b[0;34m()\u001b[0m\n\u001b[1;32m    145\u001b[0m _metadata \u001b[39m=\u001b[39m \u001b[39mtuple\u001b[39m((k, v) \u001b[39mfor\u001b[39;00m k, v \u001b[39min\u001b[39;00m {\n\u001b[1;32m    146\u001b[0m     \u001b[39m*\u001b[39m\u001b[39m*\u001b[39m\u001b[39mself\u001b[39m\u001b[39m.\u001b[39mfixed_metadata, \u001b[39m*\u001b[39m\u001b[39m*\u001b[39m\u001b[39mself\u001b[39m\u001b[39m.\u001b[39m_request_metadata(), \u001b[39m*\u001b[39m\u001b[39m*\u001b[39muser_provided_metadata\n\u001b[1;32m    147\u001b[0m }\u001b[39m.\u001b[39mitems())\n\u001b[1;32m    148\u001b[0m \u001b[39mtry\u001b[39;00m:\n\u001b[0;32m--> 149\u001b[0m     \u001b[39mreturn\u001b[39;00m func(request, timeout\u001b[39m=\u001b[39;49mtimeout, metadata\u001b[39m=\u001b[39;49m_metadata, credentials\u001b[39m=\u001b[39;49mcredentials,\n\u001b[1;32m    150\u001b[0m                 wait_for_ready\u001b[39m=\u001b[39;49mwait_for_ready, compression\u001b[39m=\u001b[39;49mcompression)\n\u001b[1;32m    151\u001b[0m \u001b[39mexcept\u001b[39;00m _InactiveRpcError \u001b[39mas\u001b[39;00m e:\n\u001b[1;32m    152\u001b[0m     \u001b[39mraise\u001b[39;00m PineconeException(e\u001b[39m.\u001b[39m_state\u001b[39m.\u001b[39mdebug_error_string) \u001b[39mfrom\u001b[39;00m \u001b[39me\u001b[39;00m\n",
      "File \u001b[0;32m~/Library/Caches/pypoetry/virtualenvs/datasets-nkKhg9Ck-py3.9/lib/python3.9/site-packages/grpc/_interceptor.py:333\u001b[0m, in \u001b[0;36m_UnaryUnaryMultiCallable.future\u001b[0;34m(self, request, timeout, metadata, credentials, wait_for_ready, compression)\u001b[0m\n\u001b[1;32m    324\u001b[0m     \u001b[39mreturn\u001b[39;00m \u001b[39mself\u001b[39m\u001b[39m.\u001b[39m_thunk(new_method)\u001b[39m.\u001b[39mfuture(\n\u001b[1;32m    325\u001b[0m         request,\n\u001b[1;32m    326\u001b[0m         timeout\u001b[39m=\u001b[39mnew_timeout,\n\u001b[0;32m   (...)\u001b[0m\n\u001b[1;32m    329\u001b[0m         wait_for_ready\u001b[39m=\u001b[39mnew_wait_for_ready,\n\u001b[1;32m    330\u001b[0m         compression\u001b[39m=\u001b[39mnew_compression)\n\u001b[1;32m    332\u001b[0m \u001b[39mtry\u001b[39;00m:\n\u001b[0;32m--> 333\u001b[0m     \u001b[39mreturn\u001b[39;00m \u001b[39mself\u001b[39;49m\u001b[39m.\u001b[39;49m_interceptor\u001b[39m.\u001b[39;49mintercept_unary_unary(\n\u001b[1;32m    334\u001b[0m         continuation, client_call_details, request)\n\u001b[1;32m    335\u001b[0m \u001b[39mexcept\u001b[39;00m \u001b[39mException\u001b[39;00m \u001b[39mas\u001b[39;00m exception:  \u001b[39m# pylint:disable=broad-except\u001b[39;00m\n\u001b[1;32m    336\u001b[0m     \u001b[39mreturn\u001b[39;00m _FailureOutcome(exception, sys\u001b[39m.\u001b[39mexc_info()[\u001b[39m2\u001b[39m])\n",
      "File \u001b[0;32m~/Library/Caches/pypoetry/virtualenvs/datasets-nkKhg9Ck-py3.9/lib/python3.9/site-packages/pinecone/core/grpc/retry.py:74\u001b[0m, in \u001b[0;36mRetryOnRpcErrorClientInterceptor.intercept_unary_unary\u001b[0;34m(self, continuation, client_call_details, request)\u001b[0m\n\u001b[1;32m     73\u001b[0m \u001b[39mdef\u001b[39;00m \u001b[39mintercept_unary_unary\u001b[39m(\u001b[39mself\u001b[39m, continuation, client_call_details, request):\n\u001b[0;32m---> 74\u001b[0m     \u001b[39mreturn\u001b[39;00m \u001b[39mself\u001b[39;49m\u001b[39m.\u001b[39;49m_intercept_call(continuation, client_call_details, request)\n",
      "File \u001b[0;32m~/Library/Caches/pypoetry/virtualenvs/datasets-nkKhg9Ck-py3.9/lib/python3.9/site-packages/pinecone/core/grpc/retry.py:67\u001b[0m, in \u001b[0;36mRetryOnRpcErrorClientInterceptor._intercept_call\u001b[0;34m(self, continuation, client_call_details, request_or_iterator)\u001b[0m\n\u001b[1;32m     65\u001b[0m response \u001b[39m=\u001b[39m \u001b[39mNone\u001b[39;00m\n\u001b[1;32m     66\u001b[0m \u001b[39mfor\u001b[39;00m try_i \u001b[39min\u001b[39;00m \u001b[39mrange\u001b[39m(\u001b[39mself\u001b[39m\u001b[39m.\u001b[39mmax_attempts):\n\u001b[0;32m---> 67\u001b[0m     response \u001b[39m=\u001b[39m continuation(client_call_details, request_or_iterator)\n\u001b[1;32m     68\u001b[0m     \u001b[39mif\u001b[39;00m \u001b[39mnot\u001b[39;00m \u001b[39mself\u001b[39m\u001b[39m.\u001b[39m_is_retryable_error(response):\n\u001b[1;32m     69\u001b[0m         \u001b[39mbreak\u001b[39;00m\n",
      "File \u001b[0;32m~/Library/Caches/pypoetry/virtualenvs/datasets-nkKhg9Ck-py3.9/lib/python3.9/site-packages/grpc/_interceptor.py:324\u001b[0m, in \u001b[0;36m_UnaryUnaryMultiCallable.future.<locals>.continuation\u001b[0;34m(new_details, request)\u001b[0m\n\u001b[1;32m    319\u001b[0m \u001b[39mdef\u001b[39;00m \u001b[39mcontinuation\u001b[39m(new_details, request):\n\u001b[1;32m    320\u001b[0m     (new_method, new_timeout, new_metadata, new_credentials,\n\u001b[1;32m    321\u001b[0m      new_wait_for_ready,\n\u001b[1;32m    322\u001b[0m      new_compression) \u001b[39m=\u001b[39m (_unwrap_client_call_details(\n\u001b[1;32m    323\u001b[0m          new_details, client_call_details))\n\u001b[0;32m--> 324\u001b[0m     \u001b[39mreturn\u001b[39;00m \u001b[39mself\u001b[39;49m\u001b[39m.\u001b[39;49m_thunk(new_method)\u001b[39m.\u001b[39;49mfuture(\n\u001b[1;32m    325\u001b[0m         request,\n\u001b[1;32m    326\u001b[0m         timeout\u001b[39m=\u001b[39;49mnew_timeout,\n\u001b[1;32m    327\u001b[0m         metadata\u001b[39m=\u001b[39;49mnew_metadata,\n\u001b[1;32m    328\u001b[0m         credentials\u001b[39m=\u001b[39;49mnew_credentials,\n\u001b[1;32m    329\u001b[0m         wait_for_ready\u001b[39m=\u001b[39;49mnew_wait_for_ready,\n\u001b[1;32m    330\u001b[0m         compression\u001b[39m=\u001b[39;49mnew_compression)\n",
      "File \u001b[0;32m~/Library/Caches/pypoetry/virtualenvs/datasets-nkKhg9Ck-py3.9/lib/python3.9/site-packages/grpc/_channel.py:966\u001b[0m, in \u001b[0;36m_UnaryUnaryMultiCallable.future\u001b[0;34m(self, request, timeout, metadata, credentials, wait_for_ready, compression)\u001b[0m\n\u001b[1;32m    959\u001b[0m \u001b[39mdef\u001b[39;00m \u001b[39mfuture\u001b[39m(\u001b[39mself\u001b[39m,\n\u001b[1;32m    960\u001b[0m            request,\n\u001b[1;32m    961\u001b[0m            timeout\u001b[39m=\u001b[39m\u001b[39mNone\u001b[39;00m,\n\u001b[0;32m   (...)\u001b[0m\n\u001b[1;32m    964\u001b[0m            wait_for_ready\u001b[39m=\u001b[39m\u001b[39mNone\u001b[39;00m,\n\u001b[1;32m    965\u001b[0m            compression\u001b[39m=\u001b[39m\u001b[39mNone\u001b[39;00m):\n\u001b[0;32m--> 966\u001b[0m     state, operations, deadline, rendezvous \u001b[39m=\u001b[39m \u001b[39mself\u001b[39;49m\u001b[39m.\u001b[39;49m_prepare(\n\u001b[1;32m    967\u001b[0m         request, timeout, metadata, wait_for_ready, compression)\n\u001b[1;32m    968\u001b[0m     \u001b[39mif\u001b[39;00m state \u001b[39mis\u001b[39;00m \u001b[39mNone\u001b[39;00m:\n\u001b[1;32m    969\u001b[0m         \u001b[39mraise\u001b[39;00m rendezvous  \u001b[39m# pylint: disable-msg=raising-bad-type\u001b[39;00m\n",
      "File \u001b[0;32m~/Library/Caches/pypoetry/virtualenvs/datasets-nkKhg9Ck-py3.9/lib/python3.9/site-packages/grpc/_channel.py:898\u001b[0m, in \u001b[0;36m_UnaryUnaryMultiCallable._prepare\u001b[0;34m(self, request, timeout, metadata, wait_for_ready, compression)\u001b[0m\n\u001b[1;32m    897\u001b[0m \u001b[39mdef\u001b[39;00m \u001b[39m_prepare\u001b[39m(\u001b[39mself\u001b[39m, request, timeout, metadata, wait_for_ready, compression):\n\u001b[0;32m--> 898\u001b[0m     deadline, serialized_request, rendezvous \u001b[39m=\u001b[39m _start_unary_request(\n\u001b[1;32m    899\u001b[0m         request, timeout, \u001b[39mself\u001b[39;49m\u001b[39m.\u001b[39;49m_request_serializer)\n\u001b[1;32m    900\u001b[0m     initial_metadata_flags \u001b[39m=\u001b[39m _InitialMetadataFlags()\u001b[39m.\u001b[39mwith_wait_for_ready(\n\u001b[1;32m    901\u001b[0m         wait_for_ready)\n\u001b[1;32m    902\u001b[0m     augmented_metadata \u001b[39m=\u001b[39m _compression\u001b[39m.\u001b[39maugment_metadata(\n\u001b[1;32m    903\u001b[0m         metadata, compression)\n",
      "File \u001b[0;32m~/Library/Caches/pypoetry/virtualenvs/datasets-nkKhg9Ck-py3.9/lib/python3.9/site-packages/grpc/_channel.py:831\u001b[0m, in \u001b[0;36m_start_unary_request\u001b[0;34m(request, timeout, request_serializer)\u001b[0m\n\u001b[1;32m    829\u001b[0m \u001b[39mdef\u001b[39;00m \u001b[39m_start_unary_request\u001b[39m(request, timeout, request_serializer):\n\u001b[1;32m    830\u001b[0m     deadline \u001b[39m=\u001b[39m _deadline(timeout)\n\u001b[0;32m--> 831\u001b[0m     serialized_request \u001b[39m=\u001b[39m _common\u001b[39m.\u001b[39;49mserialize(request, request_serializer)\n\u001b[1;32m    832\u001b[0m     \u001b[39mif\u001b[39;00m serialized_request \u001b[39mis\u001b[39;00m \u001b[39mNone\u001b[39;00m:\n\u001b[1;32m    833\u001b[0m         state \u001b[39m=\u001b[39m _RPCState((), (), (), grpc\u001b[39m.\u001b[39mStatusCode\u001b[39m.\u001b[39mINTERNAL,\n\u001b[1;32m    834\u001b[0m                           \u001b[39m'\u001b[39m\u001b[39mException serializing request!\u001b[39m\u001b[39m'\u001b[39m)\n",
      "File \u001b[0;32m~/Library/Caches/pypoetry/virtualenvs/datasets-nkKhg9Ck-py3.9/lib/python3.9/site-packages/grpc/_common.py:97\u001b[0m, in \u001b[0;36mserialize\u001b[0;34m(message, serializer)\u001b[0m\n\u001b[1;32m     96\u001b[0m \u001b[39mdef\u001b[39;00m \u001b[39mserialize\u001b[39m(message: Any, serializer: Optional[SerializingFunction]) \u001b[39m-\u001b[39m\u001b[39m>\u001b[39m \u001b[39mbytes\u001b[39m:\n\u001b[0;32m---> 97\u001b[0m     \u001b[39mreturn\u001b[39;00m _transform(message, serializer, \u001b[39m'\u001b[39;49m\u001b[39mException serializing message!\u001b[39;49m\u001b[39m'\u001b[39;49m)\n",
      "File \u001b[0;32m~/Library/Caches/pypoetry/virtualenvs/datasets-nkKhg9Ck-py3.9/lib/python3.9/site-packages/grpc/_common.py:90\u001b[0m, in \u001b[0;36m_transform\u001b[0;34m(message, transformer, exception_message)\u001b[0m\n\u001b[1;32m     88\u001b[0m \u001b[39melse\u001b[39;00m:\n\u001b[1;32m     89\u001b[0m     \u001b[39mtry\u001b[39;00m:\n\u001b[0;32m---> 90\u001b[0m         \u001b[39mreturn\u001b[39;00m transformer(message)\n\u001b[1;32m     91\u001b[0m     \u001b[39mexcept\u001b[39;00m \u001b[39mException\u001b[39;00m:  \u001b[39m# pylint: disable=broad-except\u001b[39;00m\n\u001b[1;32m     92\u001b[0m         _LOGGER\u001b[39m.\u001b[39mexception(exception_message)\n",
      "File \u001b[0;32m~/Library/Caches/pypoetry/virtualenvs/datasets-nkKhg9Ck-py3.9/lib/python3.9/site-packages/google/protobuf/internal/python_message.py:1086\u001b[0m, in \u001b[0;36m_AddSerializeToStringMethod.<locals>.SerializeToString\u001b[0;34m(self, **kwargs)\u001b[0m\n\u001b[1;32m   1082\u001b[0m \u001b[39mif\u001b[39;00m \u001b[39mnot\u001b[39;00m \u001b[39mself\u001b[39m\u001b[39m.\u001b[39mIsInitialized():\n\u001b[1;32m   1083\u001b[0m   \u001b[39mraise\u001b[39;00m message_mod\u001b[39m.\u001b[39mEncodeError(\n\u001b[1;32m   1084\u001b[0m       \u001b[39m'\u001b[39m\u001b[39mMessage \u001b[39m\u001b[39m%s\u001b[39;00m\u001b[39m is missing required fields: \u001b[39m\u001b[39m%s\u001b[39;00m\u001b[39m'\u001b[39m \u001b[39m%\u001b[39m (\n\u001b[1;32m   1085\u001b[0m       \u001b[39mself\u001b[39m\u001b[39m.\u001b[39mDESCRIPTOR\u001b[39m.\u001b[39mfull_name, \u001b[39m'\u001b[39m\u001b[39m,\u001b[39m\u001b[39m'\u001b[39m\u001b[39m.\u001b[39mjoin(\u001b[39mself\u001b[39m\u001b[39m.\u001b[39mFindInitializationErrors())))\n\u001b[0;32m-> 1086\u001b[0m \u001b[39mreturn\u001b[39;00m \u001b[39mself\u001b[39;49m\u001b[39m.\u001b[39;49mSerializePartialToString(\u001b[39m*\u001b[39;49m\u001b[39m*\u001b[39;49mkwargs)\n",
      "File \u001b[0;32m~/Library/Caches/pypoetry/virtualenvs/datasets-nkKhg9Ck-py3.9/lib/python3.9/site-packages/google/protobuf/internal/python_message.py:1095\u001b[0m, in \u001b[0;36m_AddSerializePartialToStringMethod.<locals>.SerializePartialToString\u001b[0;34m(self, **kwargs)\u001b[0m\n\u001b[1;32m   1093\u001b[0m \u001b[39mdef\u001b[39;00m \u001b[39mSerializePartialToString\u001b[39m(\u001b[39mself\u001b[39m, \u001b[39m*\u001b[39m\u001b[39m*\u001b[39mkwargs):\n\u001b[1;32m   1094\u001b[0m   out \u001b[39m=\u001b[39m BytesIO()\n\u001b[0;32m-> 1095\u001b[0m   \u001b[39mself\u001b[39;49m\u001b[39m.\u001b[39;49m_InternalSerialize(out\u001b[39m.\u001b[39;49mwrite, \u001b[39m*\u001b[39;49m\u001b[39m*\u001b[39;49mkwargs)\n\u001b[1;32m   1096\u001b[0m   \u001b[39mreturn\u001b[39;00m out\u001b[39m.\u001b[39mgetvalue()\n",
      "File \u001b[0;32m~/Library/Caches/pypoetry/virtualenvs/datasets-nkKhg9Ck-py3.9/lib/python3.9/site-packages/google/protobuf/internal/python_message.py:1115\u001b[0m, in \u001b[0;36m_AddSerializePartialToStringMethod.<locals>.InternalSerialize\u001b[0;34m(self, write_bytes, deterministic)\u001b[0m\n\u001b[1;32m   1113\u001b[0m \u001b[39melse\u001b[39;00m:\n\u001b[1;32m   1114\u001b[0m   \u001b[39mfor\u001b[39;00m field_descriptor, field_value \u001b[39min\u001b[39;00m \u001b[39mself\u001b[39m\u001b[39m.\u001b[39mListFields():\n\u001b[0;32m-> 1115\u001b[0m     field_descriptor\u001b[39m.\u001b[39;49m_encoder(write_bytes, field_value, deterministic)\n\u001b[1;32m   1116\u001b[0m   \u001b[39mfor\u001b[39;00m tag_bytes, value_bytes \u001b[39min\u001b[39;00m \u001b[39mself\u001b[39m\u001b[39m.\u001b[39m_unknown_fields:\n\u001b[1;32m   1117\u001b[0m     write_bytes(tag_bytes)\n",
      "File \u001b[0;32m~/Library/Caches/pypoetry/virtualenvs/datasets-nkKhg9Ck-py3.9/lib/python3.9/site-packages/google/protobuf/internal/encoder.py:762\u001b[0m, in \u001b[0;36mMessageEncoder.<locals>.EncodeRepeatedField\u001b[0;34m(write, value, deterministic)\u001b[0m\n\u001b[1;32m    760\u001b[0m write(tag)\n\u001b[1;32m    761\u001b[0m local_EncodeVarint(write, element\u001b[39m.\u001b[39mByteSize(), deterministic)\n\u001b[0;32m--> 762\u001b[0m element\u001b[39m.\u001b[39;49m_InternalSerialize(write, deterministic)\n",
      "File \u001b[0;32m~/Library/Caches/pypoetry/virtualenvs/datasets-nkKhg9Ck-py3.9/lib/python3.9/site-packages/google/protobuf/internal/python_message.py:1115\u001b[0m, in \u001b[0;36m_AddSerializePartialToStringMethod.<locals>.InternalSerialize\u001b[0;34m(self, write_bytes, deterministic)\u001b[0m\n\u001b[1;32m   1113\u001b[0m \u001b[39melse\u001b[39;00m:\n\u001b[1;32m   1114\u001b[0m   \u001b[39mfor\u001b[39;00m field_descriptor, field_value \u001b[39min\u001b[39;00m \u001b[39mself\u001b[39m\u001b[39m.\u001b[39mListFields():\n\u001b[0;32m-> 1115\u001b[0m     field_descriptor\u001b[39m.\u001b[39;49m_encoder(write_bytes, field_value, deterministic)\n\u001b[1;32m   1116\u001b[0m   \u001b[39mfor\u001b[39;00m tag_bytes, value_bytes \u001b[39min\u001b[39;00m \u001b[39mself\u001b[39m\u001b[39m.\u001b[39m_unknown_fields:\n\u001b[1;32m   1117\u001b[0m     write_bytes(tag_bytes)\n",
      "File \u001b[0;32m~/Library/Caches/pypoetry/virtualenvs/datasets-nkKhg9Ck-py3.9/lib/python3.9/site-packages/google/protobuf/internal/encoder.py:593\u001b[0m, in \u001b[0;36m_FloatingPointEncoder.<locals>.SpecificEncoder.<locals>.EncodePackedField\u001b[0;34m(write, value, deterministic)\u001b[0m\n\u001b[1;32m    589\u001b[0m \u001b[39mfor\u001b[39;00m element \u001b[39min\u001b[39;00m value:\n\u001b[1;32m    590\u001b[0m   \u001b[39m# This try/except block is going to be faster than any code that\u001b[39;00m\n\u001b[1;32m    591\u001b[0m   \u001b[39m# we could write to check whether element is finite.\u001b[39;00m\n\u001b[1;32m    592\u001b[0m   \u001b[39mtry\u001b[39;00m:\n\u001b[0;32m--> 593\u001b[0m     write(local_struct_pack(\u001b[39mformat\u001b[39;49m, element))\n\u001b[1;32m    594\u001b[0m   \u001b[39mexcept\u001b[39;00m \u001b[39mSystemError\u001b[39;00m:\n\u001b[1;32m    595\u001b[0m     EncodeNonFiniteOrRaise(write, element)\n",
      "\u001b[0;31mKeyboardInterrupt\u001b[0m: "
     ]
    }
   ],
   "source": [
    "def chunker(seq, batch_size):\n",
    "  return (seq[pos:pos + batch_size] for pos in range(0, len(seq), batch_size))\n",
    "async_results = [\n",
    "        index.upsert(vectors=chunk, async_req=True)\n",
    "        for chunk in chunker(as_dicts, batch_size=300)\n",
    "    ]\n",
    "# Wait for and retrieve responses (in case of errors\n",
    "[async_result.result() for async_result in tqdm(async_results)]"
   ]
  },
  {
   "cell_type": "code",
   "execution_count": 32,
   "metadata": {},
   "outputs": [
    {
     "name": "stderr",
     "output_type": "stream",
     "text": [
      "Upserted vectors:  18%|█▊        | 93600/522931 [02:02<08:37, 830.39it/s]"
     ]
    },
    {
     "ename": "KeyboardInterrupt",
     "evalue": "",
     "output_type": "error",
     "traceback": [
      "\u001b[0;31m---------------------------------------------------------------------------\u001b[0m",
      "\u001b[0;31mKeyboardInterrupt\u001b[0m                         Traceback (most recent call last)",
      "Cell \u001b[0;32mIn[32], line 1\u001b[0m\n\u001b[0;32m----> 1\u001b[0m index\u001b[39m.\u001b[39;49mupsert(as_dicts, batch_size\u001b[39m=\u001b[39;49m\u001b[39m300\u001b[39;49m)\n",
      "File \u001b[0;32m~/Library/Caches/pypoetry/virtualenvs/datasets-nkKhg9Ck-py3.9/lib/python3.9/site-packages/pinecone/core/grpc/index_grpc.py:369\u001b[0m, in \u001b[0;36mGRPCIndex.upsert\u001b[0;34m(self, vectors, async_req, namespace, batch_size, show_progress, **kwargs)\u001b[0m\n\u001b[1;32m    367\u001b[0m total_upserted \u001b[39m=\u001b[39m \u001b[39m0\u001b[39m\n\u001b[1;32m    368\u001b[0m \u001b[39mfor\u001b[39;00m i \u001b[39min\u001b[39;00m \u001b[39mrange\u001b[39m(\u001b[39m0\u001b[39m, \u001b[39mlen\u001b[39m(vectors), batch_size):\n\u001b[0;32m--> 369\u001b[0m     batch_result \u001b[39m=\u001b[39m \u001b[39mself\u001b[39;49m\u001b[39m.\u001b[39;49m_upsert_batch(vectors[i:i \u001b[39m+\u001b[39;49m batch_size], namespace, timeout\u001b[39m=\u001b[39;49mtimeout, \u001b[39m*\u001b[39;49m\u001b[39m*\u001b[39;49mkwargs)\n\u001b[1;32m    370\u001b[0m     pbar\u001b[39m.\u001b[39mupdate(batch_result\u001b[39m.\u001b[39mupserted_count)\n\u001b[1;32m    371\u001b[0m     \u001b[39m# we can't use here pbar.n for the case show_progress=False\u001b[39;00m\n",
      "File \u001b[0;32m~/Library/Caches/pypoetry/virtualenvs/datasets-nkKhg9Ck-py3.9/lib/python3.9/site-packages/pinecone/core/grpc/index_grpc.py:383\u001b[0m, in \u001b[0;36mGRPCIndex._upsert_batch\u001b[0;34m(self, vectors, namespace, timeout, **kwargs)\u001b[0m\n\u001b[1;32m    381\u001b[0m args_dict \u001b[39m=\u001b[39m \u001b[39mself\u001b[39m\u001b[39m.\u001b[39m_parse_non_empty_args([(\u001b[39m'\u001b[39m\u001b[39mnamespace\u001b[39m\u001b[39m'\u001b[39m, namespace)])\n\u001b[1;32m    382\u001b[0m request \u001b[39m=\u001b[39m UpsertRequest(vectors\u001b[39m=\u001b[39mvectors, \u001b[39m*\u001b[39m\u001b[39m*\u001b[39margs_dict)\n\u001b[0;32m--> 383\u001b[0m \u001b[39mreturn\u001b[39;00m \u001b[39mself\u001b[39;49m\u001b[39m.\u001b[39;49m_wrap_grpc_call(\u001b[39mself\u001b[39;49m\u001b[39m.\u001b[39;49mstub\u001b[39m.\u001b[39;49mUpsert, request, timeout\u001b[39m=\u001b[39;49mtimeout, \u001b[39m*\u001b[39;49m\u001b[39m*\u001b[39;49mkwargs)\n",
      "File \u001b[0;32m~/Library/Caches/pypoetry/virtualenvs/datasets-nkKhg9Ck-py3.9/lib/python3.9/site-packages/pinecone/core/grpc/index_grpc.py:154\u001b[0m, in \u001b[0;36mGRPCIndexBase._wrap_grpc_call\u001b[0;34m(self, func, request, timeout, metadata, credentials, wait_for_ready, compression)\u001b[0m\n\u001b[1;32m    151\u001b[0m     \u001b[39mexcept\u001b[39;00m _InactiveRpcError \u001b[39mas\u001b[39;00m e:\n\u001b[1;32m    152\u001b[0m         \u001b[39mraise\u001b[39;00m PineconeException(e\u001b[39m.\u001b[39m_state\u001b[39m.\u001b[39mdebug_error_string) \u001b[39mfrom\u001b[39;00m \u001b[39me\u001b[39;00m\n\u001b[0;32m--> 154\u001b[0m \u001b[39mreturn\u001b[39;00m wrapped()\n",
      "File \u001b[0;32m~/Library/Caches/pypoetry/virtualenvs/datasets-nkKhg9Ck-py3.9/lib/python3.9/site-packages/pinecone/core/grpc/index_grpc.py:149\u001b[0m, in \u001b[0;36mGRPCIndexBase._wrap_grpc_call.<locals>.wrapped\u001b[0;34m()\u001b[0m\n\u001b[1;32m    145\u001b[0m _metadata \u001b[39m=\u001b[39m \u001b[39mtuple\u001b[39m((k, v) \u001b[39mfor\u001b[39;00m k, v \u001b[39min\u001b[39;00m {\n\u001b[1;32m    146\u001b[0m     \u001b[39m*\u001b[39m\u001b[39m*\u001b[39m\u001b[39mself\u001b[39m\u001b[39m.\u001b[39mfixed_metadata, \u001b[39m*\u001b[39m\u001b[39m*\u001b[39m\u001b[39mself\u001b[39m\u001b[39m.\u001b[39m_request_metadata(), \u001b[39m*\u001b[39m\u001b[39m*\u001b[39muser_provided_metadata\n\u001b[1;32m    147\u001b[0m }\u001b[39m.\u001b[39mitems())\n\u001b[1;32m    148\u001b[0m \u001b[39mtry\u001b[39;00m:\n\u001b[0;32m--> 149\u001b[0m     \u001b[39mreturn\u001b[39;00m func(request, timeout\u001b[39m=\u001b[39;49mtimeout, metadata\u001b[39m=\u001b[39;49m_metadata, credentials\u001b[39m=\u001b[39;49mcredentials,\n\u001b[1;32m    150\u001b[0m                 wait_for_ready\u001b[39m=\u001b[39;49mwait_for_ready, compression\u001b[39m=\u001b[39;49mcompression)\n\u001b[1;32m    151\u001b[0m \u001b[39mexcept\u001b[39;00m _InactiveRpcError \u001b[39mas\u001b[39;00m e:\n\u001b[1;32m    152\u001b[0m     \u001b[39mraise\u001b[39;00m PineconeException(e\u001b[39m.\u001b[39m_state\u001b[39m.\u001b[39mdebug_error_string) \u001b[39mfrom\u001b[39;00m \u001b[39me\u001b[39;00m\n",
      "File \u001b[0;32m~/Library/Caches/pypoetry/virtualenvs/datasets-nkKhg9Ck-py3.9/lib/python3.9/site-packages/grpc/_interceptor.py:247\u001b[0m, in \u001b[0;36m_UnaryUnaryMultiCallable.__call__\u001b[0;34m(self, request, timeout, metadata, credentials, wait_for_ready, compression)\u001b[0m\n\u001b[1;32m    240\u001b[0m \u001b[39mdef\u001b[39;00m \u001b[39m__call__\u001b[39m(\u001b[39mself\u001b[39m,\n\u001b[1;32m    241\u001b[0m              request: Any,\n\u001b[1;32m    242\u001b[0m              timeout: Optional[\u001b[39mfloat\u001b[39m] \u001b[39m=\u001b[39m \u001b[39mNone\u001b[39;00m,\n\u001b[0;32m   (...)\u001b[0m\n\u001b[1;32m    245\u001b[0m              wait_for_ready: Optional[\u001b[39mbool\u001b[39m] \u001b[39m=\u001b[39m \u001b[39mNone\u001b[39;00m,\n\u001b[1;32m    246\u001b[0m              compression: Optional[grpc\u001b[39m.\u001b[39mCompression] \u001b[39m=\u001b[39m \u001b[39mNone\u001b[39;00m) \u001b[39m-\u001b[39m\u001b[39m>\u001b[39m Any:\n\u001b[0;32m--> 247\u001b[0m     response, ignored_call \u001b[39m=\u001b[39m \u001b[39mself\u001b[39;49m\u001b[39m.\u001b[39;49m_with_call(request,\n\u001b[1;32m    248\u001b[0m                                              timeout\u001b[39m=\u001b[39;49mtimeout,\n\u001b[1;32m    249\u001b[0m                                              metadata\u001b[39m=\u001b[39;49mmetadata,\n\u001b[1;32m    250\u001b[0m                                              credentials\u001b[39m=\u001b[39;49mcredentials,\n\u001b[1;32m    251\u001b[0m                                              wait_for_ready\u001b[39m=\u001b[39;49mwait_for_ready,\n\u001b[1;32m    252\u001b[0m                                              compression\u001b[39m=\u001b[39;49mcompression)\n\u001b[1;32m    253\u001b[0m     \u001b[39mreturn\u001b[39;00m response\n",
      "File \u001b[0;32m~/Library/Caches/pypoetry/virtualenvs/datasets-nkKhg9Ck-py3.9/lib/python3.9/site-packages/grpc/_interceptor.py:287\u001b[0m, in \u001b[0;36m_UnaryUnaryMultiCallable._with_call\u001b[0;34m(self, request, timeout, metadata, credentials, wait_for_ready, compression)\u001b[0m\n\u001b[1;32m    284\u001b[0m     \u001b[39mexcept\u001b[39;00m \u001b[39mException\u001b[39;00m \u001b[39mas\u001b[39;00m exception:  \u001b[39m# pylint:disable=broad-except\u001b[39;00m\n\u001b[1;32m    285\u001b[0m         \u001b[39mreturn\u001b[39;00m _FailureOutcome(exception, sys\u001b[39m.\u001b[39mexc_info()[\u001b[39m2\u001b[39m])\n\u001b[0;32m--> 287\u001b[0m call \u001b[39m=\u001b[39m \u001b[39mself\u001b[39;49m\u001b[39m.\u001b[39;49m_interceptor\u001b[39m.\u001b[39;49mintercept_unary_unary(continuation,\n\u001b[1;32m    288\u001b[0m                                                client_call_details,\n\u001b[1;32m    289\u001b[0m                                                request)\n\u001b[1;32m    290\u001b[0m \u001b[39mreturn\u001b[39;00m call\u001b[39m.\u001b[39mresult(), call\n",
      "File \u001b[0;32m~/Library/Caches/pypoetry/virtualenvs/datasets-nkKhg9Ck-py3.9/lib/python3.9/site-packages/pinecone/core/grpc/retry.py:74\u001b[0m, in \u001b[0;36mRetryOnRpcErrorClientInterceptor.intercept_unary_unary\u001b[0;34m(self, continuation, client_call_details, request)\u001b[0m\n\u001b[1;32m     73\u001b[0m \u001b[39mdef\u001b[39;00m \u001b[39mintercept_unary_unary\u001b[39m(\u001b[39mself\u001b[39m, continuation, client_call_details, request):\n\u001b[0;32m---> 74\u001b[0m     \u001b[39mreturn\u001b[39;00m \u001b[39mself\u001b[39;49m\u001b[39m.\u001b[39;49m_intercept_call(continuation, client_call_details, request)\n",
      "File \u001b[0;32m~/Library/Caches/pypoetry/virtualenvs/datasets-nkKhg9Ck-py3.9/lib/python3.9/site-packages/pinecone/core/grpc/retry.py:67\u001b[0m, in \u001b[0;36mRetryOnRpcErrorClientInterceptor._intercept_call\u001b[0;34m(self, continuation, client_call_details, request_or_iterator)\u001b[0m\n\u001b[1;32m     65\u001b[0m response \u001b[39m=\u001b[39m \u001b[39mNone\u001b[39;00m\n\u001b[1;32m     66\u001b[0m \u001b[39mfor\u001b[39;00m try_i \u001b[39min\u001b[39;00m \u001b[39mrange\u001b[39m(\u001b[39mself\u001b[39m\u001b[39m.\u001b[39mmax_attempts):\n\u001b[0;32m---> 67\u001b[0m     response \u001b[39m=\u001b[39m continuation(client_call_details, request_or_iterator)\n\u001b[1;32m     68\u001b[0m     \u001b[39mif\u001b[39;00m \u001b[39mnot\u001b[39;00m \u001b[39mself\u001b[39m\u001b[39m.\u001b[39m_is_retryable_error(response):\n\u001b[1;32m     69\u001b[0m         \u001b[39mbreak\u001b[39;00m\n",
      "File \u001b[0;32m~/Library/Caches/pypoetry/virtualenvs/datasets-nkKhg9Ck-py3.9/lib/python3.9/site-packages/grpc/_interceptor.py:274\u001b[0m, in \u001b[0;36m_UnaryUnaryMultiCallable._with_call.<locals>.continuation\u001b[0;34m(new_details, request)\u001b[0m\n\u001b[1;32m    269\u001b[0m (new_method, new_timeout, new_metadata, new_credentials,\n\u001b[1;32m    270\u001b[0m  new_wait_for_ready,\n\u001b[1;32m    271\u001b[0m  new_compression) \u001b[39m=\u001b[39m (_unwrap_client_call_details(\n\u001b[1;32m    272\u001b[0m      new_details, client_call_details))\n\u001b[1;32m    273\u001b[0m \u001b[39mtry\u001b[39;00m:\n\u001b[0;32m--> 274\u001b[0m     response, call \u001b[39m=\u001b[39m \u001b[39mself\u001b[39;49m\u001b[39m.\u001b[39;49m_thunk(new_method)\u001b[39m.\u001b[39;49mwith_call(\n\u001b[1;32m    275\u001b[0m         request,\n\u001b[1;32m    276\u001b[0m         timeout\u001b[39m=\u001b[39;49mnew_timeout,\n\u001b[1;32m    277\u001b[0m         metadata\u001b[39m=\u001b[39;49mnew_metadata,\n\u001b[1;32m    278\u001b[0m         credentials\u001b[39m=\u001b[39;49mnew_credentials,\n\u001b[1;32m    279\u001b[0m         wait_for_ready\u001b[39m=\u001b[39;49mnew_wait_for_ready,\n\u001b[1;32m    280\u001b[0m         compression\u001b[39m=\u001b[39;49mnew_compression)\n\u001b[1;32m    281\u001b[0m     \u001b[39mreturn\u001b[39;00m _UnaryOutcome(response, call)\n\u001b[1;32m    282\u001b[0m \u001b[39mexcept\u001b[39;00m grpc\u001b[39m.\u001b[39mRpcError \u001b[39mas\u001b[39;00m rpc_error:\n",
      "File \u001b[0;32m~/Library/Caches/pypoetry/virtualenvs/datasets-nkKhg9Ck-py3.9/lib/python3.9/site-packages/grpc/_channel.py:955\u001b[0m, in \u001b[0;36m_UnaryUnaryMultiCallable.with_call\u001b[0;34m(self, request, timeout, metadata, credentials, wait_for_ready, compression)\u001b[0m\n\u001b[1;32m    948\u001b[0m \u001b[39mdef\u001b[39;00m \u001b[39mwith_call\u001b[39m(\u001b[39mself\u001b[39m,\n\u001b[1;32m    949\u001b[0m               request,\n\u001b[1;32m    950\u001b[0m               timeout\u001b[39m=\u001b[39m\u001b[39mNone\u001b[39;00m,\n\u001b[0;32m   (...)\u001b[0m\n\u001b[1;32m    953\u001b[0m               wait_for_ready\u001b[39m=\u001b[39m\u001b[39mNone\u001b[39;00m,\n\u001b[1;32m    954\u001b[0m               compression\u001b[39m=\u001b[39m\u001b[39mNone\u001b[39;00m):\n\u001b[0;32m--> 955\u001b[0m     state, call, \u001b[39m=\u001b[39m \u001b[39mself\u001b[39;49m\u001b[39m.\u001b[39;49m_blocking(request, timeout, metadata, credentials,\n\u001b[1;32m    956\u001b[0m                                   wait_for_ready, compression)\n\u001b[1;32m    957\u001b[0m     \u001b[39mreturn\u001b[39;00m _end_unary_response_blocking(state, call, \u001b[39mTrue\u001b[39;00m, \u001b[39mNone\u001b[39;00m)\n",
      "File \u001b[0;32m~/Library/Caches/pypoetry/virtualenvs/datasets-nkKhg9Ck-py3.9/lib/python3.9/site-packages/grpc/_channel.py:933\u001b[0m, in \u001b[0;36m_UnaryUnaryMultiCallable._blocking\u001b[0;34m(self, request, timeout, metadata, credentials, wait_for_ready, compression)\u001b[0m\n\u001b[1;32m    925\u001b[0m \u001b[39melse\u001b[39;00m:\n\u001b[1;32m    926\u001b[0m     call \u001b[39m=\u001b[39m \u001b[39mself\u001b[39m\u001b[39m.\u001b[39m_channel\u001b[39m.\u001b[39msegregated_call(\n\u001b[1;32m    927\u001b[0m         cygrpc\u001b[39m.\u001b[39mPropagationConstants\u001b[39m.\u001b[39mGRPC_PROPAGATE_DEFAULTS,\n\u001b[1;32m    928\u001b[0m         \u001b[39mself\u001b[39m\u001b[39m.\u001b[39m_method, \u001b[39mNone\u001b[39;00m, _determine_deadline(deadline), metadata,\n\u001b[0;32m   (...)\u001b[0m\n\u001b[1;32m    931\u001b[0m             \u001b[39mNone\u001b[39;00m,\n\u001b[1;32m    932\u001b[0m         ),), \u001b[39mself\u001b[39m\u001b[39m.\u001b[39m_context)\n\u001b[0;32m--> 933\u001b[0m     event \u001b[39m=\u001b[39m call\u001b[39m.\u001b[39;49mnext_event()\n\u001b[1;32m    934\u001b[0m     _handle_event(event, state, \u001b[39mself\u001b[39m\u001b[39m.\u001b[39m_response_deserializer)\n\u001b[1;32m    935\u001b[0m     \u001b[39mreturn\u001b[39;00m state, call\n",
      "File \u001b[0;32msrc/python/grpcio/grpc/_cython/_cygrpc/channel.pyx.pxi:338\u001b[0m, in \u001b[0;36mgrpc._cython.cygrpc.SegregatedCall.next_event\u001b[0;34m()\u001b[0m\n",
      "File \u001b[0;32msrc/python/grpcio/grpc/_cython/_cygrpc/channel.pyx.pxi:169\u001b[0m, in \u001b[0;36mgrpc._cython.cygrpc._next_call_event\u001b[0;34m()\u001b[0m\n",
      "File \u001b[0;32msrc/python/grpcio/grpc/_cython/_cygrpc/channel.pyx.pxi:163\u001b[0m, in \u001b[0;36mgrpc._cython.cygrpc._next_call_event\u001b[0;34m()\u001b[0m\n",
      "File \u001b[0;32msrc/python/grpcio/grpc/_cython/_cygrpc/completion_queue.pyx.pxi:78\u001b[0m, in \u001b[0;36mgrpc._cython.cygrpc._latent_event\u001b[0;34m()\u001b[0m\n",
      "File \u001b[0;32msrc/python/grpcio/grpc/_cython/_cygrpc/completion_queue.pyx.pxi:62\u001b[0m, in \u001b[0;36mgrpc._cython.cygrpc._internal_latent_event\u001b[0;34m()\u001b[0m\n",
      "File \u001b[0;32msrc/python/grpcio/grpc/_cython/_cygrpc/completion_queue.pyx.pxi:58\u001b[0m, in \u001b[0;36mgrpc._cython.cygrpc._interpret_event\u001b[0;34m()\u001b[0m\n",
      "File \u001b[0;32msrc/python/grpcio/grpc/_cython/_cygrpc/tag.pyx.pxi:71\u001b[0m, in \u001b[0;36mgrpc._cython.cygrpc._BatchOperationTag.event\u001b[0;34m()\u001b[0m\n",
      "File \u001b[0;32msrc/python/grpcio/grpc/_cython/_cygrpc/operation.pyx.pxi:138\u001b[0m, in \u001b[0;36mgrpc._cython.cygrpc.ReceiveInitialMetadataOperation.un_c\u001b[0;34m()\u001b[0m\n",
      "File \u001b[0;32msrc/python/grpcio/grpc/_cython/_cygrpc/metadata.pyx.pxi:69\u001b[0m, in \u001b[0;36mgrpc._cython.cygrpc._metadata\u001b[0;34m()\u001b[0m\n",
      "File \u001b[0;32msrc/python/grpcio/grpc/_cython/_cygrpc/metadata.pyx.pxi:70\u001b[0m, in \u001b[0;36mgenexpr\u001b[0;34m()\u001b[0m\n",
      "File \u001b[0;32msrc/python/grpcio/grpc/_cython/_cygrpc/metadata.pyx.pxi:64\u001b[0m, in \u001b[0;36mgrpc._cython.cygrpc._metadatum\u001b[0;34m()\u001b[0m\n",
      "File \u001b[0;32m<string>:1\u001b[0m, in \u001b[0;36m<lambda>\u001b[0;34m(_cls, key, value)\u001b[0m\n",
      "\u001b[0;31mKeyboardInterrupt\u001b[0m: "
     ]
    },
    {
     "name": "stderr",
     "output_type": "stream",
     "text": [
      "Upserted vectors:  18%|█▊        | 93600/522931 [02:20<08:37, 830.39it/s]"
     ]
    }
   ],
   "source": [
    "index.upsert(as_dicts, batch_size=300)"
   ]
  },
  {
   "cell_type": "code",
   "execution_count": 30,
   "metadata": {},
   "outputs": [
    {
     "data": {
      "text/plain": [
       "(522931, 5)"
      ]
     },
     "execution_count": 30,
     "metadata": {},
     "output_type": "execute_result"
    }
   ],
   "source": [
    "quora_splade.documents.shape"
   ]
  },
  {
   "cell_type": "code",
   "execution_count": null,
   "metadata": {},
   "outputs": [],
   "source": [
    "quora_bm25 = load_dataset(\"quora_all-MiniLM-L6-bm25\")"
   ]
  },
  {
   "cell_type": "code",
   "execution_count": null,
   "metadata": {},
   "outputs": [
    {
     "data": {
      "text/html": [
       "<div>\n",
       "<style>\n",
       ".pl-dataframe > thead > tr > th {\n",
       "  text-align: right;\n",
       "}\n",
       "</style>\n",
       "\n",
       "<table border=\"1\" class=\"dataframe pl-dataframe\">\n",
       "<small>shape: (5, 5)</small>\n",
       "<thead>\n",
       "<tr>\n",
       "<th>\n",
       "id\n",
       "</th>\n",
       "<th>\n",
       "values\n",
       "</th>\n",
       "<th>\n",
       "sparse_values\n",
       "</th>\n",
       "<th>\n",
       "metadata\n",
       "</th>\n",
       "<th>\n",
       "blob\n",
       "</th>\n",
       "</tr>\n",
       "<tr>\n",
       "<td>\n",
       "str\n",
       "</td>\n",
       "<td>\n",
       "list[f32]\n",
       "</td>\n",
       "<td>\n",
       "struct[2]\n",
       "</td>\n",
       "<td>\n",
       "str\n",
       "</td>\n",
       "<td>\n",
       "struct[1]\n",
       "</td>\n",
       "</tr>\n",
       "</thead>\n",
       "<tbody>\n",
       "<tr>\n",
       "<td>\n",
       "&quot;1&quot;\n",
       "</td>\n",
       "<td>\n",
       "[0.402489, -0.234254, ... 0.222465]\n",
       "</td>\n",
       "<td>\n",
       "{[7096, 8508, ... 62793],[0.375571, 0.375571, ... 0.375571]}\n",
       "</td>\n",
       "<td>\n",
       "null\n",
       "</td>\n",
       "<td>\n",
       "{&quot; What is the step by step guide to invest in share market in india?&quot;}\n",
       "</td>\n",
       "</tr>\n",
       "<tr>\n",
       "<td>\n",
       "&quot;2&quot;\n",
       "</td>\n",
       "<td>\n",
       "[0.511194, -0.198763, ... 0.238244]\n",
       "</td>\n",
       "<td>\n",
       "{[7096, 8508, ... 62793],[0.388738, 0.388738, ... 0.388738]}\n",
       "</td>\n",
       "<td>\n",
       "null\n",
       "</td>\n",
       "<td>\n",
       "{&quot; What is the step by step guide to invest in share market?&quot;}\n",
       "</td>\n",
       "</tr>\n",
       "<tr>\n",
       "<td>\n",
       "&quot;3&quot;\n",
       "</td>\n",
       "<td>\n",
       "[-0.223715, 0.741517, ... 0.191113]\n",
       "</td>\n",
       "<td>\n",
       "{[6065, 13677, ... 62793],[0.363266, 0.363266, ... 0.363266]}\n",
       "</td>\n",
       "<td>\n",
       "null\n",
       "</td>\n",
       "<td>\n",
       "{&quot; What is the story of Kohinoor (Koh-i-Noor) Diamond?&quot;}\n",
       "</td>\n",
       "</tr>\n",
       "<tr>\n",
       "<td>\n",
       "&quot;4&quot;\n",
       "</td>\n",
       "<td>\n",
       "[-0.37124, 0.709703, ... -0.049561]\n",
       "</td>\n",
       "<td>\n",
       "{[2408, 6065, ... 63403],[0.321177, 0.321177, ... 0.321177]}\n",
       "</td>\n",
       "<td>\n",
       "null\n",
       "</td>\n",
       "<td>\n",
       "{&quot; What would happen if the Indian government stole the Kohinoor (Koh-i-Noor) diamond back?&quot;}\n",
       "</td>\n",
       "</tr>\n",
       "<tr>\n",
       "<td>\n",
       "&quot;5&quot;\n",
       "</td>\n",
       "<td>\n",
       "[-0.166566, 0.218813, ... -0.097715]\n",
       "</td>\n",
       "<td>\n",
       "{[5388, 12812, ... 54946],[0.351742, 0.351742, ... 0.351742]}\n",
       "</td>\n",
       "<td>\n",
       "null\n",
       "</td>\n",
       "<td>\n",
       "{&quot; How can I increase the speed of my internet connection while using a VPN?&quot;}\n",
       "</td>\n",
       "</tr>\n",
       "</tbody>\n",
       "</table>\n",
       "</div>"
      ],
      "text/plain": [
       "shape: (5, 5)\n",
       "┌─────┬──────────────────────────────┬────────────────────┬──────────┬─────────────────────────────┐\n",
       "│ id  ┆ values                       ┆ sparse_values      ┆ metadata ┆ blob                        │\n",
       "│ --- ┆ ---                          ┆ ---                ┆ ---      ┆ ---                         │\n",
       "│ str ┆ list[f32]                    ┆ struct[2]          ┆ str      ┆ struct[1]                   │\n",
       "╞═════╪══════════════════════════════╪════════════════════╪══════════╪═════════════════════════════╡\n",
       "│ 1   ┆ [0.402489, -0.234254, ...    ┆ {[7096, 8508, ...  ┆ null     ┆ {\" What is the step by step │\n",
       "│     ┆ 0.2224...                    ┆ 62793],[0.3755...  ┆          ┆ guid...                     │\n",
       "│ 2   ┆ [0.511194, -0.198763, ...    ┆ {[7096, 8508, ...  ┆ null     ┆ {\" What is the step by step │\n",
       "│     ┆ 0.2382...                    ┆ 62793],[0.3887...  ┆          ┆ guid...                     │\n",
       "│ 3   ┆ [-0.223715, 0.741517, ...    ┆ {[6065, 13677, ... ┆ null     ┆ {\" What is the story of     │\n",
       "│     ┆ 0.1911...                    ┆ 62793],[0.363...   ┆          ┆ Kohinoor...                 │\n",
       "│ 4   ┆ [-0.37124, 0.709703, ...     ┆ {[2408, 6065, ...  ┆ null     ┆ {\" What would happen if the │\n",
       "│     ┆ -0.0495...                   ┆ 63403],[0.3211...  ┆          ┆ Indi...                     │\n",
       "│ 5   ┆ [-0.166566, 0.218813, ...    ┆ {[5388, 12812, ... ┆ null     ┆ {\" How can I increase the   │\n",
       "│     ┆ -0.097...                    ┆ 54946],[0.351...   ┆          ┆ speed ...                   │\n",
       "└─────┴──────────────────────────────┴────────────────────┴──────────┴─────────────────────────────┘"
      ]
     },
     "execution_count": 22,
     "metadata": {},
     "output_type": "execute_result"
    }
   ],
   "source": [
    "quora_bm25.head()"
   ]
  },
  {
   "cell_type": "code",
   "execution_count": null,
   "metadata": {},
   "outputs": [
    {
     "data": {
      "text/html": [
       "<div>\n",
       "<style>\n",
       ".pl-dataframe > thead > tr > th {\n",
       "  text-align: right;\n",
       "}\n",
       "</style>\n",
       "\n",
       "<table border=\"1\" class=\"dataframe pl-dataframe\">\n",
       "<small>shape: (0, 0)</small>\n",
       "<thead>\n",
       "<tr>\n",
       "</tr>\n",
       "<tr>\n",
       "</tr>\n",
       "</thead>\n",
       "<tbody>\n",
       "</tbody>\n",
       "</table>\n",
       "</div>"
      ],
      "text/plain": [
       "shape: (0, 0)\n",
       "┌┐\n",
       "╞╡\n",
       "└┘"
      ]
     },
     "execution_count": 23,
     "metadata": {},
     "output_type": "execute_result"
    }
   ],
   "source": [
    "quora_bm25.queries.head()"
   ]
  },
  {
   "cell_type": "code",
   "execution_count": null,
   "metadata": {},
   "outputs": [],
   "source": [
    "import "
   ]
  }
 ],
 "metadata": {
  "kernelspec": {
   "display_name": "datasets-nkKhg9Ck-py3.9",
   "language": "python",
   "name": "python3"
  },
  "language_info": {
   "codemirror_mode": {
    "name": "ipython",
    "version": 3
   },
   "file_extension": ".py",
   "mimetype": "text/x-python",
   "name": "python",
   "nbconvert_exporter": "python",
   "pygments_lexer": "ipython3",
   "version": "3.9.6"
  },
  "orig_nbformat": 4,
  "vscode": {
   "interpreter": {
    "hash": "de99b2fe0f2c134d7ade9758e8240c0683da9468971794eea0bce5366b5320e2"
   }
  }
 },
 "nbformat": 4,
 "nbformat_minor": 2
}
